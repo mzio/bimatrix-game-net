{
  "nbformat": 4,
  "nbformat_minor": 0,
  "metadata": {
    "colab": {
      "name": "2.0-mz-convolutional_regression.ipynb",
      "provenance": [],
      "collapsed_sections": [],
      "toc_visible": true
    },
    "kernelspec": {
      "name": "python3",
      "display_name": "Python 3"
    },
    "accelerator": "GPU"
  },
  "cells": [
    {
      "cell_type": "code",
      "metadata": {
        "id": "T0zhECNVezok",
        "colab_type": "code",
        "colab": {}
      },
      "source": [
        "%matplotlib inline"
      ],
      "execution_count": 0,
      "outputs": []
    },
    {
      "cell_type": "markdown",
      "metadata": {
        "id": "ReWMh8BiHTaZ",
        "colab_type": "text"
      },
      "source": [
        "## **ConvNets for predicting bimatrix gameplay**"
      ]
    },
    {
      "cell_type": "code",
      "metadata": {
        "id": "KRFj98-YG5wK",
        "colab_type": "code",
        "colab": {}
      },
      "source": [
        "import pandas as pd\n",
        "import numpy as np\n",
        "\n",
        "import torch\n",
        "import torch.optim as optim\n",
        "\n",
        "import matplotlib.pyplot as plt"
      ],
      "execution_count": 0,
      "outputs": []
    },
    {
      "cell_type": "code",
      "metadata": {
        "id": "ShZzvDsYN5mL",
        "colab_type": "code",
        "colab": {}
      },
      "source": [
        "from tqdm import tqdm"
      ],
      "execution_count": 0,
      "outputs": []
    },
    {
      "cell_type": "code",
      "metadata": {
        "id": "z4KOzx5ZHGtF",
        "colab_type": "code",
        "colab": {}
      },
      "source": [
        "df_train_features = pd.read_csv('./hb_train_feature.csv')\n",
        "df_test_features = pd.read_csv('./hb_test_feature.csv')\n",
        "df_train_truth = pd.read_csv('./hb_train_truth.csv')"
      ],
      "execution_count": 0,
      "outputs": []
    },
    {
      "cell_type": "markdown",
      "metadata": {
        "id": "b9ZSB9dzNiQn",
        "colab_type": "text"
      },
      "source": [
        "### **Configuration variables**"
      ]
    },
    {
      "cell_type": "code",
      "metadata": {
        "id": "ai7zOt7XNl2n",
        "colab_type": "code",
        "colab": {}
      },
      "source": [
        "DEVICE = torch.device('cuda') if torch.cuda.is_available() else torch.device('cpu')\n",
        "BATCH_SIZE = 32\n",
        "SHUFFLE = True\n",
        "SEED = 42\n",
        "TRAIN_SPLIT = 0.6\n",
        "VAL_SPLIT = 0.2\n",
        "TEST_SPLIT = 0.2\n",
        "EPOCHS = 10"
      ],
      "execution_count": 0,
      "outputs": []
    },
    {
      "cell_type": "markdown",
      "metadata": {
        "id": "fmEAAf95HRm5",
        "colab_type": "text"
      },
      "source": [
        "### **Convert data format and normalize**"
      ]
    },
    {
      "cell_type": "code",
      "metadata": {
        "id": "yBN_73YyHnJR",
        "colab_type": "code",
        "colab": {}
      },
      "source": [
        "def view_game_matrix(df_row):\n",
        "    \"\"\"\n",
        "    View payoffs in 3x3 matrix format\n",
        "    inputs\n",
        "        df_row : Pandas series object, e.g. df.iloc[0]\n",
        "    returns\n",
        "        [row_payoffs, col_payoffs] : np.array (2x3x3)\n",
        "    \"\"\"\n",
        "    return df_row.values.reshape(2, 3, 3)\n",
        "\n",
        "def normalize(matrix):\n",
        "    \"\"\"\n",
        "    Method to normalize a given matrix\n",
        "    input:\n",
        "        matrix : np.array, the payouts \n",
        "    output:\n",
        "        np.array, the matrix normalized\n",
        "    \"\"\"\n",
        "    min_val = np.min(matrix)\n",
        "    max_val = np.max(matrix)\n",
        "    return (matrix - min_val) / (max_val - min_val)\n",
        "    \n",
        "def get_payoff_matrices(df, rows_first=False, normalized=True):\n",
        "    \"\"\"\n",
        "    Convert input dataframe into new normed payoff data\n",
        "    input:\n",
        "        df : pandas.DataFrame\n",
        "        rows_first : bool, if true, separate data into first row payoffs and then columns, \n",
        "        otherwise row and col payoffs lumped next to each other\n",
        "        normalized : bool, if true, normalize the matrices\n",
        "    output:\n",
        "        np.array, the converted data \n",
        "    \"\"\"\n",
        "    if normalized:\n",
        "        df = df.apply(normalize, axis=0)\n",
        "    matrices = np.zeros([2 * df.shape[0], 3, 3])\n",
        "    for row_ix in range(df.shape[0]):\n",
        "        payoffs = view_game_matrix(df.iloc[row_ix])\n",
        "        if rows_first:\n",
        "            matrices[row_ix] = payoffs[0]\n",
        "            matrices[row_ix + df.shape[0]] = payoffs[1]\n",
        "        else:\n",
        "            matrices[row_ix * 2] = payoffs[0]\n",
        "            matrices[row_ix * 2 + 1] = payoffs[1]\n",
        "#     if normalized:\n",
        "#         matrices = np.array([normalize(matrices[ix]) for ix in range(matrices.shape[0])])\n",
        "    return matrices"
      ],
      "execution_count": 0,
      "outputs": []
    },
    {
      "cell_type": "code",
      "metadata": {
        "id": "lEmsp16EHt3I",
        "colab_type": "code",
        "colab": {}
      },
      "source": [
        "norm_payoffs = get_payoff_matrices(df_train_features, rows_first=True, normalized=True)"
      ],
      "execution_count": 0,
      "outputs": []
    },
    {
      "cell_type": "code",
      "metadata": {
        "id": "oi_bsyrRIiLq",
        "colab_type": "code",
        "outputId": "c5f8bb52-c54d-4279-9d37-4f74e6e0687c",
        "colab": {
          "base_uri": "https://localhost:8080/",
          "height": 204
        }
      },
      "source": [
        "norm_payoffs[:3]"
      ],
      "execution_count": 8,
      "outputs": [
        {
          "output_type": "execute_result",
          "data": {
            "text/plain": [
              "array([[[0.8 , 0.5 , 0.8 ],\n",
              "        [0.2 , 0.9 , 0.6 ],\n",
              "        [0.3 , 0.1 , 0.1 ]],\n",
              "\n",
              "       [[0.2 , 0.51, 0.5 ],\n",
              "        [0.1 , 0.7 , 0.3 ],\n",
              "        [0.6 , 0.05, 0.45]],\n",
              "\n",
              "       [[0.7 , 1.  , 0.48],\n",
              "        [0.1 , 0.29, 0.4 ],\n",
              "        [0.4 , 0.6 , 1.  ]]])"
            ]
          },
          "metadata": {
            "tags": []
          },
          "execution_count": 8
        }
      ]
    },
    {
      "cell_type": "markdown",
      "metadata": {
        "id": "95VchD4AHzYW",
        "colab_type": "text"
      },
      "source": [
        "### **Augment data with row swaps**"
      ]
    },
    {
      "cell_type": "code",
      "metadata": {
        "id": "R6UC7aAKH6cu",
        "colab_type": "code",
        "colab": {}
      },
      "source": [
        "import itertools\n",
        "orderings = list(itertools.permutations([0, 1, 2]))"
      ],
      "execution_count": 0,
      "outputs": []
    },
    {
      "cell_type": "code",
      "metadata": {
        "id": "0baywMQwH8l_",
        "colab_type": "code",
        "colab": {}
      },
      "source": [
        "norm_payoffs_r = norm_payoffs[:250]\n",
        "norm_payoffs_c = norm_payoffs[250:]"
      ],
      "execution_count": 0,
      "outputs": []
    },
    {
      "cell_type": "code",
      "metadata": {
        "id": "CNxTqf5hICkm",
        "colab_type": "code",
        "colab": {}
      },
      "source": [
        "def transform(payoffs, rotations):  # rotations = [2, 1, 0]\n",
        "#     temp = norm_payoffs_c[:, 0]\n",
        "    new_payoffs = np.zeros(payoffs.shape)\n",
        "    for ix in range(len(rotations)):\n",
        "        new_payoffs[:, ix] = payoffs[:, rotations[ix]]\n",
        "    return new_payoffs"
      ],
      "execution_count": 0,
      "outputs": []
    },
    {
      "cell_type": "code",
      "metadata": {
        "id": "q1wTTHafIDcC",
        "colab_type": "code",
        "colab": {}
      },
      "source": [
        "augmented_data = []\n",
        "augmented_labels = []\n",
        "for order in orderings:\n",
        "    trans_payoffs_r = transform(norm_payoffs_r, order)\n",
        "    trans_payoffs_c = transform(norm_payoffs_c, order)\n",
        "    trans_freq = df_train_truth.apply(lambda x: x[list(order)], axis=1).values\n",
        "    augmented_data.append(np.array([trans_payoffs_r, trans_payoffs_c]))\n",
        "    augmented_labels.append(trans_freq)"
      ],
      "execution_count": 0,
      "outputs": []
    },
    {
      "cell_type": "code",
      "metadata": {
        "id": "sm2uO-fsPFMh",
        "colab_type": "code",
        "colab": {}
      },
      "source": [
        "augmented_data[0][:3]"
      ],
      "execution_count": 0,
      "outputs": []
    },
    {
      "cell_type": "markdown",
      "metadata": {
        "id": "8GX6sMTwJiM1",
        "colab_type": "text"
      },
      "source": [
        "## **Prepare actual data**"
      ]
    },
    {
      "cell_type": "code",
      "metadata": {
        "id": "7_cjAIgTKA2c",
        "colab_type": "code",
        "colab": {}
      },
      "source": [
        "from torch.utils.data import Dataset"
      ],
      "execution_count": 0,
      "outputs": []
    },
    {
      "cell_type": "code",
      "metadata": {
        "id": "Pm318bc0IE_S",
        "colab_type": "code",
        "colab": {}
      },
      "source": [
        "game_labels = np.array(augmented_labels).reshape(250 * 6, 3)"
      ],
      "execution_count": 0,
      "outputs": []
    },
    {
      "cell_type": "code",
      "metadata": {
        "id": "xXN1GaA2JZZy",
        "colab_type": "code",
        "colab": {}
      },
      "source": [
        "game_data = np.array(augmented_data).transpose([0, 2, 1, 3, 4]).reshape(250 * 6, 2, 3, 3)"
      ],
      "execution_count": 0,
      "outputs": []
    },
    {
      "cell_type": "code",
      "metadata": {
        "id": "UsEcpHB4M8RZ",
        "colab_type": "code",
        "outputId": "277dbdee-36e3-4678-ff4b-eb6383502cec",
        "colab": {
          "base_uri": "https://localhost:8080/",
          "height": 204
        }
      },
      "source": [
        "df_train_features.head()"
      ],
      "execution_count": 17,
      "outputs": [
        {
          "output_type": "execute_result",
          "data": {
            "text/html": [
              "<div>\n",
              "<style scoped>\n",
              "    .dataframe tbody tr th:only-of-type {\n",
              "        vertical-align: middle;\n",
              "    }\n",
              "\n",
              "    .dataframe tbody tr th {\n",
              "        vertical-align: top;\n",
              "    }\n",
              "\n",
              "    .dataframe thead th {\n",
              "        text-align: right;\n",
              "    }\n",
              "</style>\n",
              "<table border=\"1\" class=\"dataframe\">\n",
              "  <thead>\n",
              "    <tr style=\"text-align: right;\">\n",
              "      <th></th>\n",
              "      <th>r11</th>\n",
              "      <th>r12</th>\n",
              "      <th>r13</th>\n",
              "      <th>r21</th>\n",
              "      <th>r22</th>\n",
              "      <th>r23</th>\n",
              "      <th>r31</th>\n",
              "      <th>r32</th>\n",
              "      <th>r33</th>\n",
              "      <th>c11</th>\n",
              "      <th>c12</th>\n",
              "      <th>c13</th>\n",
              "      <th>c21</th>\n",
              "      <th>c22</th>\n",
              "      <th>c23</th>\n",
              "      <th>c31</th>\n",
              "      <th>c32</th>\n",
              "      <th>c33</th>\n",
              "    </tr>\n",
              "  </thead>\n",
              "  <tbody>\n",
              "    <tr>\n",
              "      <th>0</th>\n",
              "      <td>80.0</td>\n",
              "      <td>50.0</td>\n",
              "      <td>80.0</td>\n",
              "      <td>20.0</td>\n",
              "      <td>90.0</td>\n",
              "      <td>60.0</td>\n",
              "      <td>30.0</td>\n",
              "      <td>10.0</td>\n",
              "      <td>10.0</td>\n",
              "      <td>70.0</td>\n",
              "      <td>30.0</td>\n",
              "      <td>40.0</td>\n",
              "      <td>60.0</td>\n",
              "      <td>10.0</td>\n",
              "      <td>70.0</td>\n",
              "      <td>10.0</td>\n",
              "      <td>40.0</td>\n",
              "      <td>50.0</td>\n",
              "    </tr>\n",
              "    <tr>\n",
              "      <th>1</th>\n",
              "      <td>20.0</td>\n",
              "      <td>51.0</td>\n",
              "      <td>50.0</td>\n",
              "      <td>10.0</td>\n",
              "      <td>70.0</td>\n",
              "      <td>30.0</td>\n",
              "      <td>60.0</td>\n",
              "      <td>5.0</td>\n",
              "      <td>45.0</td>\n",
              "      <td>20.0</td>\n",
              "      <td>10.0</td>\n",
              "      <td>60.0</td>\n",
              "      <td>51.0</td>\n",
              "      <td>70.0</td>\n",
              "      <td>5.0</td>\n",
              "      <td>50.0</td>\n",
              "      <td>30.0</td>\n",
              "      <td>45.0</td>\n",
              "    </tr>\n",
              "    <tr>\n",
              "      <th>2</th>\n",
              "      <td>70.0</td>\n",
              "      <td>100.0</td>\n",
              "      <td>48.0</td>\n",
              "      <td>10.0</td>\n",
              "      <td>29.0</td>\n",
              "      <td>40.0</td>\n",
              "      <td>40.0</td>\n",
              "      <td>60.0</td>\n",
              "      <td>100.0</td>\n",
              "      <td>70.0</td>\n",
              "      <td>10.0</td>\n",
              "      <td>40.0</td>\n",
              "      <td>100.0</td>\n",
              "      <td>29.0</td>\n",
              "      <td>60.0</td>\n",
              "      <td>48.0</td>\n",
              "      <td>40.0</td>\n",
              "      <td>100.0</td>\n",
              "    </tr>\n",
              "    <tr>\n",
              "      <th>3</th>\n",
              "      <td>20.0</td>\n",
              "      <td>60.0</td>\n",
              "      <td>70.0</td>\n",
              "      <td>30.0</td>\n",
              "      <td>90.0</td>\n",
              "      <td>20.0</td>\n",
              "      <td>40.0</td>\n",
              "      <td>40.0</td>\n",
              "      <td>50.0</td>\n",
              "      <td>40.0</td>\n",
              "      <td>20.0</td>\n",
              "      <td>80.0</td>\n",
              "      <td>90.0</td>\n",
              "      <td>40.0</td>\n",
              "      <td>90.0</td>\n",
              "      <td>60.0</td>\n",
              "      <td>10.0</td>\n",
              "      <td>60.0</td>\n",
              "    </tr>\n",
              "    <tr>\n",
              "      <th>4</th>\n",
              "      <td>13.0</td>\n",
              "      <td>80.0</td>\n",
              "      <td>60.0</td>\n",
              "      <td>74.0</td>\n",
              "      <td>20.0</td>\n",
              "      <td>70.0</td>\n",
              "      <td>60.0</td>\n",
              "      <td>100.0</td>\n",
              "      <td>10.0</td>\n",
              "      <td>13.0</td>\n",
              "      <td>74.0</td>\n",
              "      <td>60.0</td>\n",
              "      <td>80.0</td>\n",
              "      <td>20.0</td>\n",
              "      <td>100.0</td>\n",
              "      <td>60.0</td>\n",
              "      <td>70.0</td>\n",
              "      <td>10.0</td>\n",
              "    </tr>\n",
              "  </tbody>\n",
              "</table>\n",
              "</div>"
            ],
            "text/plain": [
              "    r11    r12   r13   r21   r22   r23  ...    c21   c22    c23   c31   c32    c33\n",
              "0  80.0   50.0  80.0  20.0  90.0  60.0  ...   60.0  10.0   70.0  10.0  40.0   50.0\n",
              "1  20.0   51.0  50.0  10.0  70.0  30.0  ...   51.0  70.0    5.0  50.0  30.0   45.0\n",
              "2  70.0  100.0  48.0  10.0  29.0  40.0  ...  100.0  29.0   60.0  48.0  40.0  100.0\n",
              "3  20.0   60.0  70.0  30.0  90.0  20.0  ...   90.0  40.0   90.0  60.0  10.0   60.0\n",
              "4  13.0   80.0  60.0  74.0  20.0  70.0  ...   80.0  20.0  100.0  60.0  70.0   10.0\n",
              "\n",
              "[5 rows x 18 columns]"
            ]
          },
          "metadata": {
            "tags": []
          },
          "execution_count": 17
        }
      ]
    },
    {
      "cell_type": "markdown",
      "metadata": {
        "id": "shVZlU8OP7i5",
        "colab_type": "text"
      },
      "source": [
        "#### **Add / convert channels (feature engineering)**\n",
        "Predicting from the perspective of the row player. The row player may only care about the value with respect to the highest value, as well as its difference to the other payoff."
      ]
    },
    {
      "cell_type": "code",
      "metadata": {
        "id": "zg_ihjXzPbBJ",
        "colab_type": "code",
        "outputId": "3f8b790f-8945-41ea-cd83-f8c0ad3c0f06",
        "colab": {
          "base_uri": "https://localhost:8080/",
          "height": 204
        }
      },
      "source": [
        "# Difference between the row and col payoffs\n",
        "game_data_rc_diffs = game_data[:, 0, :, :] - game_data[:, 1, :, :]\n",
        "game_data_rc_diffs[:3]"
      ],
      "execution_count": 18,
      "outputs": [
        {
          "output_type": "execute_result",
          "data": {
            "text/plain": [
              "array([[[ 0.1 ,  0.2 ,  0.4 ],\n",
              "        [-0.4 ,  0.8 , -0.1 ],\n",
              "        [ 0.2 , -0.3 , -0.4 ]],\n",
              "\n",
              "       [[ 0.  ,  0.41, -0.1 ],\n",
              "        [-0.41,  0.  ,  0.25],\n",
              "        [ 0.1 , -0.25,  0.  ]],\n",
              "\n",
              "       [[ 0.  ,  0.9 ,  0.08],\n",
              "        [-0.9 ,  0.  , -0.2 ],\n",
              "        [-0.08,  0.2 ,  0.  ]]])"
            ]
          },
          "metadata": {
            "tags": []
          },
          "execution_count": 18
        }
      ]
    },
    {
      "cell_type": "code",
      "metadata": {
        "id": "-n13oc45PyKu",
        "colab_type": "code",
        "outputId": "f3c82324-8e90-4a08-e030-77030692246a",
        "colab": {
          "base_uri": "https://localhost:8080/",
          "height": 204
        }
      },
      "source": [
        "# Difference between the payoff max and payoffs\n",
        "\n",
        "## Get maxes\n",
        "max_rows = np.max(game_data[:, 0, :, :], axis=(1, 2))\n",
        "max_cols = np.max(game_data[:, 1, :, :], axis=(1, 2))\n",
        "\n",
        "## Expand and convert to previous data shape\n",
        "max_rows = np.repeat(max_rows, 9).reshape((1500, 3, 3))\n",
        "max_cols = np.repeat(max_cols, 9).reshape((1500, 3, 3))\n",
        "\n",
        "game_data_maxdiff_r = game_data[:, 0, :, :] - max_rows\n",
        "game_data_maxdiff_c = game_data[:, 1, :, :] - max_cols\n",
        "\n",
        "game_data_maxdiff_r[:3]"
      ],
      "execution_count": 19,
      "outputs": [
        {
          "output_type": "execute_result",
          "data": {
            "text/plain": [
              "array([[[-0.1 , -0.4 , -0.1 ],\n",
              "        [-0.7 ,  0.  , -0.3 ],\n",
              "        [-0.6 , -0.8 , -0.8 ]],\n",
              "\n",
              "       [[-0.5 , -0.19, -0.2 ],\n",
              "        [-0.6 ,  0.  , -0.4 ],\n",
              "        [-0.1 , -0.65, -0.25]],\n",
              "\n",
              "       [[-0.3 ,  0.  , -0.52],\n",
              "        [-0.9 , -0.71, -0.6 ],\n",
              "        [-0.6 , -0.4 ,  0.  ]]])"
            ]
          },
          "metadata": {
            "tags": []
          },
          "execution_count": 19
        }
      ]
    },
    {
      "cell_type": "code",
      "metadata": {
        "id": "pkgzgJtStB_L",
        "colab_type": "code",
        "colab": {
          "base_uri": "https://localhost:8080/",
          "height": 34
        },
        "outputId": "b438d021-ff4e-46c5-9b7a-a98c3e6a6e20"
      },
      "source": [
        "game_data.shape"
      ],
      "execution_count": 20,
      "outputs": [
        {
          "output_type": "execute_result",
          "data": {
            "text/plain": [
              "(1500, 2, 3, 3)"
            ]
          },
          "metadata": {
            "tags": []
          },
          "execution_count": 20
        }
      ]
    },
    {
      "cell_type": "code",
      "metadata": {
        "id": "ve_JeuxXs540",
        "colab_type": "code",
        "colab": {
          "base_uri": "https://localhost:8080/",
          "height": 34
        },
        "outputId": "5dcb54dd-c233-4f83-a8ca-0da75779ac63"
      },
      "source": [
        "game_data_maxdiff_r.shape"
      ],
      "execution_count": 21,
      "outputs": [
        {
          "output_type": "execute_result",
          "data": {
            "text/plain": [
              "(1500, 3, 3)"
            ]
          },
          "metadata": {
            "tags": []
          },
          "execution_count": 21
        }
      ]
    },
    {
      "cell_type": "markdown",
      "metadata": {
        "id": "ngdsEE-KtIUq",
        "colab_type": "text"
      },
      "source": [
        "### **Setup datasets**\n",
        "Consider the following multichannel datasets:\n",
        "\n",
        "1. **Direct Payoffs**: direct normalized payoffs of row and column players, with each player's payoffs being a channel. (1500 x 2 x 3 x 3)  \n",
        "2. **Payoff Differences**: only include the differences between the row and column, as well as the differences between the max values. Start off with row - col, row - max_row, col - max_col (1500 x 3 x 3 x 3)  \n",
        "3. **Combined**: combo of the two above. (1500 x 5 x 3 x 3)\n",
        "4. **Row**: only include payoffs related to the row, i.e. normed row payoffs, row - col, row - max (1500 x 3 x 3 x 3)"
      ]
    },
    {
      "cell_type": "code",
      "metadata": {
        "id": "qBC-eVHtuSVh",
        "colab_type": "code",
        "colab": {}
      },
      "source": [
        "# Direct Payoffs is already in `game_data`"
      ],
      "execution_count": 0,
      "outputs": []
    },
    {
      "cell_type": "code",
      "metadata": {
        "id": "MHX09yPat8GF",
        "colab_type": "code",
        "colab": {}
      },
      "source": [
        "game_data_diffs = np.array([game_data_rc_diffs, game_data_maxdiff_r, game_data_maxdiff_c]).transpose(1, 0, 2, 3)"
      ],
      "execution_count": 0,
      "outputs": []
    },
    {
      "cell_type": "code",
      "metadata": {
        "id": "XfrAiVJQu1q0",
        "colab_type": "code",
        "colab": {}
      },
      "source": [
        "game_data_combined = np.concatenate([game_data, game_data_diffs], axis=1)"
      ],
      "execution_count": 0,
      "outputs": []
    },
    {
      "cell_type": "code",
      "metadata": {
        "id": "LlfCwO7ZvnCl",
        "colab_type": "code",
        "colab": {
          "base_uri": "https://localhost:8080/",
          "height": 340
        },
        "outputId": "4ef544d4-77ed-4644-e0dd-8a699c1c6770"
      },
      "source": [
        "game_data_combined[0]"
      ],
      "execution_count": 25,
      "outputs": [
        {
          "output_type": "execute_result",
          "data": {
            "text/plain": [
              "array([[[ 0.8,  0.5,  0.8],\n",
              "        [ 0.2,  0.9,  0.6],\n",
              "        [ 0.3,  0.1,  0.1]],\n",
              "\n",
              "       [[ 0.7,  0.3,  0.4],\n",
              "        [ 0.6,  0.1,  0.7],\n",
              "        [ 0.1,  0.4,  0.5]],\n",
              "\n",
              "       [[ 0.1,  0.2,  0.4],\n",
              "        [-0.4,  0.8, -0.1],\n",
              "        [ 0.2, -0.3, -0.4]],\n",
              "\n",
              "       [[-0.1, -0.4, -0.1],\n",
              "        [-0.7,  0. , -0.3],\n",
              "        [-0.6, -0.8, -0.8]],\n",
              "\n",
              "       [[ 0. , -0.4, -0.3],\n",
              "        [-0.1, -0.6,  0. ],\n",
              "        [-0.6, -0.3, -0.2]]])"
            ]
          },
          "metadata": {
            "tags": []
          },
          "execution_count": 25
        }
      ]
    },
    {
      "cell_type": "code",
      "metadata": {
        "id": "TDpLSVALDbYK",
        "colab_type": "code",
        "colab": {}
      },
      "source": [
        "game_data_row = np.concatenate([np.expand_dims(game_data[:, 0, :, :], 1), game_data_diffs[:,0:2, :, :]], axis=1)"
      ],
      "execution_count": 0,
      "outputs": []
    },
    {
      "cell_type": "code",
      "metadata": {
        "id": "a7zddYFTEi0P",
        "colab_type": "code",
        "colab": {
          "base_uri": "https://localhost:8080/",
          "height": 204
        },
        "outputId": "89fe6cc5-edfc-43dd-a29e-b08a92529ba8"
      },
      "source": [
        "game_data_row[0]"
      ],
      "execution_count": 27,
      "outputs": [
        {
          "output_type": "execute_result",
          "data": {
            "text/plain": [
              "array([[[ 0.8,  0.5,  0.8],\n",
              "        [ 0.2,  0.9,  0.6],\n",
              "        [ 0.3,  0.1,  0.1]],\n",
              "\n",
              "       [[ 0.1,  0.2,  0.4],\n",
              "        [-0.4,  0.8, -0.1],\n",
              "        [ 0.2, -0.3, -0.4]],\n",
              "\n",
              "       [[-0.1, -0.4, -0.1],\n",
              "        [-0.7,  0. , -0.3],\n",
              "        [-0.6, -0.8, -0.8]]])"
            ]
          },
          "metadata": {
            "tags": []
          },
          "execution_count": 27
        }
      ]
    },
    {
      "cell_type": "markdown",
      "metadata": {
        "id": "_kmpOlrCvMv9",
        "colab_type": "text"
      },
      "source": [
        "***Might need to renormalize the above but unclear***"
      ]
    },
    {
      "cell_type": "code",
      "metadata": {
        "colab_type": "code",
        "id": "GaIkyjS9tHsz",
        "colab": {}
      },
      "source": [
        "class GameDataset(Dataset):\n",
        "    \"\"\"Bimatrix game dataset\"\"\"\n",
        "    def __init__(self, data, labels):\n",
        "        \"\"\"\n",
        "        Args:\n",
        "            data: game payoffs; (num_samples, channels, row, col)\n",
        "            labels: frequency of actions; (num_samples, freq)\n",
        "        \"\"\"\n",
        "        self.samples = []\n",
        "        self.data = data\n",
        "        self.labels = labels\n",
        "        self.load_samples()\n",
        "        \n",
        "    def __len__(self):\n",
        "        return len(self.samples)\n",
        "\n",
        "    def __getitem__(self, ix):\n",
        "        return self.samples[ix]\n",
        "\n",
        "    def load_samples(self):\n",
        "        for ix in range(self.data.shape[0]):\n",
        "            self.samples.append((\n",
        "                torch.tensor(self.data[ix], dtype=torch.float).to(DEVICE), \n",
        "                torch.tensor(self.labels[ix], dtype=torch.float).to(DEVICE)))"
      ],
      "execution_count": 0,
      "outputs": []
    },
    {
      "cell_type": "code",
      "metadata": {
        "id": "e2FhDjusLbE1",
        "colab_type": "code",
        "colab": {}
      },
      "source": [
        "def load_game_data(data, labels, batch_size=BATCH_SIZE, shuffle=SHUFFLE):\n",
        "    torch.manual_seed(SEED)\n",
        "    dataset = GameDataset(data, labels)\n",
        "    dataloader = torch.utils.data.DataLoader(\n",
        "        dataset, batch_size = batch_size, shuffle=shuffle)\n",
        "    return dataloader"
      ],
      "execution_count": 0,
      "outputs": []
    },
    {
      "cell_type": "markdown",
      "metadata": {
        "id": "Qsj7OWfdPVAB",
        "colab_type": "text"
      },
      "source": [
        "## **Define the CNN**"
      ]
    },
    {
      "cell_type": "code",
      "metadata": {
        "id": "RD4Lbe4kPYRk",
        "colab_type": "code",
        "colab": {}
      },
      "source": [
        "import torch.nn as nn  \n",
        "import torch.nn.functional as F"
      ],
      "execution_count": 0,
      "outputs": []
    },
    {
      "cell_type": "code",
      "metadata": {
        "id": "_qP8B-wgPbnC",
        "colab_type": "code",
        "colab": {}
      },
      "source": [
        "class ConvNet(nn.Module):\n",
        "    def __init__(self, log_softmax=False, softmax=True):\n",
        "        super(ConvNet, self).__init__()\n",
        "        self.log = log_softmax\n",
        "        self.soft = softmax\n",
        "        # Input: 2 channels, 8 output channels, 3x3 conv -> 6x3x3 output\n",
        "        self.conv1 = nn.Conv2d(2, 8, 3, padding=1) \n",
        "        self.conv2 = nn.Conv2d(8, 16, 3, padding=1)\n",
        "        # self.conv3 = nn.Conv2d(16, 32, 3, padding=1)  # start simple\n",
        "        # self.fc1 = nn.Linear(32 * 3 * 3, 144)  # 72, 16 * 3 * 3\n",
        "        self.fc1 = nn.Linear(16 * 3 * 3, 72)\n",
        "        # self.fc2 = nn.Linear(144, 72)\n",
        "        self.fc2 = nn.Linear(72, 24)\n",
        "        self.fc3 = nn.Linear(24, 3)  # Predict all three frequencies, use Softmax?\n",
        "        self.log_softmax = nn.LogSoftmax(dim=1)\n",
        "        self.softmax = nn.Softmax(dim=1)\n",
        "\n",
        "        # For some reason doing the softmax in here is bad\n",
        "\n",
        "    def forward(self, x):\n",
        "        x = F.relu(self.conv1(x))\n",
        "        x = F.relu(self.conv2(x))\n",
        "        # x = F.relu(self.conv3(x))\n",
        "        x = x.view(-1, self.num_flat_features(x))\n",
        "        x = F.relu(self.fc1(x))\n",
        "        x = F.relu(self.fc2(x))\n",
        "        # x = F.relu(self.fc3(x))\n",
        "        x = self.fc3(x)\n",
        "        if self.log:\n",
        "            return self.log_softmax(x)\n",
        "        elif self.soft:\n",
        "            return self.softmax(x)\n",
        "        return x\n",
        "\n",
        "    def infer(self, x):\n",
        "        \"\"\"Always return unlogged inference\"\"\"\n",
        "        x = F.relu(self.conv1(x))\n",
        "        x = F.relu(self.conv2(x))\n",
        "        # x = F.relu(self.conv3(x))\n",
        "        x = x.view(-1, self.num_flat_features(x))\n",
        "        x = F.relu(self.fc1(x))\n",
        "        x = F.relu(self.fc2(x))\n",
        "        # x = F.relu(self.fc3(x))\n",
        "        x = self.fc3(x)\n",
        "        if self.soft:\n",
        "            return self.softmax(x)\n",
        "        return x\n",
        "\n",
        "    def num_flat_features(self, x):\n",
        "        size = x.size()[1:]  # all dimensions except the batch dimension\n",
        "        num_features = 1\n",
        "        for s in size:\n",
        "            num_features *= s\n",
        "        return num_features"
      ],
      "execution_count": 0,
      "outputs": []
    },
    {
      "cell_type": "markdown",
      "metadata": {
        "id": "W09_vqTXSxaa",
        "colab_type": "text"
      },
      "source": [
        "## **Train the model**"
      ]
    },
    {
      "cell_type": "code",
      "metadata": {
        "id": "leTFKupkTQQZ",
        "colab_type": "code",
        "colab": {}
      },
      "source": [
        "np.random.seed(SEED)\n",
        "\n",
        "# Shuffle data first\n",
        "game_ix = list(range(len(game_data)))\n",
        "np.random.shuffle(game_ix)\n",
        "\n",
        "game_data_ = game_data[game_ix]\n",
        "game_labels_ = game_labels[game_ix]\n",
        "\n",
        "# Prepare splits\n",
        "train_split = int(len(game_data_) * TRAIN_SPLIT)\n",
        "test_split = int(len(game_data_) * (TRAIN_SPLIT + VAL_SPLIT))\n",
        "\n",
        "train_data = game_data_[:train_split]\n",
        "val_data = game_data_[train_split:test_split]\n",
        "test_data = game_data_[test_split:]\n",
        "\n",
        "train_labels = game_labels_[:train_split]\n",
        "val_labels = game_labels_[train_split:test_split]\n",
        "test_labels = game_labels_[test_split:]\n",
        "\n",
        "train_val_data = game_data_[:test_split]\n",
        "train_val_labels = game_labels_[:test_split]"
      ],
      "execution_count": 0,
      "outputs": []
    },
    {
      "cell_type": "code",
      "metadata": {
        "id": "LEG9u08uVF9w",
        "colab_type": "code",
        "colab": {}
      },
      "source": [
        "def batch_quadratic_loss(batch_output, batch_label):\n",
        "    loss = 0\n",
        "    for ix in range(len(batch_output)):\n",
        "        loss += np.sum([(batch_output[ix][i] - batch_label[ix][i]) ** 2. for i in range(3)])\n",
        "    return loss\n",
        "        \n",
        "\n",
        "def evaluate(model, dataloader, model_softmax=False):\n",
        "    softmax = nn.Softmax(dim=1)\n",
        "    batch_quad_loss = 0\n",
        "    outputs = []\n",
        "    labels = []\n",
        "    model.eval()\n",
        "    for batch_ix, (data, label) in enumerate(dataloader):\n",
        "        if model.soft:\n",
        "            output = model(data)\n",
        "        elif model.log:\n",
        "            output = torch.exp(model(data))  # convert back regular probabilities\n",
        "        else:\n",
        "            output = softmax(model(data))\n",
        "        batch_quad_loss += batch_quadratic_loss(output, label).cpu().detach().numpy()\n",
        "        outputs.append(output.squeeze().cpu().detach().numpy())\n",
        "        labels.append(label.squeeze().cpu().detach().numpy())\n",
        "\n",
        "    val_actions = np.argmax(np.array(labels), axis=1)\n",
        "    pred_actions = np.argmax(np.array(outputs), axis=1)\n",
        "    action_acc = np.sum(val_actions == pred_actions) / val_actions.shape[0]\n",
        "\n",
        "    return batch_quad_loss, action_acc, outputs"
      ],
      "execution_count": 0,
      "outputs": []
    },
    {
      "cell_type": "code",
      "metadata": {
        "id": "CAaBnKNnXKY5",
        "colab_type": "code",
        "colab": {}
      },
      "source": [
        "def train(model, loss_fn, dataloader, dataloader_val=None, epochs=EPOCHS, \n",
        "          log_targets=False, model_softmax=True, log=5, log_softmax_outputs=False, val_data=val_data, val_labels=val_labels):\n",
        "\n",
        "    # # Multiple criterion\n",
        "    # mse_loss = nn.MSELoss()\n",
        "    # ce_loss = nn.CrossEntropyLoss() \n",
        "    softmax_fn = nn.Softmax(dim=1)\n",
        "    log_softmax_fn = nn.LogSoftmax(dim=1)\n",
        "\n",
        "    dataloader_actual_val = load_game_data(val_data, val_labels, batch_size=1, shuffle=False)\n",
        "    loss_total = []\n",
        "    acc_total = []\n",
        "    acc_total_val = []\n",
        "    for epoch in range(epochs):  # tqdm is buggy sometimes\n",
        "        epoch_loss = 0\n",
        "        for batch_ix, (data, label) in enumerate(dataloader):\n",
        "            # print(data.shape)\n",
        "            output = model(data)\n",
        "            # print(output)\n",
        "            target = torch.tensor(np.argmax(np.array(label.cpu()), axis=1), dtype=torch.long).to(DEVICE)\n",
        "            optimizer.zero_grad()\n",
        "            # loss = 1.0 * mse_loss(softmax(output), label) + 0.0 * ce_loss(output, target)\n",
        "            if log_targets:\n",
        "                # output = log_softmax_fn(output)\n",
        "                label = torch.log(label)\n",
        "                # print(label)\n",
        "            if log_softmax_outputs:\n",
        "                output = log_softmax_fn(output)\n",
        "                # print(output)\n",
        "            elif not model_softmax:\n",
        "                output = softmax_fn(output)\n",
        "            loss = loss_fn(output, label)\n",
        "            loss.backward()\n",
        "            optimizer.step()\n",
        "            epoch_loss += loss.item()\n",
        "        loss_total.append(epoch_loss)\n",
        "        quad_loss, acc, _ = evaluate(model, dataloader_val, model_softmax=model_softmax)\n",
        "        quad_loss_val, acc_val, _ = evaluate(model, dataloader_actual_val, model_softmax=model_softmax)\n",
        "        if (epoch + 1) % log == 0:\n",
        "            print('Epoch {0:<2} | Training Loss: {1:<2f} | Quad Loss: {2:<2f} | Acc: {3:<2f} | Val Quad Loss: {4:<2f} | Val Acc: {5:<2f}'.format(\n",
        "                epoch, epoch_loss, quad_loss, acc, quad_loss_val, acc_val))\n",
        "        acc_total.append(acc)\n",
        "        acc_total_val.append(acc_val)\n",
        "    return loss_total, [acc_total, acc_total_val]"
      ],
      "execution_count": 0,
      "outputs": []
    },
    {
      "cell_type": "markdown",
      "metadata": {
        "id": "fFY7NSg1eKfc",
        "colab_type": "text"
      },
      "source": [
        "### ***Training setup 1: MSE Loss***"
      ]
    },
    {
      "cell_type": "code",
      "metadata": {
        "id": "hjtOotowYuHq",
        "colab_type": "code",
        "colab": {}
      },
      "source": [
        "# Actaually train\n",
        "model = ConvNet(log_softmax=False, softmax=True)\n",
        "model = model.to(DEVICE)\n",
        "\n",
        "criterion = nn.MSELoss()\n",
        "optimizer = optim.Adam(model.parameters(), lr=1e-4, weight_decay=0.0001)\n",
        "\n",
        "dataloader = load_game_data(train_data, train_labels, batch_size=4, shuffle=True)\n",
        "EPOCHS = 50\n",
        "\n",
        "softmax = nn.Softmax(-1)"
      ],
      "execution_count": 0,
      "outputs": []
    },
    {
      "cell_type": "code",
      "metadata": {
        "id": "aanqh3jDfMkV",
        "colab_type": "code",
        "outputId": "ebfc32af-9b48-49d7-cf2d-175fa6a26735",
        "colab": {
          "base_uri": "https://localhost:8080/",
          "height": 224
        }
      },
      "source": [
        "dataloader_val = load_game_data(train_data, train_labels, batch_size=1, shuffle=False)\n",
        "losses_4, acc_4 = train(model, criterion, dataloader, dataloader_val, 50, \n",
        "                        model_log_softmax=False, model_softmax=True)"
      ],
      "execution_count": 0,
      "outputs": [
        {
          "output_type": "stream",
          "text": [
            " 10%|█         | 5/50 [00:09<01:21,  1.81s/it]"
          ],
          "name": "stderr"
        },
        {
          "output_type": "stream",
          "text": [
            "Epoch 4  | Training Loss: 13.356469 | Quad Loss: 149.532846 | Acc: 0.603333 | Val Quad Loss: 53.438001 | Val Acc: 0.600000\n"
          ],
          "name": "stdout"
        },
        {
          "output_type": "stream",
          "text": [
            " 20%|██        | 10/50 [00:18<01:11,  1.80s/it]"
          ],
          "name": "stderr"
        },
        {
          "output_type": "stream",
          "text": [
            "Epoch 9  | Training Loss: 4.855099 | Quad Loss: 52.932650 | Acc: 0.786667 | Val Quad Loss: 21.960021 | Val Acc: 0.713333\n"
          ],
          "name": "stdout"
        },
        {
          "output_type": "stream",
          "text": [
            " 30%|███       | 15/50 [00:27<01:03,  1.82s/it]"
          ],
          "name": "stderr"
        },
        {
          "output_type": "stream",
          "text": [
            "Epoch 14 | Training Loss: 3.966478 | Quad Loss: 46.312471 | Acc: 0.794444 | Val Quad Loss: 19.509335 | Val Acc: 0.716667\n"
          ],
          "name": "stdout"
        },
        {
          "output_type": "stream",
          "text": [
            " 40%|████      | 20/50 [00:35<00:53,  1.78s/it]"
          ],
          "name": "stderr"
        },
        {
          "output_type": "stream",
          "text": [
            "Epoch 19 | Training Loss: 3.829102 | Quad Loss: 45.731646 | Acc: 0.782222 | Val Quad Loss: 19.030382 | Val Acc: 0.726667\n"
          ],
          "name": "stdout"
        },
        {
          "output_type": "stream",
          "text": [
            " 50%|█████     | 25/50 [00:44<00:44,  1.79s/it]"
          ],
          "name": "stderr"
        },
        {
          "output_type": "stream",
          "text": [
            "Epoch 24 | Training Loss: 3.745042 | Quad Loss: 44.817633 | Acc: 0.787778 | Val Quad Loss: 18.958290 | Val Acc: 0.726667\n"
          ],
          "name": "stdout"
        },
        {
          "output_type": "stream",
          "text": [
            " 60%|██████    | 30/50 [00:53<00:36,  1.81s/it]"
          ],
          "name": "stderr"
        },
        {
          "output_type": "stream",
          "text": [
            "Epoch 29 | Training Loss: 3.712326 | Quad Loss: 43.055956 | Acc: 0.807778 | Val Quad Loss: 18.237675 | Val Acc: 0.736667\n"
          ],
          "name": "stdout"
        },
        {
          "output_type": "stream",
          "text": [
            " 70%|███████   | 35/50 [01:03<00:27,  1.81s/it]"
          ],
          "name": "stderr"
        },
        {
          "output_type": "stream",
          "text": [
            "Epoch 34 | Training Loss: 3.652864 | Quad Loss: 43.056670 | Acc: 0.802222 | Val Quad Loss: 18.260844 | Val Acc: 0.736667\n"
          ],
          "name": "stdout"
        },
        {
          "output_type": "stream",
          "text": [
            " 80%|████████  | 40/50 [01:11<00:17,  1.79s/it]"
          ],
          "name": "stderr"
        },
        {
          "output_type": "stream",
          "text": [
            "Epoch 39 | Training Loss: 3.643195 | Quad Loss: 42.438613 | Acc: 0.808889 | Val Quad Loss: 17.976701 | Val Acc: 0.733333\n"
          ],
          "name": "stdout"
        },
        {
          "output_type": "stream",
          "text": [
            " 90%|█████████ | 45/50 [01:20<00:08,  1.77s/it]"
          ],
          "name": "stderr"
        },
        {
          "output_type": "stream",
          "text": [
            "Epoch 44 | Training Loss: 3.700454 | Quad Loss: 43.006393 | Acc: 0.795556 | Val Quad Loss: 18.327135 | Val Acc: 0.726667\n"
          ],
          "name": "stdout"
        },
        {
          "output_type": "stream",
          "text": [
            "100%|██████████| 50/50 [01:29<00:00,  1.79s/it]"
          ],
          "name": "stderr"
        },
        {
          "output_type": "stream",
          "text": [
            "Epoch 49 | Training Loss: 3.611298 | Quad Loss: 44.729711 | Acc: 0.795556 | Val Quad Loss: 18.692783 | Val Acc: 0.730000\n"
          ],
          "name": "stdout"
        },
        {
          "output_type": "stream",
          "text": [
            "\n"
          ],
          "name": "stderr"
        }
      ]
    },
    {
      "cell_type": "code",
      "metadata": {
        "id": "wSLWWxcogOmC",
        "colab_type": "code",
        "outputId": "c0139076-1260-4524-ac0c-38e9fa014b9a",
        "colab": {
          "base_uri": "https://localhost:8080/",
          "height": 282
        }
      },
      "source": [
        "plt.figure(figsize=(12, 4))\n",
        "plt.subplot(1, 2, 1)\n",
        "plt.plot(acc_4[0])\n",
        "plt.plot(acc_4[1])\n",
        "plt.subplot(1, 2, 2)\n",
        "plt.plot(losses_4)"
      ],
      "execution_count": 0,
      "outputs": [
        {
          "output_type": "execute_result",
          "data": {
            "text/plain": [
              "[<matplotlib.lines.Line2D at 0x7f9a3b1879e8>]"
            ]
          },
          "metadata": {
            "tags": []
          },
          "execution_count": 158
        },
        {
          "output_type": "display_data",
          "data": {
            "image/png": "[encoded data removed]",
            "text/plain": [
              "<Figure size 864x288 with 2 Axes>"
            ]
          },
          "metadata": {
            "tags": []
          }
        }
      ]
    },
    {
      "cell_type": "code",
      "metadata": {
        "id": "PdGVrHDSlNr-",
        "colab_type": "code",
        "colab": {}
      },
      "source": [
        "# Actually train\n",
        "model = ConvNet(log_softmax=False, softmax=True)\n",
        "model = model.to(DEVICE)\n",
        "\n",
        "criterion = nn.MSELoss()\n",
        "optimizer = optim.Adam(model.parameters(), lr=1e-4, weight_decay=0.0001)\n",
        "\n",
        "dataloader = load_game_data(train_data, train_labels, batch_size=4, shuffle=True)\n",
        "EPOCHS = 50\n",
        "\n",
        "softmax = nn.Softmax(-1)\n",
        "\n",
        "dataloader_val = load_game_data(train_data, train_labels, batch_size=1, shuffle=False)\n",
        "losses_4, acc_4 = train(model, criterion, dataloader, dataloader_val, epochs=50, \n",
        "                        log_targets=False, model_softmax=True, log=5)\n",
        "\n",
        "plt.figure(figsize=(12, 4))\n",
        "plt.subplot(1, 2, 1)\n",
        "plt.plot(acc_4[0])\n",
        "plt.plot(acc_4[1])\n",
        "plt.subplot(1, 2, 2)\n",
        "plt.plot(losses_4)"
      ],
      "execution_count": 0,
      "outputs": []
    },
    {
      "cell_type": "code",
      "metadata": {
        "id": "9fl_fbhYrgZ1",
        "colab_type": "code",
        "colab": {}
      },
      "source": [
        "# Actually train\n",
        "model = ConvNet(log_softmax=False, softmax=True)\n",
        "model = model.to(DEVICE)\n",
        "\n",
        "criterion = nn.MSELoss()\n",
        "optimizer = optim.Adam(model.parameters(), lr=1e-4, weight_decay=0.0001)\n",
        "\n",
        "dataloader = load_game_data(train_data, train_labels, batch_size=4, shuffle=True)\n",
        "EPOCHS = 50\n",
        "\n",
        "softmax = nn.Softmax(-1)\n",
        "\n",
        "dataloader_val = load_game_data(train_data, train_labels, batch_size=1, shuffle=False)\n",
        "losses_4, acc_4 = train(model, criterion, dataloader, dataloader_val, epochs=50, \n",
        "                        log_targets=False, model_softmax=True, log=5)\n",
        "\n",
        "plt.figure(figsize=(12, 4))\n",
        "plt.subplot(1, 2, 1)\n",
        "plt.plot(acc_4[0])\n",
        "plt.plot(acc_4[1])\n",
        "plt.subplot(1, 2, 2)\n",
        "plt.plot(losses_4)"
      ],
      "execution_count": 0,
      "outputs": []
    },
    {
      "cell_type": "markdown",
      "metadata": {
        "id": "zcZvOzC0g8bX",
        "colab_type": "text"
      },
      "source": [
        "### ***Training Setup 2: KLDivLoss***"
      ]
    },
    {
      "cell_type": "code",
      "metadata": {
        "id": "TZweCxV5dJmz",
        "colab_type": "code",
        "colab": {}
      },
      "source": [
        "# Actaually train\n",
        "model_kl = ConvNet(log_softmax=False, softmax=False) # KL expects log probabilities as model output\n",
        "model_kl = model_kl.to(DEVICE)\n",
        "\n",
        "criterion = nn.KLDivLoss()\n",
        "optimizer = optim.Adam(model_kl.parameters(), lr=1e-4, weight_decay=0.0001)\n",
        "\n",
        "dataloader = load_game_data(train_data, train_labels, batch_size=1, shuffle=True)\n",
        "EPOCHS = 50"
      ],
      "execution_count": 0,
      "outputs": []
    },
    {
      "cell_type": "code",
      "metadata": {
        "id": "h9aEEcs-hPF0",
        "colab_type": "code",
        "colab": {}
      },
      "source": [
        "# DOESN'T WORK YET\n",
        "\n",
        "dataloader_val = load_game_data(train_data, train_labels, batch_size=1, shuffle=False)\n",
        "losses_4_kl, acc_4_kl = train(model, criterion, dataloader, dataloader_val, 50, \n",
        "                              log_targets=False, model_softmax=False, \n",
        "                              log_softmax_outputs=True)  # But target probabilities should not be logged"
      ],
      "execution_count": 0,
      "outputs": []
    },
    {
      "cell_type": "markdown",
      "metadata": {
        "id": "puCFKmODwFqF",
        "colab_type": "text"
      },
      "source": [
        "### ***Training Setup 3: MSE with Payoff Differences***"
      ]
    },
    {
      "cell_type": "code",
      "metadata": {
        "id": "iE73q04OwLah",
        "colab_type": "code",
        "colab": {}
      },
      "source": [
        "np.random.seed(SEED)\n",
        "\n",
        "# Shuffle data first\n",
        "game_ix = list(range(len(game_data_diffs)))\n",
        "np.random.shuffle(game_ix)\n",
        "\n",
        "game_data_diffs_ = game_data_diffs[game_ix]\n",
        "game_labels_ = game_labels[game_ix]\n",
        "\n",
        "# Prepare splits\n",
        "train_split = int(len(game_data_diffs_) * TRAIN_SPLIT)\n",
        "test_split = int(len(game_data_diffs_) * (TRAIN_SPLIT + VAL_SPLIT))\n",
        "\n",
        "train_data_diffs = game_data_diffs_[:train_split]\n",
        "val_data_diffs = game_data_diffs_[train_split:test_split]\n",
        "test_data_pd_diffs = game_data_diffs_[test_split:]\n",
        "\n",
        "train_labels = game_labels_[:train_split]\n",
        "val_labels = game_labels_[train_split:test_split]\n",
        "test_labels = game_labels_[test_split:]\n",
        "\n",
        "train_val_data_diffs = game_data_diffs_[:test_split]\n",
        "train_val_labels = game_labels_[:test_split]"
      ],
      "execution_count": 0,
      "outputs": []
    },
    {
      "cell_type": "code",
      "metadata": {
        "id": "OZzkikRYx25L",
        "colab_type": "code",
        "colab": {}
      },
      "source": [
        "class ConvNetPd(nn.Module):\n",
        "    \"\"\"\n",
        "    ConvNet Model for Payoff Differences data. Main difference is changing input to 3 channels\n",
        "    - Keep it simple first\n",
        "    \"\"\"\n",
        "    def __init__(self, log_softmax=False, softmax=True):\n",
        "        super(ConvNetPd, self).__init__()\n",
        "        self.log = log_softmax\n",
        "        self.soft = softmax\n",
        "        # Input: 3 channels, 8 output channels, 3x3 conv -> 8x3x3 output\n",
        "        self.conv1 = nn.Conv2d(3, 8, 3, padding=1) \n",
        "        self.conv2 = nn.Conv2d(8, 16, 3, padding=1)\n",
        "        # self.conv3 = nn.Conv2d(16, 32, 3, padding=1)  # start simple\n",
        "        # self.fc1 = nn.Linear(32 * 3 * 3, 144)  # 72, 16 * 3 * 3\n",
        "        self.fc1 = nn.Linear(16 * 3 * 3, 72)\n",
        "        # self.fc2 = nn.Linear(144, 72)\n",
        "        self.fc2 = nn.Linear(72, 24)\n",
        "        self.fc3 = nn.Linear(24, 3)  # Predict all three frequencies, use Softmax?\n",
        "        self.log_softmax = nn.LogSoftmax(dim=1)\n",
        "        self.softmax = nn.Softmax(dim=1)\n",
        "\n",
        "        # For some reason doing the softmax in here is bad\n",
        "\n",
        "    def forward(self, x):\n",
        "        x = F.relu(self.conv1(x))\n",
        "        x = F.relu(self.conv2(x))\n",
        "        # x = F.relu(self.conv3(x))\n",
        "        x = x.view(-1, self.num_flat_features(x))\n",
        "        x = F.relu(self.fc1(x))\n",
        "        x = F.relu(self.fc2(x))\n",
        "        # x = F.relu(self.fc3(x))\n",
        "        x = self.fc3(x)\n",
        "        if self.log:\n",
        "            return self.log_softmax(x)\n",
        "        elif self.soft:\n",
        "            return self.softmax(x)\n",
        "        return x\n",
        "\n",
        "    def infer(self, x):\n",
        "        \"\"\"Always return unlogged inference\"\"\"\n",
        "        x = F.relu(self.conv1(x))\n",
        "        x = F.relu(self.conv2(x))\n",
        "        # x = F.relu(self.conv3(x))\n",
        "        x = x.view(-1, self.num_flat_features(x))\n",
        "        x = F.relu(self.fc1(x))\n",
        "        x = F.relu(self.fc2(x))\n",
        "        # x = F.relu(self.fc3(x))\n",
        "        x = self.fc3(x)\n",
        "        if self.soft:\n",
        "            return self.softmax(x)\n",
        "        return x\n",
        "\n",
        "    def num_flat_features(self, x):\n",
        "        size = x.size()[1:]  # all dimensions except the batch dimension\n",
        "        num_features = 1\n",
        "        for s in size:\n",
        "            num_features *= s\n",
        "        return num_features"
      ],
      "execution_count": 0,
      "outputs": []
    },
    {
      "cell_type": "code",
      "metadata": {
        "id": "mqi5H0ed4Iij",
        "colab_type": "code",
        "colab": {}
      },
      "source": [
        "class ConvNetPdBig(nn.Module):\n",
        "    \"\"\"\n",
        "    ConvNet Model for all features data. Now input has 5 channels\n",
        "    \"\"\"\n",
        "    def __init__(self, log_softmax=False, softmax=True, dropout=0., channels=3):\n",
        "        super(ConvNetPdBig, self).__init__()\n",
        "        self.log = log_softmax\n",
        "        self.soft = softmax\n",
        "        # Input: 3 channels, 8 output channels, 3x3 conv -> 8x3x3 output\n",
        "        self.conv1 = nn.Conv2d(channels, 32, 3, padding=1) \n",
        "        self.conv2 = nn.Conv2d(32, 64, 3, padding=1)\n",
        "        self.conv3 = nn.Conv2d(64, 128, 3, padding=1)  \n",
        "        self.fc1 = nn.Linear(128 * 3 * 3, 512)  \n",
        "        self.fc2 = nn.Linear(512, 128)\n",
        "        self.fc3 = nn.Linear(128, 32)\n",
        "        self.fc4 = nn.Linear(32, 3)  # Predict all three frequencies, use Softmax?\n",
        "        self.log_softmax = nn.LogSoftmax(dim=1)\n",
        "        self.softmax = nn.Softmax(dim=1)\n",
        "        self.dropout_conv = nn.Dropout2d(p=0.1)\n",
        "        self.dropout_fcn = nn.Dropout(p=dropout)\n",
        "        self.gradients = None  # Placeholder for gradients\n",
        "\n",
        "    # hook for the gradients of the activations\n",
        "    def activations_hook(self, grad):\n",
        "        self.gradients = grad\n",
        "\n",
        "    def forward(self, x):\n",
        "        x = F.relu(self.conv1(x))\n",
        "        x = self.dropout_conv(x)\n",
        "        x = F.relu(self.conv2(x))\n",
        "        x = self.dropout_conv(x)\n",
        "        x = F.relu(self.conv3(x))\n",
        "        # Hook to capture the gradients\n",
        "        h = x.register_hook(self.activations_hook)\n",
        "        x = self.dropout_conv(x)\n",
        "        x = x.view(-1, self.num_flat_features(x))\n",
        "        x = F.relu(self.fc1(x))\n",
        "        x = self.dropout_fcn(x)\n",
        "        x = F.relu(self.fc2(x))\n",
        "        x = self.dropout_fcn(x)\n",
        "        x = F.relu(self.fc3(x))\n",
        "        x = self.dropout_fcn(x)\n",
        "        x = self.fc4(x)\n",
        "        if self.log:\n",
        "            return self.log_softmax(x)\n",
        "        elif self.soft:\n",
        "            return self.softmax(x)\n",
        "        return x\n",
        "\n",
        "    def num_flat_features(self, x):\n",
        "        size = x.size()[1:]  # All dimensions except the batch dimension\n",
        "        num_features = 1\n",
        "        for s in size:\n",
        "            num_features *= s\n",
        "        return num_features\n",
        "\n",
        "    # Method for the gradient extraction\n",
        "    def get_activations_gradient(self):\n",
        "        return self.gradients\n",
        "    \n",
        "    # Method for the activation extraction\n",
        "    def get_activations(self, x):\n",
        "        x = F.relu(self.conv1(x))\n",
        "        x = self.dropout_conv(x)\n",
        "        x = F.relu(self.conv2(x))\n",
        "        x = self.dropout_conv(x)\n",
        "        x = F.relu(self.conv3(x))\n",
        "        return x"
      ],
      "execution_count": 0,
      "outputs": []
    },
    {
      "cell_type": "code",
      "metadata": {
        "id": "bZ4bnT5c4VTB",
        "colab_type": "code",
        "colab": {
          "base_uri": "https://localhost:8080/",
          "height": 520
        },
        "outputId": "ef286f73-a19e-4169-ec22-8c0bf3b04dea"
      },
      "source": [
        "# Actually train\n",
        "model_pd = ConvNetPdBig(log_softmax=False, softmax=True)\n",
        "model_pd = model_pd.to(DEVICE)\n",
        "\n",
        "criterion = nn.MSELoss()\n",
        "optimizer = optim.Adam(model_pd.parameters(), lr=1e-4, weight_decay=0.00001)\n",
        "\n",
        "dataloader = load_game_data(train_data_diffs, train_labels, batch_size=4, shuffle=True)\n",
        "EPOCHS = 50\n",
        "\n",
        "softmax = nn.Softmax(-1)\n",
        "\n",
        "dataloader_val = load_game_data(train_data_diffs, train_labels, batch_size=1, shuffle=False)\n",
        "losses_4, acc_4 = train(model_pd, criterion, dataloader, dataloader_val, epochs=70, \n",
        "                        log_targets=False, model_softmax=True, log=5, val_data=val_data_diffs)\n",
        "\n",
        "plt.figure(figsize=(12, 4))\n",
        "plt.subplot(1, 2, 1)\n",
        "plt.plot(acc_4[0])\n",
        "plt.plot(acc_4[1])\n",
        "plt.subplot(1, 2, 2)\n",
        "plt.plot(losses_4)"
      ],
      "execution_count": 290,
      "outputs": [
        {
          "output_type": "stream",
          "text": [
            "Epoch 4  | Training Loss: 4.467220 | Quad Loss: 45.335276 | Acc: 0.785556 | Val Quad Loss: 19.160284 | Val Acc: 0.740000\n",
            "Epoch 9  | Training Loss: 3.526070 | Quad Loss: 42.026918 | Acc: 0.802222 | Val Quad Loss: 19.058079 | Val Acc: 0.716667\n",
            "Epoch 14 | Training Loss: 3.393136 | Quad Loss: 38.169652 | Acc: 0.818889 | Val Quad Loss: 18.470097 | Val Acc: 0.726667\n",
            "Epoch 19 | Training Loss: 3.032339 | Quad Loss: 37.760505 | Acc: 0.825556 | Val Quad Loss: 19.935129 | Val Acc: 0.733333\n",
            "Epoch 24 | Training Loss: 2.780987 | Quad Loss: 30.157224 | Acc: 0.858889 | Val Quad Loss: 17.678267 | Val Acc: 0.726667\n",
            "Epoch 29 | Training Loss: 2.585897 | Quad Loss: 28.187534 | Acc: 0.862222 | Val Quad Loss: 17.461957 | Val Acc: 0.740000\n",
            "Epoch 34 | Training Loss: 2.389845 | Quad Loss: 25.165346 | Acc: 0.878889 | Val Quad Loss: 17.658575 | Val Acc: 0.730000\n",
            "Epoch 39 | Training Loss: 2.148874 | Quad Loss: 22.419203 | Acc: 0.885556 | Val Quad Loss: 17.431904 | Val Acc: 0.740000\n",
            "Epoch 44 | Training Loss: 2.018298 | Quad Loss: 21.290501 | Acc: 0.876667 | Val Quad Loss: 17.760093 | Val Acc: 0.733333\n",
            "Epoch 49 | Training Loss: 1.739352 | Quad Loss: 22.185194 | Acc: 0.891111 | Val Quad Loss: 17.852927 | Val Acc: 0.736667\n",
            "Epoch 54 | Training Loss: 1.600984 | Quad Loss: 18.696231 | Acc: 0.896667 | Val Quad Loss: 17.311528 | Val Acc: 0.753333\n",
            "Epoch 59 | Training Loss: 1.466803 | Quad Loss: 15.570270 | Acc: 0.918889 | Val Quad Loss: 17.708248 | Val Acc: 0.756667\n",
            "Epoch 64 | Training Loss: 1.266912 | Quad Loss: 13.403943 | Acc: 0.926667 | Val Quad Loss: 16.947228 | Val Acc: 0.753333\n",
            "Epoch 69 | Training Loss: 1.142440 | Quad Loss: 12.405454 | Acc: 0.932222 | Val Quad Loss: 16.415948 | Val Acc: 0.753333\n"
          ],
          "name": "stdout"
        },
        {
          "output_type": "execute_result",
          "data": {
            "text/plain": [
              "[<matplotlib.lines.Line2D at 0x7f9a3ab47c50>]"
            ]
          },
          "metadata": {
            "tags": []
          },
          "execution_count": 290
        },
        {
          "output_type": "display_data",
          "data": {
            "image/png": "[encoded data removed]",
            "text/plain": [
              "<Figure size 864x288 with 2 Axes>"
            ]
          },
          "metadata": {
            "tags": []
          }
        }
      ]
    },
    {
      "cell_type": "code",
      "metadata": {
        "id": "pH6SRGIV6VoK",
        "colab_type": "code",
        "colab": {
          "base_uri": "https://localhost:8080/",
          "height": 622
        },
        "outputId": "5b1b0dec-ea1a-40f6-f001-240b1cb0dcb7"
      },
      "source": [
        "# Actually train\n",
        "model_pd = ConvNetPdBig(log_softmax=False, softmax=True)\n",
        "model_pd = model_pd.to(DEVICE)\n",
        "\n",
        "criterion = nn.MSELoss()\n",
        "optimizer = optim.Adam(model_pd.parameters(), lr=1e-4, weight_decay=0.0001)\n",
        "\n",
        "dataloader = load_game_data(train_data_diffs, train_labels, batch_size=4, shuffle=True)\n",
        "EPOCHS = 50\n",
        "\n",
        "softmax = nn.Softmax(-1)\n",
        "\n",
        "dataloader_val = load_game_data(train_data_diffs, train_labels, batch_size=1, shuffle=False)\n",
        "losses_4, acc_4 = train(model_pd, criterion, dataloader, dataloader_val, epochs=100, \n",
        "                        log_targets=False, model_softmax=True, log=5, val_data=val_data_diffs)\n",
        "\n",
        "plt.figure(figsize=(12, 4))\n",
        "plt.subplot(1, 2, 1)\n",
        "plt.plot(acc_4[0])\n",
        "plt.plot(acc_4[1])\n",
        "plt.subplot(1, 2, 2)\n",
        "plt.plot(losses_4)\n",
        "plt.show()\n",
        "\n",
        "dataloader_val = load_game_data(test_data_diffs, test_labels, batch_size=1, shuffle=False)\n",
        "batch_ql, acc, predictions = evaluate(model_pd, dataloader_val)\n",
        "print(batch_ql, acc)"
      ],
      "execution_count": 301,
      "outputs": [
        {
          "output_type": "stream",
          "text": [
            "Epoch 4  | Training Loss: 4.240734 | Quad Loss: 44.362700 | Acc: 0.790000 | Val Quad Loss: 18.969782 | Val Acc: 0.736667\n",
            "Epoch 9  | Training Loss: 3.606897 | Quad Loss: 43.042448 | Acc: 0.787778 | Val Quad Loss: 18.726707 | Val Acc: 0.726667\n",
            "Epoch 14 | Training Loss: 3.556050 | Quad Loss: 38.797825 | Acc: 0.801111 | Val Quad Loss: 18.166499 | Val Acc: 0.736667\n",
            "Epoch 19 | Training Loss: 3.240753 | Quad Loss: 39.537661 | Acc: 0.807778 | Val Quad Loss: 19.072731 | Val Acc: 0.726667\n",
            "Epoch 24 | Training Loss: 3.139142 | Quad Loss: 33.548251 | Acc: 0.835556 | Val Quad Loss: 17.416658 | Val Acc: 0.736667\n",
            "Epoch 29 | Training Loss: 2.933110 | Quad Loss: 32.692871 | Acc: 0.830000 | Val Quad Loss: 17.273147 | Val Acc: 0.706667\n",
            "Epoch 34 | Training Loss: 2.801421 | Quad Loss: 30.201173 | Acc: 0.844444 | Val Quad Loss: 16.881941 | Val Acc: 0.740000\n",
            "Epoch 39 | Training Loss: 2.625129 | Quad Loss: 28.490701 | Acc: 0.848889 | Val Quad Loss: 17.075607 | Val Acc: 0.736667\n",
            "Epoch 44 | Training Loss: 2.521051 | Quad Loss: 27.243015 | Acc: 0.855556 | Val Quad Loss: 17.279638 | Val Acc: 0.726667\n",
            "Epoch 49 | Training Loss: 2.337173 | Quad Loss: 29.763587 | Acc: 0.843333 | Val Quad Loss: 17.363963 | Val Acc: 0.726667\n",
            "Epoch 54 | Training Loss: 2.238571 | Quad Loss: 24.705446 | Acc: 0.861111 | Val Quad Loss: 16.478500 | Val Acc: 0.740000\n",
            "Epoch 59 | Training Loss: 2.068512 | Quad Loss: 22.126278 | Acc: 0.877778 | Val Quad Loss: 16.712724 | Val Acc: 0.756667\n",
            "Epoch 64 | Training Loss: 1.911189 | Quad Loss: 21.469489 | Acc: 0.887778 | Val Quad Loss: 16.852162 | Val Acc: 0.723333\n",
            "Epoch 69 | Training Loss: 1.773893 | Quad Loss: 21.270815 | Acc: 0.881111 | Val Quad Loss: 16.979853 | Val Acc: 0.713333\n",
            "Epoch 74 | Training Loss: 1.680467 | Quad Loss: 18.720781 | Acc: 0.892222 | Val Quad Loss: 15.954048 | Val Acc: 0.740000\n",
            "Epoch 79 | Training Loss: 1.559108 | Quad Loss: 16.131627 | Acc: 0.907778 | Val Quad Loss: 15.779781 | Val Acc: 0.743333\n",
            "Epoch 84 | Training Loss: 1.400948 | Quad Loss: 15.694793 | Acc: 0.916667 | Val Quad Loss: 16.218581 | Val Acc: 0.736667\n",
            "Epoch 89 | Training Loss: 1.306419 | Quad Loss: 15.178394 | Acc: 0.920000 | Val Quad Loss: 16.378208 | Val Acc: 0.736667\n",
            "Epoch 94 | Training Loss: 1.238442 | Quad Loss: 13.830540 | Acc: 0.923333 | Val Quad Loss: 16.111547 | Val Acc: 0.753333\n",
            "Epoch 99 | Training Loss: 1.145970 | Quad Loss: 14.807109 | Acc: 0.913333 | Val Quad Loss: 16.238768 | Val Acc: 0.770000\n"
          ],
          "name": "stdout"
        },
        {
          "output_type": "display_data",
          "data": {
            "image/png": "[encoded data removed]",
            "text/plain": [
              "<Figure size 864x288 with 2 Axes>"
            ]
          },
          "metadata": {
            "tags": []
          }
        },
        {
          "output_type": "stream",
          "text": [
            "22.11337150766485 0.7433333333333333\n"
          ],
          "name": "stdout"
        }
      ]
    },
    {
      "cell_type": "code",
      "metadata": {
        "id": "ZnVzCgif8tPM",
        "colab_type": "code",
        "colab": {
          "base_uri": "https://localhost:8080/",
          "height": 34
        },
        "outputId": "fe4a0901-8b94-45ed-ec11-cfcab4d925bd"
      },
      "source": [
        "dataloader_val = load_game_data(test_data_diffs, test_labels, batch_size=1, shuffle=False)\n",
        "batch_ql, acc, predictions = evaluate(model_pd, dataloader_val)\n",
        "print(batch_ql, acc)"
      ],
      "execution_count": 300,
      "outputs": [
        {
          "output_type": "stream",
          "text": [
            "18.57248523485032 0.7433333333333333\n"
          ],
          "name": "stdout"
        }
      ]
    },
    {
      "cell_type": "code",
      "metadata": {
        "id": "d4MDYypIChoE",
        "colab_type": "code",
        "colab": {
          "base_uri": "https://localhost:8080/",
          "height": 626
        },
        "outputId": "ffd84d11-33ad-4305-b2d9-ddfe27586b16"
      },
      "source": [
        "# Actually train\n",
        "model_pd = ConvNetPdBig(log_softmax=False, softmax=True)\n",
        "model_pd = model_pd.to(DEVICE)\n",
        "\n",
        "criterion = nn.MSELoss()\n",
        "optimizer = optim.Adam(model_pd.parameters(), lr=1e-4, weight_decay=0.0001)\n",
        "\n",
        "dataloader = load_game_data(train_val_data_diffs, train_val_labels, batch_size=4, shuffle=True)\n",
        "EPOCHS = 50\n",
        "\n",
        "softmax = nn.Softmax(-1)\n",
        "\n",
        "dataloader_val = load_game_data(train_val_data_diffs, train_val_labels, batch_size=1, shuffle=False)\n",
        "losses_4, acc_4 = train(model_pd, criterion, dataloader, dataloader_val, epochs=100, \n",
        "                        log_targets=False, model_softmax=True, log=5, val_data=test_data_diffs, val_labels=test_labels)\n",
        "\n",
        "plt.figure(figsize=(12, 4))\n",
        "plt.subplot(1, 2, 1)\n",
        "plt.plot(acc_4[0])\n",
        "plt.plot(acc_4[1])\n",
        "plt.subplot(1, 2, 2)\n",
        "plt.plot(losses_4)\n",
        "plt.show()\n",
        "\n",
        "dataloader_val = load_game_data(test_data_diffs, test_labels, batch_size=1, shuffle=False)\n",
        "batch_ql, acc, predictions = evaluate(model_pd, dataloader_val)\n",
        "print(batch_ql, acc)"
      ],
      "execution_count": 316,
      "outputs": [
        {
          "output_type": "stream",
          "text": [
            "Epoch 4  | Training Loss: 5.501438 | Quad Loss: 64.365599 | Acc: 0.776667 | Val Quad Loss: 21.032659 | Val Acc: 0.680000\n",
            "Epoch 9  | Training Loss: 5.031668 | Quad Loss: 57.969186 | Acc: 0.779167 | Val Quad Loss: 20.983629 | Val Acc: 0.696667\n",
            "Epoch 14 | Training Loss: 4.832123 | Quad Loss: 61.075978 | Acc: 0.784167 | Val Quad Loss: 22.025818 | Val Acc: 0.686667\n",
            "Epoch 19 | Training Loss: 4.556914 | Quad Loss: 52.706062 | Acc: 0.807500 | Val Quad Loss: 21.184644 | Val Acc: 0.706667\n",
            "Epoch 24 | Training Loss: 4.320541 | Quad Loss: 48.226000 | Acc: 0.822500 | Val Quad Loss: 19.796599 | Val Acc: 0.713333\n",
            "Epoch 29 | Training Loss: 4.057567 | Quad Loss: 44.504121 | Acc: 0.837500 | Val Quad Loss: 19.034386 | Val Acc: 0.720000\n",
            "Epoch 34 | Training Loss: 3.923785 | Quad Loss: 43.667930 | Acc: 0.823333 | Val Quad Loss: 18.600355 | Val Acc: 0.740000\n",
            "Epoch 39 | Training Loss: 3.584403 | Quad Loss: 43.658218 | Acc: 0.815000 | Val Quad Loss: 19.700282 | Val Acc: 0.713333\n",
            "Epoch 44 | Training Loss: 3.392765 | Quad Loss: 39.957010 | Acc: 0.835000 | Val Quad Loss: 19.245517 | Val Acc: 0.730000\n",
            "Epoch 49 | Training Loss: 3.227205 | Quad Loss: 37.238263 | Acc: 0.855833 | Val Quad Loss: 20.667805 | Val Acc: 0.726667\n",
            "Epoch 54 | Training Loss: 3.013256 | Quad Loss: 32.806336 | Acc: 0.865833 | Val Quad Loss: 19.135443 | Val Acc: 0.723333\n",
            "Epoch 59 | Training Loss: 2.810488 | Quad Loss: 32.047436 | Acc: 0.865833 | Val Quad Loss: 19.642692 | Val Acc: 0.706667\n",
            "Epoch 64 | Training Loss: 2.699821 | Quad Loss: 28.431307 | Acc: 0.872500 | Val Quad Loss: 18.633099 | Val Acc: 0.736667\n",
            "Epoch 69 | Training Loss: 2.410999 | Quad Loss: 26.173457 | Acc: 0.883333 | Val Quad Loss: 19.673303 | Val Acc: 0.753333\n",
            "Epoch 74 | Training Loss: 2.314153 | Quad Loss: 26.906481 | Acc: 0.887500 | Val Quad Loss: 19.229181 | Val Acc: 0.740000\n",
            "Epoch 79 | Training Loss: 2.110066 | Quad Loss: 23.394788 | Acc: 0.900833 | Val Quad Loss: 18.958000 | Val Acc: 0.746667\n",
            "Epoch 84 | Training Loss: 2.048943 | Quad Loss: 21.368529 | Acc: 0.905833 | Val Quad Loss: 18.508995 | Val Acc: 0.743333\n",
            "Epoch 89 | Training Loss: 1.784803 | Quad Loss: 20.301795 | Acc: 0.908333 | Val Quad Loss: 18.403018 | Val Acc: 0.740000\n",
            "Epoch 94 | Training Loss: 1.735877 | Quad Loss: 17.386888 | Acc: 0.925000 | Val Quad Loss: 19.218809 | Val Acc: 0.750000\n",
            "Epoch 99 | Training Loss: 1.585575 | Quad Loss: 15.726912 | Acc: 0.931667 | Val Quad Loss: 19.202570 | Val Acc: 0.726667\n"
          ],
          "name": "stdout"
        },
        {
          "output_type": "display_data",
          "data": {
            "image/png": "[encoded data removed]",
            "text/plain": [
              "<Figure size 864x288 with 2 Axes>"
            ]
          },
          "metadata": {
            "tags": []
          }
        },
        {
          "output_type": "stream",
          "text": [
            "19.202570081666636 0.7266666666666667\n"
          ],
          "name": "stdout"
        }
      ]
    },
    {
      "cell_type": "code",
      "metadata": {
        "id": "H-2oBxSX_OdK",
        "colab_type": "code",
        "colab": {
          "base_uri": "https://localhost:8080/",
          "height": 623
        },
        "outputId": "6681bb7b-1512-4b0a-b2e5-f016cddbd92b"
      },
      "source": [
        "# Actually train\n",
        "model_pd = ConvNetPdBig(log_softmax=False, softmax=True)\n",
        "model_pd = model_pd.to(DEVICE)\n",
        "\n",
        "criterion = nn.MSELoss()\n",
        "optimizer = optim.Adam(model_pd.parameters(), lr=1e-4, weight_decay=0.0001)\n",
        "\n",
        "dataloader = load_game_data(train_val_data_diffs, train_val_labels, batch_size=4, shuffle=True)\n",
        "EPOCHS = 50\n",
        "\n",
        "softmax = nn.Softmax(-1)\n",
        "\n",
        "dataloader_val = load_game_data(train_val_data_diffs, train_val_labels, batch_size=1, shuffle=False)\n",
        "losses_4, acc_4 = train(model_pd, criterion, dataloader, dataloader_val, epochs=100, \n",
        "                        log_targets=False, model_softmax=True, log=5, val_data=test_data_diffs)\n",
        "\n",
        "plt.figure(figsize=(12, 4))\n",
        "plt.subplot(1, 2, 1)\n",
        "plt.plot(acc_4[0])\n",
        "plt.plot(acc_4[1])\n",
        "plt.subplot(1, 2, 2)\n",
        "plt.plot(losses_4)\n",
        "plt.show()\n",
        "\n",
        "dataloader_val = load_game_data(test_data_diffs, test_labels, batch_size=1, shuffle=False)\n",
        "batch_ql, acc, predictions = evaluate(model_pd, dataloader_val)\n",
        "print(batch_ql, acc)"
      ],
      "execution_count": 310,
      "outputs": [
        {
          "output_type": "stream",
          "text": [
            "Epoch 4  | Training Loss: 5.786638 | Quad Loss: 71.410812 | Acc: 0.750833 | Val Quad Loss: 89.374466 | Val Acc: 0.380000\n",
            "Epoch 9  | Training Loss: 5.032245 | Quad Loss: 57.656427 | Acc: 0.785000 | Val Quad Loss: 91.265797 | Val Acc: 0.353333\n",
            "Epoch 14 | Training Loss: 4.804359 | Quad Loss: 56.550067 | Acc: 0.796667 | Val Quad Loss: 90.498452 | Val Acc: 0.363333\n",
            "Epoch 19 | Training Loss: 4.500258 | Quad Loss: 54.891164 | Acc: 0.803333 | Val Quad Loss: 95.437627 | Val Acc: 0.340000\n",
            "Epoch 24 | Training Loss: 4.273457 | Quad Loss: 47.407304 | Acc: 0.823333 | Val Quad Loss: 93.843675 | Val Acc: 0.363333\n",
            "Epoch 29 | Training Loss: 3.991976 | Quad Loss: 44.552973 | Acc: 0.830833 | Val Quad Loss: 93.598049 | Val Acc: 0.346667\n",
            "Epoch 34 | Training Loss: 3.938167 | Quad Loss: 43.240474 | Acc: 0.844167 | Val Quad Loss: 90.301788 | Val Acc: 0.330000\n",
            "Epoch 39 | Training Loss: 3.630556 | Quad Loss: 43.109612 | Acc: 0.831667 | Val Quad Loss: 90.848655 | Val Acc: 0.346667\n",
            "Epoch 44 | Training Loss: 3.452489 | Quad Loss: 42.475644 | Acc: 0.830833 | Val Quad Loss: 96.726644 | Val Acc: 0.356667\n",
            "Epoch 49 | Training Loss: 3.309159 | Quad Loss: 38.238058 | Acc: 0.852500 | Val Quad Loss: 96.055117 | Val Acc: 0.356667\n",
            "Epoch 54 | Training Loss: 3.097575 | Quad Loss: 35.827045 | Acc: 0.859167 | Val Quad Loss: 95.008025 | Val Acc: 0.356667\n",
            "Epoch 59 | Training Loss: 2.974119 | Quad Loss: 33.877833 | Acc: 0.856667 | Val Quad Loss: 94.674929 | Val Acc: 0.340000\n",
            "Epoch 64 | Training Loss: 2.908248 | Quad Loss: 31.264646 | Acc: 0.868333 | Val Quad Loss: 94.129490 | Val Acc: 0.350000\n",
            "Epoch 69 | Training Loss: 2.594250 | Quad Loss: 28.638119 | Acc: 0.880000 | Val Quad Loss: 96.631515 | Val Acc: 0.366667\n",
            "Epoch 74 | Training Loss: 2.513038 | Quad Loss: 30.537940 | Acc: 0.878333 | Val Quad Loss: 98.663887 | Val Acc: 0.346667\n",
            "Epoch 79 | Training Loss: 2.368566 | Quad Loss: 26.827785 | Acc: 0.890833 | Val Quad Loss: 98.896172 | Val Acc: 0.353333\n",
            "Epoch 84 | Training Loss: 2.235781 | Quad Loss: 24.550550 | Acc: 0.905833 | Val Quad Loss: 93.956961 | Val Acc: 0.366667\n",
            "Epoch 89 | Training Loss: 2.029577 | Quad Loss: 22.526273 | Acc: 0.907500 | Val Quad Loss: 98.510639 | Val Acc: 0.350000\n",
            "Epoch 94 | Training Loss: 1.924406 | Quad Loss: 20.125156 | Acc: 0.915000 | Val Quad Loss: 101.663766 | Val Acc: 0.360000\n",
            "Epoch 99 | Training Loss: 1.841218 | Quad Loss: 19.975421 | Acc: 0.915000 | Val Quad Loss: 100.493433 | Val Acc: 0.350000\n"
          ],
          "name": "stdout"
        },
        {
          "output_type": "display_data",
          "data": {
            "image/png": "[encoded data removed]",
            "text/plain": [
              "<Figure size 864x288 with 2 Axes>"
            ]
          },
          "metadata": {
            "tags": []
          }
        },
        {
          "output_type": "stream",
          "text": [
            "16.047110977524426 0.77\n"
          ],
          "name": "stdout"
        }
      ]
    },
    {
      "cell_type": "code",
      "metadata": {
        "id": "1_oJLLNGemtS",
        "colab_type": "code",
        "outputId": "3375c3bd-402b-477a-ea09-ecc2a74a4d68",
        "colab": {
          "base_uri": "https://localhost:8080/",
          "height": 452
        }
      },
      "source": [
        "# Actually train\n",
        "model_pd = ConvNetPd(log_softmax=False, softmax=True)\n",
        "model_pd = model_pd.to(DEVICE)\n",
        "\n",
        "criterion = nn.MSELoss()\n",
        "optimizer = optim.Adam(model_pd.parameters(), lr=1e-4, weight_decay=0.0001)\n",
        "\n",
        "dataloader = load_game_data(train_data_diffs, train_labels, batch_size=4, shuffle=True)\n",
        "EPOCHS = 50\n",
        "\n",
        "softmax = nn.Softmax(-1)\n",
        "\n",
        "dataloader_val = load_game_data(train_data_diffs, train_labels, batch_size=1, shuffle=False)\n",
        "losses_4, acc_4 = train(model_pd, criterion, dataloader, dataloader_val, epochs=50, \n",
        "                        log_targets=False, model_softmax=True, log=5, val_data=val_data_diffs)\n",
        "\n",
        "plt.figure(figsize=(12, 4))\n",
        "plt.subplot(1, 2, 1)\n",
        "plt.plot(acc_4[0])\n",
        "plt.plot(acc_4[1])\n",
        "plt.subplot(1, 2, 2)\n",
        "plt.plot(losses_4)"
      ],
      "execution_count": 270,
      "outputs": [
        {
          "output_type": "stream",
          "text": [
            "Epoch 4  | Training Loss: 13.918626 | Quad Loss: 164.352463 | Acc: 0.462222 | Val Quad Loss: 58.174185 | Val Acc: 0.460000\n",
            "Epoch 9  | Training Loss: 8.246409 | Quad Loss: 89.186407 | Acc: 0.695556 | Val Quad Loss: 32.330154 | Val Acc: 0.663333\n",
            "Epoch 14 | Training Loss: 4.556327 | Quad Loss: 53.043805 | Acc: 0.778889 | Val Quad Loss: 20.819994 | Val Acc: 0.676667\n",
            "Epoch 19 | Training Loss: 3.978326 | Quad Loss: 46.618139 | Acc: 0.786667 | Val Quad Loss: 19.191300 | Val Acc: 0.736667\n",
            "Epoch 24 | Training Loss: 3.764791 | Quad Loss: 45.842911 | Acc: 0.793333 | Val Quad Loss: 19.458286 | Val Acc: 0.740000\n",
            "Epoch 29 | Training Loss: 3.700528 | Quad Loss: 43.002577 | Acc: 0.798889 | Val Quad Loss: 18.365958 | Val Acc: 0.756667\n",
            "Epoch 34 | Training Loss: 3.656548 | Quad Loss: 43.277399 | Acc: 0.804444 | Val Quad Loss: 18.707201 | Val Acc: 0.733333\n",
            "Epoch 39 | Training Loss: 3.598693 | Quad Loss: 42.139972 | Acc: 0.808889 | Val Quad Loss: 18.174332 | Val Acc: 0.740000\n",
            "Epoch 44 | Training Loss: 3.653533 | Quad Loss: 42.540783 | Acc: 0.805556 | Val Quad Loss: 18.606875 | Val Acc: 0.740000\n",
            "Epoch 49 | Training Loss: 3.539135 | Quad Loss: 43.515321 | Acc: 0.805556 | Val Quad Loss: 18.757944 | Val Acc: 0.736667\n"
          ],
          "name": "stdout"
        },
        {
          "output_type": "execute_result",
          "data": {
            "text/plain": [
              "[<matplotlib.lines.Line2D at 0x7f9a3b3549b0>]"
            ]
          },
          "metadata": {
            "tags": []
          },
          "execution_count": 270
        },
        {
          "output_type": "display_data",
          "data": {
            "image/png": "[encoded data removed]",
            "text/plain": [
              "<Figure size 864x288 with 2 Axes>"
            ]
          },
          "metadata": {
            "tags": []
          }
        }
      ]
    },
    {
      "cell_type": "markdown",
      "metadata": {
        "id": "MUqqS_bfexOQ",
        "colab_type": "text"
      },
      "source": [
        "### ***Training Setup 4: MSE with All Features***"
      ]
    },
    {
      "cell_type": "code",
      "metadata": {
        "id": "wsfSnumOeTqt",
        "colab_type": "code",
        "colab": {}
      },
      "source": [
        "np.random.seed(SEED)\n",
        "\n",
        "# Shuffle data first\n",
        "game_ix = list(range(len(game_data_combined)))\n",
        "np.random.shuffle(game_ix)\n",
        "\n",
        "game_data_combined_ = game_data_combined[game_ix]\n",
        "game_labels_ = game_labels[game_ix]\n",
        "\n",
        "# Prepare splits\n",
        "train_split = int(len(game_data_combined_) * TRAIN_SPLIT)\n",
        "test_split = int(len(game_data_combined_) * (TRAIN_SPLIT + VAL_SPLIT))\n",
        "\n",
        "train_data_combined = game_data_combined_[:train_split]\n",
        "val_data_combined = game_data_combined_[train_split:test_split]\n",
        "test_data_combined = game_data_combined_[test_split:]\n",
        "\n",
        "train_labels = game_labels_[:train_split]\n",
        "val_labels = game_labels_[train_split:test_split]\n",
        "test_labels = game_labels_[test_split:]\n",
        "\n",
        "train_val_data_combined = game_data_combined_[:test_split]\n",
        "train_val_labels = game_labels_[:test_split]"
      ],
      "execution_count": 0,
      "outputs": []
    },
    {
      "cell_type": "code",
      "metadata": {
        "id": "Rk_AU8yga8Vw",
        "colab_type": "code",
        "colab": {}
      },
      "source": [
        "class ConvNetAll(nn.Module):\n",
        "    \"\"\"\n",
        "    ConvNet Model for all features data. Now input has 5 channels\n",
        "    \"\"\"\n",
        "    def __init__(self, log_softmax=False, softmax=True):\n",
        "        super(ConvNetAll, self).__init__()\n",
        "        self.log = log_softmax\n",
        "        self.soft = softmax\n",
        "        # Input: 3 channels, 8 output channels, 3x3 conv -> 8x3x3 output\n",
        "        self.conv1 = nn.Conv2d(5, 32, 3, padding=1) \n",
        "        self.conv2 = nn.Conv2d(32, 64, 3, padding=1)\n",
        "        self.conv3 = nn.Conv2d(64, 128, 3, padding=1)  \n",
        "        self.fc1 = nn.Linear(128 * 3 * 3, 512)  \n",
        "        self.fc2 = nn.Linear(512, 128)\n",
        "        self.fc3 = nn.Linear(128, 32)\n",
        "        self.fc4 = nn.Linear(32, 3)  # Predict all three frequencies, use Softmax?\n",
        "        self.log_softmax = nn.LogSoftmax(dim=1)\n",
        "        self.softmax = nn.Softmax(dim=1)\n",
        "\n",
        "        # For some reason doing the softmax in here is bad\n",
        "\n",
        "    def forward(self, x):\n",
        "        x = F.relu(self.conv1(x))\n",
        "        x = F.relu(self.conv2(x))\n",
        "        x = F.relu(self.conv3(x))\n",
        "        x = x.view(-1, self.num_flat_features(x))\n",
        "        x = F.relu(self.fc1(x))\n",
        "        x = F.relu(self.fc2(x))\n",
        "        x = F.relu(self.fc3(x))\n",
        "        x = self.fc4(x)\n",
        "        if self.log:\n",
        "            return self.log_softmax(x)\n",
        "        elif self.soft:\n",
        "            return self.softmax(x)\n",
        "        return x\n",
        "\n",
        "    def num_flat_features(self, x):\n",
        "        size = x.size()[1:]  # all dimensions except the batch dimension\n",
        "        num_features = 1\n",
        "        for s in size:\n",
        "            num_features *= s\n",
        "        return num_features"
      ],
      "execution_count": 0,
      "outputs": []
    },
    {
      "cell_type": "code",
      "metadata": {
        "id": "1y7_bVG12ku4",
        "colab_type": "code",
        "colab": {
          "base_uri": "https://localhost:8080/",
          "height": 34
        },
        "outputId": "6980f838-8bea-42a5-86f6-e8952d2d5d91"
      },
      "source": [
        "train_data_combined.shape"
      ],
      "execution_count": 279,
      "outputs": [
        {
          "output_type": "execute_result",
          "data": {
            "text/plain": [
              "(900, 5, 3, 3)"
            ]
          },
          "metadata": {
            "tags": []
          },
          "execution_count": 279
        }
      ]
    },
    {
      "cell_type": "code",
      "metadata": {
        "id": "6L9TJFrC3jXT",
        "colab_type": "code",
        "colab": {
          "base_uri": "https://localhost:8080/",
          "height": 622
        },
        "outputId": "b6697868-c7a8-418a-c0d1-02bbf65fbd5c"
      },
      "source": [
        "# Actually train\n",
        "model_all = ConvNetAll(log_softmax=False, softmax=True)\n",
        "model_all = model_all.to(DEVICE)\n",
        "\n",
        "criterion = nn.MSELoss()\n",
        "optimizer = optim.Adam(model_all.parameters(), lr=1e-4, weight_decay=0.0001)\n",
        "\n",
        "dataloader = load_game_data(train_data_combined, train_labels, batch_size=4, shuffle=True)\n",
        "EPOCHS = 50\n",
        "\n",
        "\n",
        "dataloader_val = load_game_data(train_data_combined, train_labels, batch_size=1, shuffle=False)\n",
        "losses_4_all, acc_4_all = train(model_all, criterion, dataloader, dataloader_val, epochs=100, \n",
        "                                log_targets=False, model_softmax=True, log=5, val_data=val_data_combined)\n",
        "\n",
        "plt.figure(figsize=(12, 4))\n",
        "plt.subplot(1, 2, 1)\n",
        "plt.plot(acc_4_all[0])\n",
        "plt.plot(acc_4_all[1])\n",
        "plt.subplot(1, 2, 2)\n",
        "plt.plot(losses_4_all)"
      ],
      "execution_count": 292,
      "outputs": [
        {
          "output_type": "stream",
          "text": [
            "Epoch 4  | Training Loss: 4.462605 | Quad Loss: 46.044834 | Acc: 0.798889 | Val Quad Loss: 19.207973 | Val Acc: 0.746667\n",
            "Epoch 9  | Training Loss: 3.743229 | Quad Loss: 44.614396 | Acc: 0.798889 | Val Quad Loss: 18.825153 | Val Acc: 0.740000\n",
            "Epoch 14 | Training Loss: 3.633482 | Quad Loss: 38.743468 | Acc: 0.816667 | Val Quad Loss: 17.775530 | Val Acc: 0.740000\n",
            "Epoch 19 | Training Loss: 3.246393 | Quad Loss: 40.009557 | Acc: 0.812222 | Val Quad Loss: 18.987215 | Val Acc: 0.730000\n",
            "Epoch 24 | Training Loss: 3.040075 | Quad Loss: 33.170274 | Acc: 0.833333 | Val Quad Loss: 17.031661 | Val Acc: 0.733333\n",
            "Epoch 29 | Training Loss: 2.866276 | Quad Loss: 31.968096 | Acc: 0.830000 | Val Quad Loss: 16.713107 | Val Acc: 0.726667\n",
            "Epoch 34 | Training Loss: 2.684380 | Quad Loss: 29.268894 | Acc: 0.851111 | Val Quad Loss: 16.515945 | Val Acc: 0.736667\n",
            "Epoch 39 | Training Loss: 2.545450 | Quad Loss: 29.041823 | Acc: 0.841111 | Val Quad Loss: 16.688833 | Val Acc: 0.743333\n",
            "Epoch 44 | Training Loss: 2.460074 | Quad Loss: 27.021523 | Acc: 0.862222 | Val Quad Loss: 16.448669 | Val Acc: 0.733333\n",
            "Epoch 49 | Training Loss: 2.262855 | Quad Loss: 29.807522 | Acc: 0.833333 | Val Quad Loss: 17.223595 | Val Acc: 0.720000\n",
            "Epoch 54 | Training Loss: 2.178087 | Quad Loss: 23.533231 | Acc: 0.863333 | Val Quad Loss: 16.022735 | Val Acc: 0.743333\n",
            "Epoch 59 | Training Loss: 2.015687 | Quad Loss: 21.906980 | Acc: 0.875556 | Val Quad Loss: 15.948138 | Val Acc: 0.736667\n",
            "Epoch 64 | Training Loss: 1.871499 | Quad Loss: 22.282286 | Acc: 0.871111 | Val Quad Loss: 16.415466 | Val Acc: 0.740000\n",
            "Epoch 69 | Training Loss: 1.745602 | Quad Loss: 21.230409 | Acc: 0.886667 | Val Quad Loss: 16.459299 | Val Acc: 0.726667\n",
            "Epoch 74 | Training Loss: 1.635697 | Quad Loss: 19.589917 | Acc: 0.885556 | Val Quad Loss: 15.553947 | Val Acc: 0.736667\n",
            "Epoch 79 | Training Loss: 1.528421 | Quad Loss: 16.712189 | Acc: 0.898889 | Val Quad Loss: 16.091674 | Val Acc: 0.743333\n",
            "Epoch 84 | Training Loss: 1.434298 | Quad Loss: 14.881853 | Acc: 0.927778 | Val Quad Loss: 15.632051 | Val Acc: 0.753333\n",
            "Epoch 89 | Training Loss: 1.288807 | Quad Loss: 16.070429 | Acc: 0.914444 | Val Quad Loss: 16.117214 | Val Acc: 0.720000\n",
            "Epoch 94 | Training Loss: 1.265965 | Quad Loss: 13.672204 | Acc: 0.926667 | Val Quad Loss: 15.738820 | Val Acc: 0.743333\n",
            "Epoch 99 | Training Loss: 1.193062 | Quad Loss: 13.212012 | Acc: 0.931111 | Val Quad Loss: 15.925569 | Val Acc: 0.743333\n"
          ],
          "name": "stdout"
        },
        {
          "output_type": "execute_result",
          "data": {
            "text/plain": [
              "[<matplotlib.lines.Line2D at 0x7f9a3a94e7f0>]"
            ]
          },
          "metadata": {
            "tags": []
          },
          "execution_count": 292
        },
        {
          "output_type": "display_data",
          "data": {
            "image/png": "[encoded data removed]",
            "text/plain": [
              "<Figure size 864x288 with 2 Axes>"
            ]
          },
          "metadata": {
            "tags": []
          }
        }
      ]
    },
    {
      "cell_type": "code",
      "metadata": {
        "id": "qQ6LsSzz8YdT",
        "colab_type": "code",
        "colab": {
          "base_uri": "https://localhost:8080/",
          "height": 34
        },
        "outputId": "035b74ac-043f-41a1-ac60-6015ccfa9fc2"
      },
      "source": [
        "dataloader_val = load_game_data(test_data_combined, test_labels, batch_size=1, shuffle=False)\n",
        "batch_ql, acc, predictions = evaluate(model_all, dataloader_val)\n",
        "print(batch_ql, acc)"
      ],
      "execution_count": 296,
      "outputs": [
        {
          "output_type": "stream",
          "text": [
            "20.642596818084712 0.7466666666666667\n"
          ],
          "name": "stdout"
        }
      ]
    },
    {
      "cell_type": "code",
      "metadata": {
        "id": "QpM6xGKF5ERq",
        "colab_type": "code",
        "colab": {
          "base_uri": "https://localhost:8080/",
          "height": 282
        },
        "outputId": "cbe5c58d-d5c4-4010-cf14-afb3ce9ab922"
      },
      "source": [
        "plt.figure(figsize=(12, 4))\n",
        "plt.subplot(1, 2, 1)\n",
        "plt.plot(acc_4_all[0])\n",
        "plt.plot(acc_4_all[1])\n",
        "plt.subplot(1, 2, 2)\n",
        "plt.plot(losses_4_all)"
      ],
      "execution_count": 287,
      "outputs": [
        {
          "output_type": "execute_result",
          "data": {
            "text/plain": [
              "[<matplotlib.lines.Line2D at 0x7f9a3abc4e48>]"
            ]
          },
          "metadata": {
            "tags": []
          },
          "execution_count": 287
        },
        {
          "output_type": "display_data",
          "data": {
            "image/png": "[encoded data removed]",
            "text/plain": [
              "<Figure size 864x288 with 2 Axes>"
            ]
          },
          "metadata": {
            "tags": []
          }
        }
      ]
    },
    {
      "cell_type": "code",
      "metadata": {
        "id": "v5HKhzzRY6uT",
        "colab_type": "code",
        "outputId": "8f8ec654-41fe-4f10-edb6-396b4601115c",
        "colab": {
          "base_uri": "https://localhost:8080/",
          "height": 622
        }
      },
      "source": [
        "# Actually train\n",
        "model_all = ConvNetAll(log_softmax=False, softmax=True)\n",
        "model_all = model_all.to(DEVICE)\n",
        "\n",
        "criterion = nn.MSELoss()\n",
        "optimizer = optim.Adam(model_all.parameters(), lr=1e-4, weight_decay=0.0001)\n",
        "\n",
        "dataloader = load_game_data(train_val_data_combined, train_val_labels, batch_size=4, shuffle=True)\n",
        "EPOCHS = 50\n",
        "\n",
        "softmax = nn.Softmax(-1)\n",
        "\n",
        "dataloader_val = load_game_data(train_data_combined, train_val_labels, batch_size=1, shuffle=False)\n",
        "losses_4_all, acc_4_all = train(model_all, criterion, dataloader, dataloader_val, epochs=100, \n",
        "                                log_targets=False, model_softmax=True, log=5, val_data=test_data_combined, val_labels=test_labels)\n",
        "\n",
        "plt.figure(figsize=(12, 4))\n",
        "plt.subplot(1, 2, 1)\n",
        "plt.plot(acc_4_all[0])\n",
        "plt.plot(acc_4_all[1])\n",
        "plt.subplot(1, 2, 2)\n",
        "plt.plot(losses_4_all)"
      ],
      "execution_count": 312,
      "outputs": [
        {
          "output_type": "stream",
          "text": [
            "Epoch 4  | Training Loss: 5.822510 | Quad Loss: 49.902463 | Acc: 0.772222 | Val Quad Loss: 22.374212 | Val Acc: 0.676667\n",
            "Epoch 9  | Training Loss: 5.090346 | Quad Loss: 42.025914 | Acc: 0.802222 | Val Quad Loss: 21.028508 | Val Acc: 0.700000\n",
            "Epoch 14 | Training Loss: 4.742860 | Quad Loss: 41.370831 | Acc: 0.810000 | Val Quad Loss: 21.071638 | Val Acc: 0.680000\n",
            "Epoch 19 | Training Loss: 4.455477 | Quad Loss: 37.306469 | Acc: 0.815556 | Val Quad Loss: 20.541512 | Val Acc: 0.696667\n",
            "Epoch 24 | Training Loss: 4.148939 | Quad Loss: 32.899329 | Acc: 0.827778 | Val Quad Loss: 18.600758 | Val Acc: 0.706667\n",
            "Epoch 29 | Training Loss: 3.762998 | Quad Loss: 30.143518 | Acc: 0.842222 | Val Quad Loss: 17.872159 | Val Acc: 0.716667\n",
            "Epoch 34 | Training Loss: 3.604200 | Quad Loss: 28.270808 | Acc: 0.855556 | Val Quad Loss: 17.087232 | Val Acc: 0.713333\n",
            "Epoch 39 | Training Loss: 3.223295 | Quad Loss: 29.632975 | Acc: 0.852222 | Val Quad Loss: 17.873742 | Val Acc: 0.700000\n",
            "Epoch 44 | Training Loss: 2.999368 | Quad Loss: 25.069056 | Acc: 0.867778 | Val Quad Loss: 16.563995 | Val Acc: 0.750000\n",
            "Epoch 49 | Training Loss: 2.775286 | Quad Loss: 24.676015 | Acc: 0.856667 | Val Quad Loss: 17.891263 | Val Acc: 0.750000\n",
            "Epoch 54 | Training Loss: 2.504716 | Quad Loss: 21.640051 | Acc: 0.885556 | Val Quad Loss: 17.274863 | Val Acc: 0.753333\n",
            "Epoch 59 | Training Loss: 2.411214 | Quad Loss: 23.378090 | Acc: 0.867778 | Val Quad Loss: 17.762624 | Val Acc: 0.756667\n",
            "Epoch 64 | Training Loss: 2.261784 | Quad Loss: 17.772414 | Acc: 0.897778 | Val Quad Loss: 15.914289 | Val Acc: 0.750000\n",
            "Epoch 69 | Training Loss: 2.050377 | Quad Loss: 16.076111 | Acc: 0.907778 | Val Quad Loss: 16.302639 | Val Acc: 0.753333\n",
            "Epoch 74 | Training Loss: 1.965278 | Quad Loss: 16.852986 | Acc: 0.908889 | Val Quad Loss: 16.890395 | Val Acc: 0.763333\n",
            "Epoch 79 | Training Loss: 1.822493 | Quad Loss: 15.809420 | Acc: 0.922222 | Val Quad Loss: 16.648894 | Val Acc: 0.753333\n",
            "Epoch 84 | Training Loss: 1.732879 | Quad Loss: 15.956587 | Acc: 0.914444 | Val Quad Loss: 16.627870 | Val Acc: 0.756667\n",
            "Epoch 89 | Training Loss: 1.539388 | Quad Loss: 12.294575 | Acc: 0.918889 | Val Quad Loss: 16.552771 | Val Acc: 0.770000\n",
            "Epoch 94 | Training Loss: 1.450932 | Quad Loss: 11.725978 | Acc: 0.930000 | Val Quad Loss: 16.468457 | Val Acc: 0.786667\n",
            "Epoch 99 | Training Loss: 1.442308 | Quad Loss: 12.319833 | Acc: 0.918889 | Val Quad Loss: 17.726559 | Val Acc: 0.780000\n"
          ],
          "name": "stdout"
        },
        {
          "output_type": "execute_result",
          "data": {
            "text/plain": [
              "[<matplotlib.lines.Line2D at 0x7f9a3a900fd0>]"
            ]
          },
          "metadata": {
            "tags": []
          },
          "execution_count": 312
        },
        {
          "output_type": "display_data",
          "data": {
            "image/png": "[encoded data removed]",
            "text/plain": [
              "<Figure size 864x288 with 2 Axes>"
            ]
          },
          "metadata": {
            "tags": []
          }
        }
      ]
    },
    {
      "cell_type": "code",
      "metadata": {
        "id": "OKbsrDT1Vmrv",
        "colab_type": "code",
        "outputId": "936a1068-3c30-4bec-9f4f-0f028773b596",
        "colab": {
          "base_uri": "https://localhost:8080/",
          "height": 34
        }
      },
      "source": [
        "dataloader_val = load_game_data(test_data_combined, test_labels, batch_size=1, shuffle=False)\n",
        "batch_ql, acc, predictions = evaluate(model_all, dataloader_val)\n",
        "print(batch_ql, acc)"
      ],
      "execution_count": 315,
      "outputs": [
        {
          "output_type": "stream",
          "text": [
            "17.726559403468855 0.78\n"
          ],
          "name": "stdout"
        }
      ]
    },
    {
      "cell_type": "code",
      "metadata": {
        "id": "kBXP31s3MA0s",
        "colab_type": "code",
        "colab": {
          "base_uri": "https://localhost:8080/",
          "height": 962
        },
        "outputId": "f5d20522-f626-4726-fa39-2b895acd26ee"
      },
      "source": [
        "# Actually train\n",
        "model_all = ConvNetPdBig(log_softmax=False, softmax=True, dropout=0.4, channels=5)\n",
        "model_all = model_all.to(DEVICE)\n",
        "\n",
        "criterion = nn.MSELoss()\n",
        "optimizer = optim.Adam(model_all.parameters(), lr=1e-4, weight_decay=0.0001)\n",
        "\n",
        "dataloader = load_game_data(train_val_data_combined, train_val_labels, batch_size=4, shuffle=True)\n",
        "EPOCHS = 50\n",
        "\n",
        "softmax = nn.Softmax(-1)\n",
        "\n",
        "dataloader_val = load_game_data(train_data_combined, train_val_labels, batch_size=1, shuffle=False)\n",
        "losses_4_all, acc_4_all = train(model_all, criterion, dataloader, dataloader_val, epochs=200, \n",
        "                                log_targets=False, model_softmax=True, log=5, val_data=test_data_combined, val_labels=test_labels)\n",
        "\n",
        "plt.figure(figsize=(12, 4))\n",
        "plt.subplot(1, 2, 1)\n",
        "plt.plot(acc_4_all[0])\n",
        "plt.plot(acc_4_all[1])\n",
        "plt.subplot(1, 2, 2)\n",
        "plt.plot(losses_4_all)\n",
        "\n",
        "dataloader_val = load_game_data(test_data_combined, test_labels, batch_size=1, shuffle=False)\n",
        "batch_ql, acc, predictions = evaluate(model_all, dataloader_val)\n",
        "print(batch_ql, acc)"
      ],
      "execution_count": 340,
      "outputs": [
        {
          "output_type": "stream",
          "text": [
            "Epoch 4  | Training Loss: 5.765525 | Quad Loss: 50.228992 | Acc: 0.774444 | Val Quad Loss: 22.391440 | Val Acc: 0.673333\n",
            "Epoch 9  | Training Loss: 5.065295 | Quad Loss: 41.252631 | Acc: 0.802222 | Val Quad Loss: 20.927001 | Val Acc: 0.693333\n",
            "Epoch 14 | Training Loss: 4.715080 | Quad Loss: 41.229034 | Acc: 0.814444 | Val Quad Loss: 21.102099 | Val Acc: 0.700000\n",
            "Epoch 19 | Training Loss: 4.378521 | Quad Loss: 36.803856 | Acc: 0.815556 | Val Quad Loss: 20.613398 | Val Acc: 0.703333\n",
            "Epoch 24 | Training Loss: 4.073956 | Quad Loss: 31.868873 | Acc: 0.838889 | Val Quad Loss: 18.604113 | Val Acc: 0.706667\n",
            "Epoch 29 | Training Loss: 3.641292 | Quad Loss: 29.374754 | Acc: 0.851111 | Val Quad Loss: 17.734584 | Val Acc: 0.740000\n",
            "Epoch 34 | Training Loss: 3.461947 | Quad Loss: 27.073315 | Acc: 0.858889 | Val Quad Loss: 17.239273 | Val Acc: 0.726667\n",
            "Epoch 39 | Training Loss: 3.130997 | Quad Loss: 28.555006 | Acc: 0.852222 | Val Quad Loss: 17.674725 | Val Acc: 0.730000\n",
            "Epoch 44 | Training Loss: 2.940372 | Quad Loss: 26.097896 | Acc: 0.860000 | Val Quad Loss: 17.206860 | Val Acc: 0.736667\n",
            "Epoch 49 | Training Loss: 2.756425 | Quad Loss: 24.171303 | Acc: 0.865556 | Val Quad Loss: 17.959473 | Val Acc: 0.743333\n",
            "Epoch 54 | Training Loss: 2.508684 | Quad Loss: 21.052645 | Acc: 0.883333 | Val Quad Loss: 16.880606 | Val Acc: 0.750000\n",
            "Epoch 59 | Training Loss: 2.427587 | Quad Loss: 22.859565 | Acc: 0.878889 | Val Quad Loss: 17.711950 | Val Acc: 0.740000\n",
            "Epoch 64 | Training Loss: 2.296663 | Quad Loss: 18.005092 | Acc: 0.904444 | Val Quad Loss: 16.215160 | Val Acc: 0.763333\n",
            "Epoch 69 | Training Loss: 2.105665 | Quad Loss: 16.683955 | Acc: 0.904444 | Val Quad Loss: 16.690694 | Val Acc: 0.766667\n",
            "Epoch 74 | Training Loss: 2.023389 | Quad Loss: 18.732893 | Acc: 0.906667 | Val Quad Loss: 17.129726 | Val Acc: 0.766667\n",
            "Epoch 79 | Training Loss: 1.873211 | Quad Loss: 15.921524 | Acc: 0.920000 | Val Quad Loss: 16.795889 | Val Acc: 0.780000\n",
            "Epoch 84 | Training Loss: 1.822021 | Quad Loss: 16.885302 | Acc: 0.907778 | Val Quad Loss: 16.883208 | Val Acc: 0.756667\n",
            "Epoch 89 | Training Loss: 1.612711 | Quad Loss: 13.496254 | Acc: 0.923333 | Val Quad Loss: 16.308073 | Val Acc: 0.786667\n",
            "Epoch 94 | Training Loss: 1.548321 | Quad Loss: 12.438557 | Acc: 0.937778 | Val Quad Loss: 17.090739 | Val Acc: 0.773333\n",
            "Epoch 99 | Training Loss: 1.493071 | Quad Loss: 11.458081 | Acc: 0.937778 | Val Quad Loss: 17.611124 | Val Acc: 0.770000\n",
            "Epoch 104 | Training Loss: 1.405362 | Quad Loss: 11.896030 | Acc: 0.934444 | Val Quad Loss: 16.451752 | Val Acc: 0.783333\n",
            "Epoch 109 | Training Loss: 1.291419 | Quad Loss: 11.230331 | Acc: 0.934444 | Val Quad Loss: 16.240052 | Val Acc: 0.756667\n",
            "Epoch 114 | Training Loss: 1.287086 | Quad Loss: 10.966618 | Acc: 0.934444 | Val Quad Loss: 16.545310 | Val Acc: 0.750000\n",
            "Epoch 119 | Training Loss: 1.130312 | Quad Loss: 8.592675 | Acc: 0.943333 | Val Quad Loss: 17.955874 | Val Acc: 0.770000\n",
            "Epoch 124 | Training Loss: 1.091127 | Quad Loss: 8.563632 | Acc: 0.942222 | Val Quad Loss: 17.696208 | Val Acc: 0.776667\n",
            "Epoch 129 | Training Loss: 1.071698 | Quad Loss: 9.014321 | Acc: 0.938889 | Val Quad Loss: 18.500596 | Val Acc: 0.773333\n",
            "Epoch 134 | Training Loss: 1.072263 | Quad Loss: 7.860016 | Acc: 0.936667 | Val Quad Loss: 17.564335 | Val Acc: 0.763333\n",
            "Epoch 139 | Training Loss: 0.952795 | Quad Loss: 6.941014 | Acc: 0.952222 | Val Quad Loss: 17.175434 | Val Acc: 0.780000\n",
            "Epoch 144 | Training Loss: 0.949749 | Quad Loss: 7.421307 | Acc: 0.963333 | Val Quad Loss: 16.803323 | Val Acc: 0.766667\n",
            "Epoch 149 | Training Loss: 0.925940 | Quad Loss: 6.711185 | Acc: 0.945556 | Val Quad Loss: 17.142447 | Val Acc: 0.770000\n",
            "Epoch 154 | Training Loss: 0.832598 | Quad Loss: 7.303704 | Acc: 0.953333 | Val Quad Loss: 16.846913 | Val Acc: 0.786667\n",
            "Epoch 159 | Training Loss: 0.859364 | Quad Loss: 7.814094 | Acc: 0.943333 | Val Quad Loss: 17.489491 | Val Acc: 0.766667\n",
            "Epoch 164 | Training Loss: 0.831755 | Quad Loss: 5.898723 | Acc: 0.955556 | Val Quad Loss: 17.530363 | Val Acc: 0.780000\n",
            "Epoch 169 | Training Loss: 0.781598 | Quad Loss: 7.229326 | Acc: 0.947778 | Val Quad Loss: 17.000955 | Val Acc: 0.776667\n",
            "Epoch 174 | Training Loss: 0.793458 | Quad Loss: 10.011946 | Acc: 0.915556 | Val Quad Loss: 18.863979 | Val Acc: 0.750000\n",
            "Epoch 179 | Training Loss: 0.771165 | Quad Loss: 5.201520 | Acc: 0.960000 | Val Quad Loss: 17.041819 | Val Acc: 0.763333\n",
            "Epoch 184 | Training Loss: 0.728874 | Quad Loss: 6.905617 | Acc: 0.948889 | Val Quad Loss: 17.369688 | Val Acc: 0.783333\n",
            "Epoch 189 | Training Loss: 0.756935 | Quad Loss: 5.564239 | Acc: 0.950000 | Val Quad Loss: 17.662187 | Val Acc: 0.746667\n",
            "Epoch 194 | Training Loss: 0.756117 | Quad Loss: 5.183239 | Acc: 0.958889 | Val Quad Loss: 16.336980 | Val Acc: 0.780000\n",
            "Epoch 199 | Training Loss: 0.729574 | Quad Loss: 5.177786 | Acc: 0.957778 | Val Quad Loss: 17.079326 | Val Acc: 0.780000\n",
            "17.079326187340484 0.78\n"
          ],
          "name": "stdout"
        },
        {
          "output_type": "display_data",
          "data": {
            "image/png": "[encoded data removed]",
            "text/plain": [
              "<Figure size 864x288 with 2 Axes>"
            ]
          },
          "metadata": {
            "tags": []
          }
        }
      ]
    },
    {
      "cell_type": "markdown",
      "metadata": {
        "id": "R2CtUSfHWIgm",
        "colab_type": "text"
      },
      "source": [
        "### ***Training Setup 5: MSE with Row Values***"
      ]
    },
    {
      "cell_type": "code",
      "metadata": {
        "id": "SLisTOpLmcv_",
        "colab_type": "code",
        "colab": {}
      },
      "source": [
        "np.random.seed(SEED)\n",
        "\n",
        "# Shuffle data first\n",
        "game_ix = list(range(len(game_data_row)))\n",
        "np.random.shuffle(game_ix)\n",
        "\n",
        "game_data_row_ = game_data_row[game_ix]\n",
        "game_labels_ = game_labels[game_ix]\n",
        "\n",
        "# Prepare splits\n",
        "train_split = int(len(game_data_row_) * TRAIN_SPLIT)\n",
        "test_split = int(len(game_data_row_) * (TRAIN_SPLIT + VAL_SPLIT))\n",
        "\n",
        "train_data_row = game_data_row_[:train_split]\n",
        "val_data_row = game_data_row_[train_split:test_split]\n",
        "test_data_row = game_data_row_[test_split:]\n",
        "\n",
        "train_labels = game_labels_[:train_split]\n",
        "val_labels = game_labels_[train_split:test_split]\n",
        "test_labels = game_labels_[test_split:]\n",
        "\n",
        "train_val_data_row = game_data_row_[:test_split]\n",
        "train_val_labels = game_labels_[:test_split]"
      ],
      "execution_count": 0,
      "outputs": []
    },
    {
      "cell_type": "code",
      "metadata": {
        "id": "8L7q-_Y5FF7X",
        "colab_type": "code",
        "colab": {
          "base_uri": "https://localhost:8080/",
          "height": 792
        },
        "outputId": "af018137-ced5-4beb-9495-d08497bf27ba"
      },
      "source": [
        "# Actually train\n",
        "model_row = ConvNetPdBig(log_softmax=False, softmax=True)\n",
        "model_row = model_row.to(DEVICE)\n",
        "\n",
        "criterion = nn.MSELoss()\n",
        "optimizer = optim.Adam(model_row.parameters(), lr=1e-4, weight_decay=0.0001)\n",
        "\n",
        "dataloader = load_game_data(train_val_data_row, train_val_labels, batch_size=4, shuffle=True)\n",
        "EPOCHS = 50\n",
        "\n",
        "softmax = nn.Softmax(-1)\n",
        "\n",
        "dataloader_val = load_game_data(train_val_data_row, train_val_labels, batch_size=1, shuffle=False)\n",
        "losses_4, acc_4 = train(model_row, criterion, dataloader, dataloader_val, epochs=150, \n",
        "                        log_targets=False, model_softmax=True, log=5, val_data=test_data_row, val_labels=test_labels)\n",
        "\n",
        "plt.figure(figsize=(12, 4))\n",
        "plt.subplot(1, 2, 1)\n",
        "plt.plot(acc_4[0])\n",
        "plt.plot(acc_4[1])\n",
        "plt.subplot(1, 2, 2)\n",
        "plt.plot(losses_4)\n",
        "plt.show()\n",
        "\n",
        "dataloader_val = load_game_data(test_data_row, test_labels, batch_size=1, shuffle=False)\n",
        "batch_ql, acc, predictions = evaluate(model_row, dataloader_val)\n",
        "print(batch_ql, acc)"
      ],
      "execution_count": 334,
      "outputs": [
        {
          "output_type": "stream",
          "text": [
            "Epoch 4  | Training Loss: 5.701913 | Quad Loss: 64.644576 | Acc: 0.779167 | Val Quad Loss: 21.244453 | Val Acc: 0.683333\n",
            "Epoch 9  | Training Loss: 5.129766 | Quad Loss: 56.414415 | Acc: 0.787500 | Val Quad Loss: 20.209313 | Val Acc: 0.716667\n",
            "Epoch 14 | Training Loss: 4.812775 | Quad Loss: 61.472096 | Acc: 0.789167 | Val Quad Loss: 21.708628 | Val Acc: 0.703333\n",
            "Epoch 19 | Training Loss: 4.602893 | Quad Loss: 55.986838 | Acc: 0.803333 | Val Quad Loss: 21.368943 | Val Acc: 0.700000\n",
            "Epoch 24 | Training Loss: 4.361612 | Quad Loss: 47.913702 | Acc: 0.813333 | Val Quad Loss: 19.517615 | Val Acc: 0.723333\n",
            "Epoch 29 | Training Loss: 4.058006 | Quad Loss: 46.080485 | Acc: 0.829167 | Val Quad Loss: 19.057167 | Val Acc: 0.723333\n",
            "Epoch 34 | Training Loss: 3.933606 | Quad Loss: 46.655444 | Acc: 0.830000 | Val Quad Loss: 18.996802 | Val Acc: 0.726667\n",
            "Epoch 39 | Training Loss: 3.660909 | Quad Loss: 45.500060 | Acc: 0.817500 | Val Quad Loss: 19.592830 | Val Acc: 0.730000\n",
            "Epoch 44 | Training Loss: 3.373345 | Quad Loss: 41.049175 | Acc: 0.837500 | Val Quad Loss: 19.631396 | Val Acc: 0.730000\n",
            "Epoch 49 | Training Loss: 3.174313 | Quad Loss: 35.468252 | Acc: 0.858333 | Val Quad Loss: 19.502556 | Val Acc: 0.740000\n",
            "Epoch 54 | Training Loss: 2.893449 | Quad Loss: 31.685565 | Acc: 0.867500 | Val Quad Loss: 18.255272 | Val Acc: 0.746667\n",
            "Epoch 59 | Training Loss: 2.716160 | Quad Loss: 30.056542 | Acc: 0.872500 | Val Quad Loss: 18.539800 | Val Acc: 0.743333\n",
            "Epoch 64 | Training Loss: 2.554384 | Quad Loss: 27.753178 | Acc: 0.890833 | Val Quad Loss: 18.301204 | Val Acc: 0.750000\n",
            "Epoch 69 | Training Loss: 2.300694 | Quad Loss: 25.184260 | Acc: 0.899167 | Val Quad Loss: 18.554310 | Val Acc: 0.750000\n",
            "Epoch 74 | Training Loss: 2.254669 | Quad Loss: 26.999510 | Acc: 0.897500 | Val Quad Loss: 18.694217 | Val Acc: 0.756667\n",
            "Epoch 79 | Training Loss: 2.061803 | Quad Loss: 22.421414 | Acc: 0.910833 | Val Quad Loss: 17.981519 | Val Acc: 0.736667\n",
            "Epoch 84 | Training Loss: 1.930394 | Quad Loss: 22.962947 | Acc: 0.904167 | Val Quad Loss: 17.870589 | Val Acc: 0.760000\n",
            "Epoch 89 | Training Loss: 1.756852 | Quad Loss: 19.564988 | Acc: 0.919167 | Val Quad Loss: 17.452147 | Val Acc: 0.750000\n",
            "Epoch 94 | Training Loss: 1.734009 | Quad Loss: 17.986919 | Acc: 0.930833 | Val Quad Loss: 17.786136 | Val Acc: 0.760000\n",
            "Epoch 99 | Training Loss: 1.540542 | Quad Loss: 17.483635 | Acc: 0.917500 | Val Quad Loss: 18.069455 | Val Acc: 0.746667\n",
            "Epoch 104 | Training Loss: 1.467326 | Quad Loss: 15.508052 | Acc: 0.934167 | Val Quad Loss: 17.050488 | Val Acc: 0.773333\n",
            "Epoch 109 | Training Loss: 1.344557 | Quad Loss: 15.678416 | Acc: 0.935833 | Val Quad Loss: 17.224614 | Val Acc: 0.760000\n",
            "Epoch 114 | Training Loss: 1.318924 | Quad Loss: 13.290658 | Acc: 0.940000 | Val Quad Loss: 16.871516 | Val Acc: 0.760000\n",
            "Epoch 119 | Training Loss: 1.185935 | Quad Loss: 13.073362 | Acc: 0.939167 | Val Quad Loss: 18.388015 | Val Acc: 0.746667\n",
            "Epoch 124 | Training Loss: 1.090769 | Quad Loss: 12.480991 | Acc: 0.943333 | Val Quad Loss: 17.318895 | Val Acc: 0.783333\n",
            "Epoch 129 | Training Loss: 1.107033 | Quad Loss: 11.249891 | Acc: 0.944167 | Val Quad Loss: 17.939972 | Val Acc: 0.756667\n",
            "Epoch 134 | Training Loss: 1.059635 | Quad Loss: 12.270985 | Acc: 0.929167 | Val Quad Loss: 18.293580 | Val Acc: 0.756667\n",
            "Epoch 139 | Training Loss: 1.031584 | Quad Loss: 11.696187 | Acc: 0.930833 | Val Quad Loss: 17.085988 | Val Acc: 0.780000\n",
            "Epoch 144 | Training Loss: 0.941709 | Quad Loss: 10.764751 | Acc: 0.948333 | Val Quad Loss: 17.734589 | Val Acc: 0.756667\n",
            "Epoch 149 | Training Loss: 0.982614 | Quad Loss: 9.904081 | Acc: 0.942500 | Val Quad Loss: 17.630452 | Val Acc: 0.780000\n"
          ],
          "name": "stdout"
        },
        {
          "output_type": "display_data",
          "data": {
            "image/png": "[encoded data removed]",
            "text/plain": [
              "<Figure size 864x288 with 2 Axes>"
            ]
          },
          "metadata": {
            "tags": []
          }
        },
        {
          "output_type": "stream",
          "text": [
            "17.630451930810523 0.78\n"
          ],
          "name": "stdout"
        }
      ]
    },
    {
      "cell_type": "code",
      "metadata": {
        "id": "5B7UBGQ6FVXb",
        "colab_type": "code",
        "colab": {
          "base_uri": "https://localhost:8080/",
          "height": 792
        },
        "outputId": "1afe905a-a48c-442c-8f1a-a27126691725"
      },
      "source": [
        "# Actually train\n",
        "model_row = ConvNetPdBig(log_softmax=False, softmax=True, dropout=0.5)\n",
        "model_row = model_row.to(DEVICE)\n",
        "\n",
        "criterion = nn.MSELoss()\n",
        "optimizer = optim.Adam(model_row.parameters(), lr=1e-4, weight_decay=0.0001)\n",
        "\n",
        "dataloader = load_game_data(train_val_data_row, train_val_labels, batch_size=4, shuffle=True)\n",
        "EPOCHS = 50\n",
        "\n",
        "softmax = nn.Softmax(-1)\n",
        "\n",
        "dataloader_val = load_game_data(train_val_data_row, train_val_labels, batch_size=1, shuffle=False)\n",
        "losses_4, acc_4 = train(model_row, criterion, dataloader, dataloader_val, epochs=150, \n",
        "                        log_targets=False, model_softmax=True, log=5, val_data=test_data_row, val_labels=test_labels)\n",
        "\n",
        "plt.figure(figsize=(12, 4))\n",
        "plt.subplot(1, 2, 1)\n",
        "plt.plot(acc_4[0])\n",
        "plt.plot(acc_4[1])\n",
        "plt.subplot(1, 2, 2)\n",
        "plt.plot(losses_4)\n",
        "plt.show()\n",
        "\n",
        "dataloader_val = load_game_data(test_data_row, test_labels, batch_size=1, shuffle=False)\n",
        "batch_ql, acc, predictions = evaluate(model_row, dataloader_val)\n",
        "print(batch_ql, acc)"
      ],
      "execution_count": 337,
      "outputs": [
        {
          "output_type": "stream",
          "text": [
            "Epoch 4  | Training Loss: 6.382774 | Quad Loss: 69.959102 | Acc: 0.754167 | Val Quad Loss: 22.564208 | Val Acc: 0.670000\n",
            "Epoch 9  | Training Loss: 5.204999 | Quad Loss: 58.410012 | Acc: 0.784167 | Val Quad Loss: 21.083154 | Val Acc: 0.696667\n",
            "Epoch 14 | Training Loss: 4.875060 | Quad Loss: 60.015268 | Acc: 0.793333 | Val Quad Loss: 21.670844 | Val Acc: 0.680000\n",
            "Epoch 19 | Training Loss: 4.680266 | Quad Loss: 53.991719 | Acc: 0.800000 | Val Quad Loss: 21.025554 | Val Acc: 0.706667\n",
            "Epoch 24 | Training Loss: 4.497416 | Quad Loss: 50.849048 | Acc: 0.805833 | Val Quad Loss: 20.286586 | Val Acc: 0.720000\n",
            "Epoch 29 | Training Loss: 4.167341 | Quad Loss: 47.490196 | Acc: 0.814167 | Val Quad Loss: 19.299420 | Val Acc: 0.746667\n",
            "Epoch 34 | Training Loss: 4.083513 | Quad Loss: 48.799516 | Acc: 0.801667 | Val Quad Loss: 19.651409 | Val Acc: 0.733333\n",
            "Epoch 39 | Training Loss: 3.709187 | Quad Loss: 44.389553 | Acc: 0.817500 | Val Quad Loss: 19.153834 | Val Acc: 0.730000\n",
            "Epoch 44 | Training Loss: 3.417875 | Quad Loss: 41.107162 | Acc: 0.814167 | Val Quad Loss: 18.997074 | Val Acc: 0.740000\n",
            "Epoch 49 | Training Loss: 3.228728 | Quad Loss: 37.864019 | Acc: 0.855000 | Val Quad Loss: 19.546757 | Val Acc: 0.730000\n",
            "Epoch 54 | Training Loss: 2.921047 | Quad Loss: 33.138632 | Acc: 0.865000 | Val Quad Loss: 17.981928 | Val Acc: 0.733333\n",
            "Epoch 59 | Training Loss: 2.777309 | Quad Loss: 30.469175 | Acc: 0.870833 | Val Quad Loss: 18.320232 | Val Acc: 0.736667\n",
            "Epoch 64 | Training Loss: 2.596270 | Quad Loss: 27.501308 | Acc: 0.881667 | Val Quad Loss: 17.482660 | Val Acc: 0.736667\n",
            "Epoch 69 | Training Loss: 2.308357 | Quad Loss: 26.257821 | Acc: 0.885833 | Val Quad Loss: 17.959555 | Val Acc: 0.750000\n",
            "Epoch 74 | Training Loss: 2.146372 | Quad Loss: 25.893302 | Acc: 0.896667 | Val Quad Loss: 17.963033 | Val Acc: 0.773333\n",
            "Epoch 79 | Training Loss: 2.011821 | Quad Loss: 24.562163 | Acc: 0.907500 | Val Quad Loss: 18.230771 | Val Acc: 0.753333\n",
            "Epoch 84 | Training Loss: 1.941428 | Quad Loss: 21.511939 | Acc: 0.923333 | Val Quad Loss: 17.426635 | Val Acc: 0.756667\n",
            "Epoch 89 | Training Loss: 1.686833 | Quad Loss: 18.389131 | Acc: 0.925000 | Val Quad Loss: 16.450893 | Val Acc: 0.760000\n",
            "Epoch 94 | Training Loss: 1.700928 | Quad Loss: 16.922885 | Acc: 0.935000 | Val Quad Loss: 17.045700 | Val Acc: 0.760000\n",
            "Epoch 99 | Training Loss: 1.549079 | Quad Loss: 17.723116 | Acc: 0.920000 | Val Quad Loss: 17.096501 | Val Acc: 0.776667\n",
            "Epoch 104 | Training Loss: 1.461652 | Quad Loss: 17.813869 | Acc: 0.930833 | Val Quad Loss: 16.616421 | Val Acc: 0.776667\n",
            "Epoch 109 | Training Loss: 1.352231 | Quad Loss: 15.994484 | Acc: 0.938333 | Val Quad Loss: 16.655941 | Val Acc: 0.776667\n",
            "Epoch 114 | Training Loss: 1.340696 | Quad Loss: 13.289764 | Acc: 0.943333 | Val Quad Loss: 16.258477 | Val Acc: 0.743333\n",
            "Epoch 119 | Training Loss: 1.239633 | Quad Loss: 13.766595 | Acc: 0.933333 | Val Quad Loss: 17.863799 | Val Acc: 0.770000\n",
            "Epoch 124 | Training Loss: 1.123454 | Quad Loss: 11.517009 | Acc: 0.951667 | Val Quad Loss: 16.784059 | Val Acc: 0.773333\n",
            "Epoch 129 | Training Loss: 1.134465 | Quad Loss: 11.836892 | Acc: 0.935833 | Val Quad Loss: 17.009735 | Val Acc: 0.763333\n",
            "Epoch 134 | Training Loss: 1.091440 | Quad Loss: 11.536103 | Acc: 0.935000 | Val Quad Loss: 17.029190 | Val Acc: 0.750000\n",
            "Epoch 139 | Training Loss: 1.084531 | Quad Loss: 10.466614 | Acc: 0.949167 | Val Quad Loss: 16.025746 | Val Acc: 0.776667\n",
            "Epoch 144 | Training Loss: 0.971124 | Quad Loss: 10.976634 | Acc: 0.951667 | Val Quad Loss: 17.169549 | Val Acc: 0.770000\n",
            "Epoch 149 | Training Loss: 0.923463 | Quad Loss: 10.967356 | Acc: 0.930833 | Val Quad Loss: 17.290966 | Val Acc: 0.763333\n"
          ],
          "name": "stdout"
        },
        {
          "output_type": "display_data",
          "data": {
            "image/png": "[encoded data removed]",
            "text/plain": [
              "<Figure size 864x288 with 2 Axes>"
            ]
          },
          "metadata": {
            "tags": []
          }
        },
        {
          "output_type": "stream",
          "text": [
            "17.290966255852254 0.7633333333333333\n"
          ],
          "name": "stdout"
        }
      ]
    },
    {
      "cell_type": "code",
      "metadata": {
        "id": "qTf4I5VoJz_u",
        "colab_type": "code",
        "colab": {
          "base_uri": "https://localhost:8080/",
          "height": 963
        },
        "outputId": "d34743c8-8a91-42c8-875b-a81492d13eb7"
      },
      "source": [
        "# Actually train\n",
        "model_row = ConvNetPdBig(log_softmax=False, softmax=True, dropout=0.5)\n",
        "model_row = model_row.to(DEVICE)\n",
        "\n",
        "criterion = nn.MSELoss()\n",
        "optimizer = optim.Adam(model_row.parameters(), lr=1e-4, weight_decay=0.0001)\n",
        "\n",
        "dataloader = load_game_data(train_val_data_row, train_val_labels, batch_size=4, shuffle=True)\n",
        "EPOCHS = 50\n",
        "\n",
        "softmax = nn.Softmax(-1)\n",
        "\n",
        "dataloader_val = load_game_data(train_val_data_row, train_val_labels, batch_size=1, shuffle=False)\n",
        "losses_4, acc_4 = train(model_row, criterion, dataloader, dataloader_val, epochs=200, \n",
        "                        log_targets=False, model_softmax=True, log=5, val_data=test_data_row, val_labels=test_labels)\n",
        "\n",
        "plt.figure(figsize=(12, 4))\n",
        "plt.subplot(1, 2, 1)\n",
        "plt.plot(acc_4[0])\n",
        "plt.plot(acc_4[1])\n",
        "plt.subplot(1, 2, 2)\n",
        "plt.plot(losses_4)\n",
        "plt.show()\n",
        "\n",
        "dataloader_val = load_game_data(test_data_row, test_labels, batch_size=1, shuffle=False)\n",
        "batch_ql, acc, predictions = evaluate(model_row, dataloader_val)\n",
        "print(batch_ql, acc)"
      ],
      "execution_count": 341,
      "outputs": [
        {
          "output_type": "stream",
          "text": [
            "Epoch 4  | Training Loss: 5.901632 | Quad Loss: 67.262234 | Acc: 0.770000 | Val Quad Loss: 21.699906 | Val Acc: 0.660000\n",
            "Epoch 9  | Training Loss: 5.157899 | Quad Loss: 57.350297 | Acc: 0.789167 | Val Quad Loss: 20.524300 | Val Acc: 0.706667\n",
            "Epoch 14 | Training Loss: 4.848056 | Quad Loss: 61.768353 | Acc: 0.794167 | Val Quad Loss: 21.736960 | Val Acc: 0.683333\n",
            "Epoch 19 | Training Loss: 4.635983 | Quad Loss: 55.976854 | Acc: 0.794167 | Val Quad Loss: 21.284713 | Val Acc: 0.700000\n",
            "Epoch 24 | Training Loss: 4.436032 | Quad Loss: 49.396861 | Acc: 0.809167 | Val Quad Loss: 19.641174 | Val Acc: 0.716667\n",
            "Epoch 29 | Training Loss: 4.157753 | Quad Loss: 46.546385 | Acc: 0.819167 | Val Quad Loss: 18.935017 | Val Acc: 0.730000\n",
            "Epoch 34 | Training Loss: 4.032911 | Quad Loss: 47.832927 | Acc: 0.826667 | Val Quad Loss: 18.946390 | Val Acc: 0.726667\n",
            "Epoch 39 | Training Loss: 3.731548 | Quad Loss: 45.590330 | Acc: 0.815000 | Val Quad Loss: 19.281913 | Val Acc: 0.736667\n",
            "Epoch 44 | Training Loss: 3.490543 | Quad Loss: 43.237732 | Acc: 0.824167 | Val Quad Loss: 19.673293 | Val Acc: 0.720000\n",
            "Epoch 49 | Training Loss: 3.275462 | Quad Loss: 36.630613 | Acc: 0.850833 | Val Quad Loss: 19.071684 | Val Acc: 0.736667\n",
            "Epoch 54 | Training Loss: 3.011728 | Quad Loss: 32.815319 | Acc: 0.865000 | Val Quad Loss: 18.096653 | Val Acc: 0.756667\n",
            "Epoch 59 | Training Loss: 2.832840 | Quad Loss: 31.740544 | Acc: 0.869167 | Val Quad Loss: 18.466124 | Val Acc: 0.740000\n",
            "Epoch 64 | Training Loss: 2.684734 | Quad Loss: 28.895134 | Acc: 0.883333 | Val Quad Loss: 17.892533 | Val Acc: 0.760000\n",
            "Epoch 69 | Training Loss: 2.430650 | Quad Loss: 26.494349 | Acc: 0.885000 | Val Quad Loss: 18.491946 | Val Acc: 0.750000\n",
            "Epoch 74 | Training Loss: 2.335143 | Quad Loss: 27.117684 | Acc: 0.895833 | Val Quad Loss: 18.289945 | Val Acc: 0.753333\n",
            "Epoch 79 | Training Loss: 2.216867 | Quad Loss: 23.498513 | Acc: 0.899167 | Val Quad Loss: 17.993169 | Val Acc: 0.753333\n",
            "Epoch 84 | Training Loss: 2.076704 | Quad Loss: 22.891700 | Acc: 0.920000 | Val Quad Loss: 17.685443 | Val Acc: 0.776667\n",
            "Epoch 89 | Training Loss: 1.851950 | Quad Loss: 21.460766 | Acc: 0.918333 | Val Quad Loss: 17.447918 | Val Acc: 0.760000\n",
            "Epoch 94 | Training Loss: 1.829083 | Quad Loss: 18.701555 | Acc: 0.929167 | Val Quad Loss: 17.838601 | Val Acc: 0.783333\n",
            "Epoch 99 | Training Loss: 1.607037 | Quad Loss: 17.998682 | Acc: 0.915000 | Val Quad Loss: 18.094963 | Val Acc: 0.746667\n",
            "Epoch 104 | Training Loss: 1.578166 | Quad Loss: 16.741938 | Acc: 0.934167 | Val Quad Loss: 17.017640 | Val Acc: 0.780000\n",
            "Epoch 109 | Training Loss: 1.405892 | Quad Loss: 16.227829 | Acc: 0.930000 | Val Quad Loss: 16.885210 | Val Acc: 0.780000\n",
            "Epoch 114 | Training Loss: 1.422146 | Quad Loss: 14.350691 | Acc: 0.937500 | Val Quad Loss: 16.467950 | Val Acc: 0.783333\n",
            "Epoch 119 | Training Loss: 1.260031 | Quad Loss: 12.995305 | Acc: 0.944167 | Val Quad Loss: 17.689920 | Val Acc: 0.770000\n",
            "Epoch 124 | Training Loss: 1.148782 | Quad Loss: 14.322383 | Acc: 0.935833 | Val Quad Loss: 17.652874 | Val Acc: 0.790000\n",
            "Epoch 129 | Training Loss: 1.162648 | Quad Loss: 12.150445 | Acc: 0.943333 | Val Quad Loss: 17.777531 | Val Acc: 0.773333\n",
            "Epoch 134 | Training Loss: 1.123959 | Quad Loss: 12.188282 | Acc: 0.930833 | Val Quad Loss: 17.962290 | Val Acc: 0.763333\n",
            "Epoch 139 | Training Loss: 1.059675 | Quad Loss: 10.961529 | Acc: 0.954167 | Val Quad Loss: 16.820805 | Val Acc: 0.790000\n",
            "Epoch 144 | Training Loss: 0.962703 | Quad Loss: 10.404813 | Acc: 0.954167 | Val Quad Loss: 17.253408 | Val Acc: 0.773333\n",
            "Epoch 149 | Training Loss: 0.956005 | Quad Loss: 10.521966 | Acc: 0.944167 | Val Quad Loss: 17.367928 | Val Acc: 0.783333\n",
            "Epoch 154 | Training Loss: 0.904045 | Quad Loss: 11.873055 | Acc: 0.935000 | Val Quad Loss: 16.905225 | Val Acc: 0.776667\n",
            "Epoch 159 | Training Loss: 0.880762 | Quad Loss: 9.342676 | Acc: 0.948333 | Val Quad Loss: 17.130941 | Val Acc: 0.786667\n",
            "Epoch 164 | Training Loss: 0.923129 | Quad Loss: 8.426882 | Acc: 0.955000 | Val Quad Loss: 16.969543 | Val Acc: 0.800000\n",
            "Epoch 169 | Training Loss: 0.829617 | Quad Loss: 10.113188 | Acc: 0.950000 | Val Quad Loss: 17.088787 | Val Acc: 0.800000\n",
            "Epoch 174 | Training Loss: 0.820952 | Quad Loss: 12.794889 | Acc: 0.928333 | Val Quad Loss: 18.646763 | Val Acc: 0.770000\n",
            "Epoch 179 | Training Loss: 0.859401 | Quad Loss: 7.688201 | Acc: 0.957500 | Val Quad Loss: 17.342479 | Val Acc: 0.773333\n",
            "Epoch 184 | Training Loss: 0.803710 | Quad Loss: 10.713839 | Acc: 0.942500 | Val Quad Loss: 17.169698 | Val Acc: 0.786667\n",
            "Epoch 189 | Training Loss: 0.778893 | Quad Loss: 8.170837 | Acc: 0.947500 | Val Quad Loss: 16.884017 | Val Acc: 0.796667\n",
            "Epoch 194 | Training Loss: 0.785509 | Quad Loss: 7.268318 | Acc: 0.955000 | Val Quad Loss: 16.600870 | Val Acc: 0.803333\n",
            "Epoch 199 | Training Loss: 0.823473 | Quad Loss: 7.216850 | Acc: 0.950833 | Val Quad Loss: 17.092257 | Val Acc: 0.783333\n"
          ],
          "name": "stdout"
        },
        {
          "output_type": "display_data",
          "data": {
            "image/png": "[encoded data removed]",
            "text/plain": [
              "<Figure size 864x288 with 2 Axes>"
            ]
          },
          "metadata": {
            "tags": []
          }
        },
        {
          "output_type": "stream",
          "text": [
            "17.09225653229805 0.7833333333333333\n"
          ],
          "name": "stdout"
        }
      ]
    },
    {
      "cell_type": "code",
      "metadata": {
        "id": "oJ-jDQ3u_x3J",
        "colab_type": "code",
        "colab": {
          "base_uri": "https://localhost:8080/",
          "height": 963
        },
        "outputId": "6966107f-b909-4de1-e7d6-1e62bdf3d29e"
      },
      "source": [
        "# Actually train\n",
        "model_row = ConvNetPdBig(log_softmax=False, softmax=True, dropout=0.5)\n",
        "model_row = model_row.to(DEVICE)\n",
        "\n",
        "criterion = nn.MSELoss()\n",
        "optimizer = optim.Adam(model_row.parameters(), lr=1e-4, weight_decay=0.0001)\n",
        "\n",
        "dataloader = load_game_data(train_val_data_row, train_val_labels, batch_size=4, shuffle=True)\n",
        "EPOCHS = 50\n",
        "\n",
        "softmax = nn.Softmax(-1)\n",
        "\n",
        "dataloader_val = load_game_data(train_val_data_row, train_val_labels, batch_size=1, shuffle=False)\n",
        "losses_4, acc_4 = train(model_row, criterion, dataloader, dataloader_val, epochs=200, \n",
        "                        log_targets=False, model_softmax=True, log=5, val_data=test_data_row, val_labels=test_labels)\n",
        "\n",
        "plt.figure(figsize=(12, 4))\n",
        "plt.subplot(1, 2, 1)\n",
        "plt.plot(acc_4[0])\n",
        "plt.plot(acc_4[1])\n",
        "plt.subplot(1, 2, 2)\n",
        "plt.plot(losses_4)\n",
        "plt.show()\n",
        "\n",
        "dataloader_val = load_game_data(test_data_row, test_labels, batch_size=1, shuffle=False)\n",
        "batch_ql, acc, predictions = evaluate(model_row, dataloader_val)\n",
        "print(batch_ql, acc)"
      ],
      "execution_count": 37,
      "outputs": [
        {
          "output_type": "stream",
          "text": [
            "Epoch 4  | Training Loss: 5.761026 | Quad Loss: 67.243911 | Acc: 0.765833 | Val Quad Loss: 21.934753 | Val Acc: 0.666667\n",
            "Epoch 9  | Training Loss: 4.996306 | Quad Loss: 55.489728 | Acc: 0.786667 | Val Quad Loss: 20.105196 | Val Acc: 0.706667\n",
            "Epoch 14 | Training Loss: 4.658632 | Quad Loss: 58.297659 | Acc: 0.796667 | Val Quad Loss: 21.411771 | Val Acc: 0.690000\n",
            "Epoch 19 | Training Loss: 4.461559 | Quad Loss: 53.915015 | Acc: 0.808333 | Val Quad Loss: 21.524064 | Val Acc: 0.686667\n",
            "Epoch 24 | Training Loss: 4.207497 | Quad Loss: 47.083431 | Acc: 0.820833 | Val Quad Loss: 19.191463 | Val Acc: 0.720000\n",
            "Epoch 29 | Training Loss: 3.897339 | Quad Loss: 44.013948 | Acc: 0.826667 | Val Quad Loss: 18.347648 | Val Acc: 0.720000\n",
            "Epoch 34 | Training Loss: 3.733439 | Quad Loss: 45.291057 | Acc: 0.829167 | Val Quad Loss: 18.456995 | Val Acc: 0.706667\n",
            "Epoch 39 | Training Loss: 3.470712 | Quad Loss: 41.961223 | Acc: 0.836667 | Val Quad Loss: 18.216712 | Val Acc: 0.736667\n",
            "Epoch 44 | Training Loss: 3.205161 | Quad Loss: 36.970009 | Acc: 0.853333 | Val Quad Loss: 17.643079 | Val Acc: 0.723333\n",
            "Epoch 49 | Training Loss: 2.973514 | Quad Loss: 37.057724 | Acc: 0.854167 | Val Quad Loss: 20.363023 | Val Acc: 0.720000\n",
            "Epoch 54 | Training Loss: 2.731760 | Quad Loss: 30.327589 | Acc: 0.884167 | Val Quad Loss: 18.208027 | Val Acc: 0.720000\n",
            "Epoch 59 | Training Loss: 2.553460 | Quad Loss: 27.810989 | Acc: 0.883333 | Val Quad Loss: 18.022846 | Val Acc: 0.713333\n",
            "Epoch 64 | Training Loss: 2.360641 | Quad Loss: 26.064775 | Acc: 0.892500 | Val Quad Loss: 16.983924 | Val Acc: 0.743333\n",
            "Epoch 69 | Training Loss: 2.159497 | Quad Loss: 23.189006 | Acc: 0.903333 | Val Quad Loss: 17.551795 | Val Acc: 0.723333\n",
            "Epoch 74 | Training Loss: 2.029939 | Quad Loss: 22.568729 | Acc: 0.910000 | Val Quad Loss: 18.044391 | Val Acc: 0.726667\n",
            "Epoch 79 | Training Loss: 1.885529 | Quad Loss: 21.219105 | Acc: 0.915833 | Val Quad Loss: 18.198863 | Val Acc: 0.733333\n",
            "Epoch 84 | Training Loss: 1.778667 | Quad Loss: 20.642699 | Acc: 0.919167 | Val Quad Loss: 17.847278 | Val Acc: 0.746667\n",
            "Epoch 89 | Training Loss: 1.594088 | Quad Loss: 17.256208 | Acc: 0.928333 | Val Quad Loss: 17.035266 | Val Acc: 0.756667\n",
            "Epoch 94 | Training Loss: 1.610895 | Quad Loss: 16.306218 | Acc: 0.930000 | Val Quad Loss: 17.487506 | Val Acc: 0.746667\n",
            "Epoch 99 | Training Loss: 1.489310 | Quad Loss: 15.050167 | Acc: 0.930833 | Val Quad Loss: 17.333785 | Val Acc: 0.760000\n",
            "Epoch 104 | Training Loss: 1.384131 | Quad Loss: 14.650564 | Acc: 0.940000 | Val Quad Loss: 17.258168 | Val Acc: 0.743333\n",
            "Epoch 109 | Training Loss: 1.311987 | Quad Loss: 14.449369 | Acc: 0.936667 | Val Quad Loss: 17.327592 | Val Acc: 0.746667\n",
            "Epoch 114 | Training Loss: 1.323405 | Quad Loss: 14.450871 | Acc: 0.928333 | Val Quad Loss: 17.039338 | Val Acc: 0.733333\n",
            "Epoch 119 | Training Loss: 1.175017 | Quad Loss: 12.708959 | Acc: 0.940000 | Val Quad Loss: 17.993695 | Val Acc: 0.750000\n",
            "Epoch 124 | Training Loss: 1.110612 | Quad Loss: 12.488277 | Acc: 0.940833 | Val Quad Loss: 17.539188 | Val Acc: 0.736667\n",
            "Epoch 129 | Training Loss: 1.117208 | Quad Loss: 14.647063 | Acc: 0.928333 | Val Quad Loss: 18.678719 | Val Acc: 0.733333\n",
            "Epoch 134 | Training Loss: 1.079578 | Quad Loss: 11.375078 | Acc: 0.935833 | Val Quad Loss: 17.461778 | Val Acc: 0.740000\n",
            "Epoch 139 | Training Loss: 1.051754 | Quad Loss: 10.687735 | Acc: 0.949167 | Val Quad Loss: 17.373888 | Val Acc: 0.763333\n",
            "Epoch 144 | Training Loss: 0.952284 | Quad Loss: 9.841923 | Acc: 0.960000 | Val Quad Loss: 17.471639 | Val Acc: 0.750000\n",
            "Epoch 149 | Training Loss: 0.948236 | Quad Loss: 10.924998 | Acc: 0.930000 | Val Quad Loss: 17.841853 | Val Acc: 0.743333\n",
            "Epoch 154 | Training Loss: 0.895184 | Quad Loss: 11.792870 | Acc: 0.938333 | Val Quad Loss: 17.716132 | Val Acc: 0.760000\n",
            "Epoch 159 | Training Loss: 0.893031 | Quad Loss: 9.108492 | Acc: 0.950833 | Val Quad Loss: 16.966073 | Val Acc: 0.756667\n",
            "Epoch 164 | Training Loss: 0.909023 | Quad Loss: 8.833850 | Acc: 0.946667 | Val Quad Loss: 17.590270 | Val Acc: 0.743333\n",
            "Epoch 169 | Training Loss: 0.856227 | Quad Loss: 9.725026 | Acc: 0.951667 | Val Quad Loss: 17.711927 | Val Acc: 0.756667\n",
            "Epoch 174 | Training Loss: 0.846962 | Quad Loss: 11.586338 | Acc: 0.938333 | Val Quad Loss: 18.896696 | Val Acc: 0.763333\n",
            "Epoch 179 | Training Loss: 0.831321 | Quad Loss: 8.330834 | Acc: 0.954167 | Val Quad Loss: 17.109824 | Val Acc: 0.750000\n",
            "Epoch 184 | Training Loss: 0.801364 | Quad Loss: 10.322814 | Acc: 0.948333 | Val Quad Loss: 17.599536 | Val Acc: 0.756667\n",
            "Epoch 189 | Training Loss: 0.776919 | Quad Loss: 9.654397 | Acc: 0.941667 | Val Quad Loss: 17.559045 | Val Acc: 0.753333\n",
            "Epoch 194 | Training Loss: 0.814702 | Quad Loss: 8.666770 | Acc: 0.938333 | Val Quad Loss: 16.377381 | Val Acc: 0.770000\n",
            "Epoch 199 | Training Loss: 0.812020 | Quad Loss: 7.530204 | Acc: 0.955000 | Val Quad Loss: 17.352036 | Val Acc: 0.770000\n"
          ],
          "name": "stdout"
        },
        {
          "output_type": "display_data",
          "data": {
            "image/png": "[encoded data removed]",
            "text/plain": [
              "<Figure size 864x288 with 2 Axes>"
            ]
          },
          "metadata": {
            "tags": []
          }
        },
        {
          "output_type": "stream",
          "text": [
            "17.352035628609883 0.77\n"
          ],
          "name": "stdout"
        }
      ]
    },
    {
      "cell_type": "code",
      "metadata": {
        "id": "L5SqqHLOD6Pj",
        "colab_type": "code",
        "colab": {}
      },
      "source": [
        "torch.save(model_row.state_dict(), './model_row_200.pt')"
      ],
      "execution_count": 0,
      "outputs": []
    },
    {
      "cell_type": "code",
      "metadata": {
        "id": "Qfe0JKlHPX8O",
        "colab_type": "code",
        "colab": {
          "base_uri": "https://localhost:8080/",
          "height": 963
        },
        "outputId": "7bcc6944-f138-48e1-d5d7-0d5b0df563ec"
      },
      "source": [
        "# Actually train\n",
        "model_diffs = ConvNetPdBig(log_softmax=False, softmax=True, dropout=0.5)\n",
        "model_diffs = model_diffs.to(DEVICE)\n",
        "\n",
        "criterion = nn.MSELoss()\n",
        "optimizer = optim.Adam(model_diffs.parameters(), lr=1e-4, weight_decay=0.0001)\n",
        "\n",
        "dataloader = load_game_data(train_val_data_diffs, train_val_labels, batch_size=4, shuffle=True)\n",
        "EPOCHS = 50\n",
        "\n",
        "softmax = nn.Softmax(-1)\n",
        "\n",
        "dataloader_val = load_game_data(train_val_data_diffs, train_val_labels, batch_size=1, shuffle=False)\n",
        "losses_4, acc_4 = train(model_diffs, criterion, dataloader, dataloader_val, epochs=200, \n",
        "                        log_targets=False, model_softmax=True, log=5, val_data=test_data_diffs, val_labels=test_labels)\n",
        "\n",
        "plt.figure(figsize=(12, 4))\n",
        "plt.subplot(1, 2, 1)\n",
        "plt.plot(acc_4[0])\n",
        "plt.plot(acc_4[1])\n",
        "plt.subplot(1, 2, 2)\n",
        "plt.plot(losses_4)\n",
        "plt.show()\n",
        "\n",
        "dataloader_val = load_game_data(test_data_diffs, test_labels, batch_size=1, shuffle=False)\n",
        "batch_ql, acc, predictions = evaluate(model_diffs, dataloader_val)\n",
        "print(batch_ql, acc)"
      ],
      "execution_count": 342,
      "outputs": [
        {
          "output_type": "stream",
          "text": [
            "Epoch 4  | Training Loss: 5.697879 | Quad Loss: 66.005964 | Acc: 0.771667 | Val Quad Loss: 21.555327 | Val Acc: 0.670000\n",
            "Epoch 9  | Training Loss: 5.052921 | Quad Loss: 58.605256 | Acc: 0.779167 | Val Quad Loss: 21.431256 | Val Acc: 0.683333\n",
            "Epoch 14 | Training Loss: 4.864062 | Quad Loss: 59.997142 | Acc: 0.780833 | Val Quad Loss: 21.775071 | Val Acc: 0.690000\n",
            "Epoch 19 | Training Loss: 4.587228 | Quad Loss: 53.379947 | Acc: 0.807500 | Val Quad Loss: 21.452565 | Val Acc: 0.700000\n",
            "Epoch 24 | Training Loss: 4.358051 | Quad Loss: 48.466883 | Acc: 0.815833 | Val Quad Loss: 19.888997 | Val Acc: 0.706667\n",
            "Epoch 29 | Training Loss: 4.062810 | Quad Loss: 45.206479 | Acc: 0.823333 | Val Quad Loss: 19.180199 | Val Acc: 0.723333\n",
            "Epoch 34 | Training Loss: 3.925597 | Quad Loss: 43.688180 | Acc: 0.818333 | Val Quad Loss: 18.535941 | Val Acc: 0.733333\n",
            "Epoch 39 | Training Loss: 3.593582 | Quad Loss: 43.931779 | Acc: 0.816667 | Val Quad Loss: 19.461956 | Val Acc: 0.713333\n",
            "Epoch 44 | Training Loss: 3.356005 | Quad Loss: 39.305710 | Acc: 0.840000 | Val Quad Loss: 18.611211 | Val Acc: 0.750000\n",
            "Epoch 49 | Training Loss: 3.127746 | Quad Loss: 35.668547 | Acc: 0.859167 | Val Quad Loss: 19.747153 | Val Acc: 0.736667\n",
            "Epoch 54 | Training Loss: 2.880420 | Quad Loss: 31.958665 | Acc: 0.865000 | Val Quad Loss: 18.095947 | Val Acc: 0.746667\n",
            "Epoch 59 | Training Loss: 2.660235 | Quad Loss: 31.137592 | Acc: 0.865000 | Val Quad Loss: 18.735061 | Val Acc: 0.726667\n",
            "Epoch 64 | Training Loss: 2.543278 | Quad Loss: 26.840082 | Acc: 0.874167 | Val Quad Loss: 17.131066 | Val Acc: 0.730000\n",
            "Epoch 69 | Training Loss: 2.262926 | Quad Loss: 24.791585 | Acc: 0.892500 | Val Quad Loss: 18.419593 | Val Acc: 0.746667\n",
            "Epoch 74 | Training Loss: 2.111168 | Quad Loss: 24.934481 | Acc: 0.900833 | Val Quad Loss: 17.759675 | Val Acc: 0.763333\n",
            "Epoch 79 | Training Loss: 1.972912 | Quad Loss: 22.947780 | Acc: 0.900000 | Val Quad Loss: 17.379104 | Val Acc: 0.750000\n",
            "Epoch 84 | Training Loss: 1.928446 | Quad Loss: 22.385075 | Acc: 0.906667 | Val Quad Loss: 17.175665 | Val Acc: 0.766667\n",
            "Epoch 89 | Training Loss: 1.672446 | Quad Loss: 19.196358 | Acc: 0.909167 | Val Quad Loss: 16.740242 | Val Acc: 0.763333\n",
            "Epoch 94 | Training Loss: 1.660443 | Quad Loss: 16.391087 | Acc: 0.932500 | Val Quad Loss: 17.393487 | Val Acc: 0.770000\n",
            "Epoch 99 | Training Loss: 1.516386 | Quad Loss: 14.536736 | Acc: 0.935000 | Val Quad Loss: 17.637776 | Val Acc: 0.773333\n",
            "Epoch 104 | Training Loss: 1.447584 | Quad Loss: 14.733199 | Acc: 0.927500 | Val Quad Loss: 16.327914 | Val Acc: 0.763333\n",
            "Epoch 109 | Training Loss: 1.325438 | Quad Loss: 14.406660 | Acc: 0.936667 | Val Quad Loss: 16.368345 | Val Acc: 0.760000\n",
            "Epoch 114 | Training Loss: 1.310674 | Quad Loss: 13.339804 | Acc: 0.936667 | Val Quad Loss: 16.603686 | Val Acc: 0.756667\n",
            "Epoch 119 | Training Loss: 1.199952 | Quad Loss: 13.464616 | Acc: 0.933333 | Val Quad Loss: 18.078425 | Val Acc: 0.763333\n",
            "Epoch 124 | Training Loss: 1.107038 | Quad Loss: 12.486265 | Acc: 0.940000 | Val Quad Loss: 17.076393 | Val Acc: 0.776667\n",
            "Epoch 129 | Training Loss: 1.059938 | Quad Loss: 11.450548 | Acc: 0.941667 | Val Quad Loss: 17.838713 | Val Acc: 0.763333\n",
            "Epoch 134 | Training Loss: 1.039621 | Quad Loss: 11.557343 | Acc: 0.935833 | Val Quad Loss: 18.390679 | Val Acc: 0.756667\n",
            "Epoch 139 | Training Loss: 0.972224 | Quad Loss: 10.097230 | Acc: 0.948333 | Val Quad Loss: 16.411796 | Val Acc: 0.776667\n",
            "Epoch 144 | Training Loss: 0.937808 | Quad Loss: 11.234329 | Acc: 0.950833 | Val Quad Loss: 18.148640 | Val Acc: 0.756667\n",
            "Epoch 149 | Training Loss: 0.922999 | Quad Loss: 10.499105 | Acc: 0.933333 | Val Quad Loss: 18.141734 | Val Acc: 0.753333\n",
            "Epoch 154 | Training Loss: 0.871536 | Quad Loss: 10.686577 | Acc: 0.945833 | Val Quad Loss: 16.505710 | Val Acc: 0.753333\n",
            "Epoch 159 | Training Loss: 0.827636 | Quad Loss: 10.752375 | Acc: 0.950000 | Val Quad Loss: 17.261777 | Val Acc: 0.770000\n",
            "Epoch 164 | Training Loss: 0.886979 | Quad Loss: 8.742351 | Acc: 0.953333 | Val Quad Loss: 17.479928 | Val Acc: 0.756667\n",
            "Epoch 169 | Training Loss: 0.822702 | Quad Loss: 8.496595 | Acc: 0.954167 | Val Quad Loss: 16.583273 | Val Acc: 0.783333\n",
            "Epoch 174 | Training Loss: 0.831928 | Quad Loss: 14.649838 | Acc: 0.922500 | Val Quad Loss: 20.179154 | Val Acc: 0.726667\n",
            "Epoch 179 | Training Loss: 0.826307 | Quad Loss: 7.407143 | Acc: 0.960833 | Val Quad Loss: 17.326778 | Val Acc: 0.753333\n",
            "Epoch 184 | Training Loss: 0.753032 | Quad Loss: 8.770863 | Acc: 0.949167 | Val Quad Loss: 16.929889 | Val Acc: 0.770000\n",
            "Epoch 189 | Training Loss: 0.749933 | Quad Loss: 7.132094 | Acc: 0.955833 | Val Quad Loss: 17.240299 | Val Acc: 0.773333\n",
            "Epoch 194 | Training Loss: 0.794212 | Quad Loss: 7.554984 | Acc: 0.963333 | Val Quad Loss: 16.251882 | Val Acc: 0.773333\n",
            "Epoch 199 | Training Loss: 0.783641 | Quad Loss: 7.206026 | Acc: 0.957500 | Val Quad Loss: 17.362241 | Val Acc: 0.766667\n"
          ],
          "name": "stdout"
        },
        {
          "output_type": "display_data",
          "data": {
            "image/png": "[encoded data removed]",
            "text/plain": [
              "<Figure size 864x288 with 2 Axes>"
            ]
          },
          "metadata": {
            "tags": []
          }
        },
        {
          "output_type": "stream",
          "text": [
            "17.362240826478228 0.7666666666666667\n"
          ],
          "name": "stdout"
        }
      ]
    },
    {
      "cell_type": "markdown",
      "metadata": {
        "id": "g0BfItncRx4Z",
        "colab_type": "text"
      },
      "source": [
        "## **Diagnose Model**"
      ]
    },
    {
      "cell_type": "code",
      "metadata": {
        "id": "WpUwoccKG519",
        "colab_type": "code",
        "colab": {
          "base_uri": "https://localhost:8080/",
          "height": 238
        },
        "outputId": "163ba052-bf08-4dd3-ca74-bc234b4dcebe"
      },
      "source": [
        "## Load saved model (with hooks this time)\n",
        "model_row_h = ConvNetPdBig(softmax=True, dropout=0.5, channels=3)\n",
        "model_row_h.load_state_dict(torch.load('./model_row_200.pt'))\n",
        "model_row_h.to(DEVICE)\n",
        "model_row_h.eval()"
      ],
      "execution_count": 47,
      "outputs": [
        {
          "output_type": "execute_result",
          "data": {
            "text/plain": [
              "ConvNetPdBig(\n",
              "  (conv1): Conv2d(3, 32, kernel_size=(3, 3), stride=(1, 1), padding=(1, 1))\n",
              "  (conv2): Conv2d(32, 64, kernel_size=(3, 3), stride=(1, 1), padding=(1, 1))\n",
              "  (conv3): Conv2d(64, 128, kernel_size=(3, 3), stride=(1, 1), padding=(1, 1))\n",
              "  (fc1): Linear(in_features=1152, out_features=512, bias=True)\n",
              "  (fc2): Linear(in_features=512, out_features=128, bias=True)\n",
              "  (fc3): Linear(in_features=128, out_features=32, bias=True)\n",
              "  (fc4): Linear(in_features=32, out_features=3, bias=True)\n",
              "  (log_softmax): LogSoftmax()\n",
              "  (softmax): Softmax(dim=1)\n",
              "  (dropout_conv): Dropout2d(p=0.1, inplace=False)\n",
              "  (dropout_fcn): Dropout(p=0.5, inplace=False)\n",
              ")"
            ]
          },
          "metadata": {
            "tags": []
          },
          "execution_count": 47
        }
      ]
    },
    {
      "cell_type": "code",
      "metadata": {
        "id": "JyswyAtEHcky",
        "colab_type": "code",
        "colab": {
          "base_uri": "https://localhost:8080/",
          "height": 34
        },
        "outputId": "2a56c37e-8e1e-40e7-fcf9-d752e5a5b633"
      },
      "source": [
        "# Diagnose for single example\n",
        "dataloader_val = load_game_data(test_data_row, test_labels, batch_size=1, shuffle=False)\n",
        "data, _ = next(iter(dataloader_val))\n",
        "pred = model_row_h(data)\n",
        "target = pred.argmax(dim=1)\n",
        "print(pred, target)"
      ],
      "execution_count": 50,
      "outputs": [
        {
          "output_type": "stream",
          "text": [
            "tensor([[0.0401, 0.7235, 0.2364]], device='cuda:0', grad_fn=<SoftmaxBackward>) tensor([1], device='cuda:0')\n"
          ],
          "name": "stdout"
        }
      ]
    },
    {
      "cell_type": "markdown",
      "metadata": {
        "id": "_6fjT0S8Ioqo",
        "colab_type": "text"
      },
      "source": [
        "#### **Get heatmap**"
      ]
    },
    {
      "cell_type": "code",
      "metadata": {
        "id": "cBNEyhnIHkug",
        "colab_type": "code",
        "colab": {}
      },
      "source": [
        "# Get gradient of output wrt model params\n",
        "pred[:, target].backward()\n",
        "\n",
        "# Pull gradients out of model\n",
        "gradients = model_row_h.get_activations_gradient()"
      ],
      "execution_count": 0,
      "outputs": []
    },
    {
      "cell_type": "code",
      "metadata": {
        "id": "-mVkXyJ_I7bW",
        "colab_type": "code",
        "colab": {
          "base_uri": "https://localhost:8080/",
          "height": 34
        },
        "outputId": "8d1c5588-de47-4e24-db8c-8dbf358e6af9"
      },
      "source": [
        "gradients.shape"
      ],
      "execution_count": 54,
      "outputs": [
        {
          "output_type": "execute_result",
          "data": {
            "text/plain": [
              "torch.Size([1, 128, 3, 3])"
            ]
          },
          "metadata": {
            "tags": []
          },
          "execution_count": 54
        }
      ]
    },
    {
      "cell_type": "code",
      "metadata": {
        "id": "oAVByfBpJBwl",
        "colab_type": "code",
        "colab": {}
      },
      "source": [
        "pooled_gradients = torch.mean(gradients, dim=[0, 2, 3]) # Pool grads across channels\n",
        "activations = model_row_h.get_activations(data).detach()  # Get activations of last conv layer"
      ],
      "execution_count": 0,
      "outputs": []
    },
    {
      "cell_type": "code",
      "metadata": {
        "id": "XLl4gQsfJYiS",
        "colab_type": "code",
        "colab": {
          "base_uri": "https://localhost:8080/",
          "height": 34
        },
        "outputId": "f5c3c02e-13cf-480f-ea39-43879fb12508"
      },
      "source": [
        "activations.shape"
      ],
      "execution_count": 61,
      "outputs": [
        {
          "output_type": "execute_result",
          "data": {
            "text/plain": [
              "torch.Size([1, 128, 3, 3])"
            ]
          },
          "metadata": {
            "tags": []
          },
          "execution_count": 61
        }
      ]
    },
    {
      "cell_type": "code",
      "metadata": {
        "id": "mI5SyzHOKFL1",
        "colab_type": "code",
        "colab": {
          "base_uri": "https://localhost:8080/",
          "height": 34
        },
        "outputId": "3827dd19-451a-464e-a315-5c87b43ca80d"
      },
      "source": [
        "pooled_gradients.shape"
      ],
      "execution_count": 66,
      "outputs": [
        {
          "output_type": "execute_result",
          "data": {
            "text/plain": [
              "torch.Size([128])"
            ]
          },
          "metadata": {
            "tags": []
          },
          "execution_count": 66
        }
      ]
    },
    {
      "cell_type": "code",
      "metadata": {
        "id": "8qgZa_kzJqUQ",
        "colab_type": "code",
        "colab": {}
      },
      "source": [
        "# Weight channel activations by gradients\n",
        "for i in range(activations.shape[1]):\n",
        "    activations[:, i, :, :] *= pooled_gradients[i]\n",
        "\n",
        "# Calculate heatmap valules\n",
        "heatmap = torch.mean(activations, dim=1).squeeze()\n",
        "\n",
        "# ReLU on heatmap\n",
        "zeros = torch.zeros(heatmap.shape).cuda()\n",
        "heatmap = torch.max(heatmap, zeros)  # ReLU on heatmap\n",
        "heatmap /= torch.max(heatmap)  # Normalize"
      ],
      "execution_count": 0,
      "outputs": []
    },
    {
      "cell_type": "code",
      "metadata": {
        "id": "wyBNwi8dLLRw",
        "colab_type": "code",
        "colab": {
          "base_uri": "https://localhost:8080/",
          "height": 286
        },
        "outputId": "78fce365-9dae-4416-d9bf-ae74b4adba18"
      },
      "source": [
        "# Visualize\n",
        "fig = plt.figure()\n",
        "ax = fig.add_subplot(111)\n",
        "viz = ax.matshow(heatmap.squeeze().detach().cpu().numpy())\n",
        "fig.colorbar(viz)"
      ],
      "execution_count": 81,
      "outputs": [
        {
          "output_type": "execute_result",
          "data": {
            "text/plain": [
              "<matplotlib.colorbar.Colorbar at 0x7efeb6df6240>"
            ]
          },
          "metadata": {
            "tags": []
          },
          "execution_count": 81
        },
        {
          "output_type": "display_data",
          "data": {
            "image/png": "[encoded data removed]",
            "text/plain": [
              "<Figure size 432x288 with 2 Axes>"
            ]
          },
          "metadata": {
            "tags": []
          }
        }
      ]
    },
    {
      "cell_type": "markdown",
      "metadata": {
        "id": "MxIVNM0wMOj2",
        "colab_type": "text"
      },
      "source": [
        "### ***Turn above into a function***"
      ]
    },
    {
      "cell_type": "code",
      "metadata": {
        "id": "6ZfrDyMYNM9I",
        "colab_type": "code",
        "colab": {}
      },
      "source": [
        "def get_cam_heatmaps(model, dataloader, indices):\n",
        "    model.eval()\n",
        "\n",
        "    samples = []\n",
        "    labels = []\n",
        "    heatmaps = []\n",
        "\n",
        "    for batch_ix, (data, label) in enumerate(dataloader):\n",
        "        samples.append(data)\n",
        "        labels.append(np.round(label.detach().cpu().numpy().squeeze(), decimals=3))\n",
        "\n",
        "    selected_samples = [samples[ix] for ix in range(len(samples)) if ix in indices]\n",
        "    for sample in selected_samples:\n",
        "        pred = model(sample)\n",
        "        target = pred.argmax(dim=1)\n",
        "\n",
        "        # Get gradient of output wrt model params\n",
        "        pred[:, target].backward()\n",
        "        # Pull gradients out of model\n",
        "        gradients = model.get_activations_gradient()\n",
        "\n",
        "        pooled_gradients = torch.mean(gradients, dim=[0, 2, 3]) # Pool grads across channels\n",
        "        activations = model.get_activations(data).detach()  # Get activations of last conv layer\n",
        "        # Weight channel activations by gradients\n",
        "        for i in range(activations.shape[1]):\n",
        "            activations[:, i, :, :] *= pooled_gradients[i]\n",
        "\n",
        "        # Calculate heatmap valules\n",
        "        heatmap = torch.mean(activations, dim=1).squeeze()\n",
        "\n",
        "        # ReLU on heatmap\n",
        "        zeros = torch.zeros(heatmap.shape).cuda()\n",
        "        heatmap = torch.max(heatmap, zeros)  # ReLU on heatmap\n",
        "        heatmap /= torch.max(heatmap)  # Normalize\n",
        "        heatmaps.append(heatmap)\n",
        "    return heatmaps, [labels[ix] for ix in range(len(labels)) if ix in indices]\n"
      ],
      "execution_count": 0,
      "outputs": []
    },
    {
      "cell_type": "code",
      "metadata": {
        "id": "n9TJI7PFMFaV",
        "colab_type": "code",
        "colab": {}
      },
      "source": [
        "heatmaps, labels = get_cam_heatmaps(model_row_h, dataloader_val, indices=list(range(9)))"
      ],
      "execution_count": 0,
      "outputs": []
    },
    {
      "cell_type": "code",
      "metadata": {
        "id": "smwR3-wgWVQV",
        "colab_type": "code",
        "colab": {
          "base_uri": "https://localhost:8080/",
          "height": 34
        },
        "outputId": "c39d170d-9cb4-422f-a2d9-36ceb91c30cf"
      },
      "source": [
        "test_data[list(range(9))].shape[2]"
      ],
      "execution_count": 156,
      "outputs": [
        {
          "output_type": "execute_result",
          "data": {
            "text/plain": [
              "3"
            ]
          },
          "metadata": {
            "tags": []
          },
          "execution_count": 156
        }
      ]
    },
    {
      "cell_type": "code",
      "metadata": {
        "id": "Dv-v-C-7SMVM",
        "colab_type": "code",
        "colab": {}
      },
      "source": [
        "def visualize_heatmaps(heatmaps, labels, data, show_payoffs=False):\n",
        "    fig, axes = plt.subplots(nrows=3, ncols=3, figsize=(12, 10))\n",
        "    # fig.subplots_adjust(hspace=0., wspace=0.45)\n",
        "\n",
        "    selected_data = data\n",
        "\n",
        "    for ix, ax in enumerate(axes.flat):\n",
        "        viz = ax.matshow(heatmaps[ix].squeeze().detach().cpu().numpy())\n",
        "        ax.set_yticklabels([])\n",
        "        ax.set_xticklabels([])\n",
        "        # ax.text('test', ha='center', va='center')\n",
        "        if show_payoffs:\n",
        "            for i in range(selected_data.shape[2]):\n",
        "                for j in range(selected_data.shape[2]):\n",
        "                    text = ax.text(j, i, '({}, {})'.format(int(selected_data[ix][0][i, j] * 100),\n",
        "                                                          int(selected_data[ix][1][i, j] * 100)), \n",
        "                                  ha=\"center\", va=\"center\", color=\"b\") \n",
        "\n",
        "        ax.title.set_text('{}'.format(labels[ix]))\n",
        "\n",
        "    fig.colorbar(viz, ax=axes.ravel().tolist())\n",
        "    plt.show()"
      ],
      "execution_count": 0,
      "outputs": []
    },
    {
      "cell_type": "code",
      "metadata": {
        "id": "fGBiRxu7VMiC",
        "colab_type": "code",
        "colab": {
          "base_uri": "https://localhost:8080/",
          "height": 603
        },
        "outputId": "ea523adf-6a8c-4caf-b6b7-acdeb88fbc1a"
      },
      "source": [
        "visualize_heatmaps(heatmaps, labels, data=test_data[list(range(9))], show_payoffs=True)"
      ],
      "execution_count": 176,
      "outputs": [
        {
          "output_type": "display_data",
          "data": {
            "image/png": "[encoded data removed]",
            "text/plain": [
              "<Figure size 864x720 with 10 Axes>"
            ]
          },
          "metadata": {
            "tags": []
          }
        }
      ]
    },
    {
      "cell_type": "code",
      "metadata": {
        "id": "-g-LxJXlP8RW",
        "colab_type": "code",
        "colab": {
          "base_uri": "https://localhost:8080/",
          "height": 602
        },
        "outputId": "7c47a6f4-53c7-4040-e8d9-9572a3defc11"
      },
      "source": [
        "# Visualize\n",
        "fig = plt.figure(figsize=(10, 10))\n",
        "fig.subplots_adjust(hspace=0.4, wspace=0.4)\n",
        "for i in range(1, len(labels) + 1):\n",
        "    ax = fig.add_subplot(3, 3, i)\n",
        "    viz = ax.matshow(heatmaps[i - 1].squeeze().detach().cpu().numpy())\n",
        "    ax.title.set_text('{}'.format(labels[i - 1]))\n",
        "\n",
        "fig.subplots_adjust(right=0.8)\n",
        "cbar_ax = fig.add_axes([0.85, 0.15, 0.05, 0.7])\n",
        "fig.colorbar(viz, cbar_ax)"
      ],
      "execution_count": 116,
      "outputs": [
        {
          "output_type": "execute_result",
          "data": {
            "text/plain": [
              "<matplotlib.colorbar.Colorbar at 0x7efeb43e6240>"
            ]
          },
          "metadata": {
            "tags": []
          },
          "execution_count": 116
        },
        {
          "output_type": "display_data",
          "data": {
            "image/png": "[encoded data removed]",
            "text/plain": [
              "<Figure size 720x720 with 10 Axes>"
            ]
          },
          "metadata": {
            "tags": []
          }
        }
      ]
    },
    {
      "cell_type": "code",
      "metadata": {
        "id": "EA0pBHvVL6QI",
        "colab_type": "code",
        "colab": {}
      },
      "source": [
        "indices = [0, 1, 2, 3, 4]\n",
        "samples = [samples[ix] for ix in range(len(samples)) if ix in indices]"
      ],
      "execution_count": 0,
      "outputs": []
    },
    {
      "cell_type": "code",
      "metadata": {
        "id": "PobpNOs-OqOn",
        "colab_type": "code",
        "colab": {
          "base_uri": "https://localhost:8080/",
          "height": 307
        },
        "outputId": "351bf078-2883-4fad-b6b0-b1fae5cf336a"
      },
      "source": [
        "model_row_h(samples)"
      ],
      "execution_count": 95,
      "outputs": [
        {
          "output_type": "error",
          "ename": "TypeError",
          "evalue": "ignored",
          "traceback": [
            "\u001b[0;31m---------------------------------------------------------------------------\u001b[0m",
            "\u001b[0;31mTypeError\u001b[0m                                 Traceback (most recent call last)",
            "\u001b[0;32m<ipython-input-95-25c169138f32>\u001b[0m in \u001b[0;36m<module>\u001b[0;34m()\u001b[0m\n\u001b[0;32m----> 1\u001b[0;31m \u001b[0mmodel_row_h\u001b[0m\u001b[0;34m(\u001b[0m\u001b[0msamples\u001b[0m\u001b[0;34m)\u001b[0m\u001b[0;34m\u001b[0m\u001b[0;34m\u001b[0m\u001b[0m\n\u001b[0m",
            "\u001b[0;32m/usr/local/lib/python3.6/dist-packages/torch/nn/modules/module.py\u001b[0m in \u001b[0;36m__call__\u001b[0;34m(self, *input, **kwargs)\u001b[0m\n\u001b[1;32m    530\u001b[0m             \u001b[0mresult\u001b[0m \u001b[0;34m=\u001b[0m \u001b[0mself\u001b[0m\u001b[0;34m.\u001b[0m\u001b[0m_slow_forward\u001b[0m\u001b[0;34m(\u001b[0m\u001b[0;34m*\u001b[0m\u001b[0minput\u001b[0m\u001b[0;34m,\u001b[0m \u001b[0;34m**\u001b[0m\u001b[0mkwargs\u001b[0m\u001b[0;34m)\u001b[0m\u001b[0;34m\u001b[0m\u001b[0;34m\u001b[0m\u001b[0m\n\u001b[1;32m    531\u001b[0m         \u001b[0;32melse\u001b[0m\u001b[0;34m:\u001b[0m\u001b[0;34m\u001b[0m\u001b[0;34m\u001b[0m\u001b[0m\n\u001b[0;32m--> 532\u001b[0;31m             \u001b[0mresult\u001b[0m \u001b[0;34m=\u001b[0m \u001b[0mself\u001b[0m\u001b[0;34m.\u001b[0m\u001b[0mforward\u001b[0m\u001b[0;34m(\u001b[0m\u001b[0;34m*\u001b[0m\u001b[0minput\u001b[0m\u001b[0;34m,\u001b[0m \u001b[0;34m**\u001b[0m\u001b[0mkwargs\u001b[0m\u001b[0;34m)\u001b[0m\u001b[0;34m\u001b[0m\u001b[0;34m\u001b[0m\u001b[0m\n\u001b[0m\u001b[1;32m    533\u001b[0m         \u001b[0;32mfor\u001b[0m \u001b[0mhook\u001b[0m \u001b[0;32min\u001b[0m \u001b[0mself\u001b[0m\u001b[0;34m.\u001b[0m\u001b[0m_forward_hooks\u001b[0m\u001b[0;34m.\u001b[0m\u001b[0mvalues\u001b[0m\u001b[0;34m(\u001b[0m\u001b[0;34m)\u001b[0m\u001b[0;34m:\u001b[0m\u001b[0;34m\u001b[0m\u001b[0;34m\u001b[0m\u001b[0m\n\u001b[1;32m    534\u001b[0m             \u001b[0mhook_result\u001b[0m \u001b[0;34m=\u001b[0m \u001b[0mhook\u001b[0m\u001b[0;34m(\u001b[0m\u001b[0mself\u001b[0m\u001b[0;34m,\u001b[0m \u001b[0minput\u001b[0m\u001b[0;34m,\u001b[0m \u001b[0mresult\u001b[0m\u001b[0;34m)\u001b[0m\u001b[0;34m\u001b[0m\u001b[0;34m\u001b[0m\u001b[0m\n",
            "\u001b[0;32m<ipython-input-41-37e987631c4e>\u001b[0m in \u001b[0;36mforward\u001b[0;34m(self, x)\u001b[0m\n\u001b[1;32m     26\u001b[0m \u001b[0;34m\u001b[0m\u001b[0m\n\u001b[1;32m     27\u001b[0m     \u001b[0;32mdef\u001b[0m \u001b[0mforward\u001b[0m\u001b[0;34m(\u001b[0m\u001b[0mself\u001b[0m\u001b[0;34m,\u001b[0m \u001b[0mx\u001b[0m\u001b[0;34m)\u001b[0m\u001b[0;34m:\u001b[0m\u001b[0;34m\u001b[0m\u001b[0;34m\u001b[0m\u001b[0m\n\u001b[0;32m---> 28\u001b[0;31m         \u001b[0mx\u001b[0m \u001b[0;34m=\u001b[0m \u001b[0mF\u001b[0m\u001b[0;34m.\u001b[0m\u001b[0mrelu\u001b[0m\u001b[0;34m(\u001b[0m\u001b[0mself\u001b[0m\u001b[0;34m.\u001b[0m\u001b[0mconv1\u001b[0m\u001b[0;34m(\u001b[0m\u001b[0mx\u001b[0m\u001b[0;34m)\u001b[0m\u001b[0;34m)\u001b[0m\u001b[0;34m\u001b[0m\u001b[0;34m\u001b[0m\u001b[0m\n\u001b[0m\u001b[1;32m     29\u001b[0m         \u001b[0mx\u001b[0m \u001b[0;34m=\u001b[0m \u001b[0mself\u001b[0m\u001b[0;34m.\u001b[0m\u001b[0mdropout_conv\u001b[0m\u001b[0;34m(\u001b[0m\u001b[0mx\u001b[0m\u001b[0;34m)\u001b[0m\u001b[0;34m\u001b[0m\u001b[0;34m\u001b[0m\u001b[0m\n\u001b[1;32m     30\u001b[0m         \u001b[0mx\u001b[0m \u001b[0;34m=\u001b[0m \u001b[0mF\u001b[0m\u001b[0;34m.\u001b[0m\u001b[0mrelu\u001b[0m\u001b[0;34m(\u001b[0m\u001b[0mself\u001b[0m\u001b[0;34m.\u001b[0m\u001b[0mconv2\u001b[0m\u001b[0;34m(\u001b[0m\u001b[0mx\u001b[0m\u001b[0;34m)\u001b[0m\u001b[0;34m)\u001b[0m\u001b[0;34m\u001b[0m\u001b[0;34m\u001b[0m\u001b[0m\n",
            "\u001b[0;32m/usr/local/lib/python3.6/dist-packages/torch/nn/modules/module.py\u001b[0m in \u001b[0;36m__call__\u001b[0;34m(self, *input, **kwargs)\u001b[0m\n\u001b[1;32m    530\u001b[0m             \u001b[0mresult\u001b[0m \u001b[0;34m=\u001b[0m \u001b[0mself\u001b[0m\u001b[0;34m.\u001b[0m\u001b[0m_slow_forward\u001b[0m\u001b[0;34m(\u001b[0m\u001b[0;34m*\u001b[0m\u001b[0minput\u001b[0m\u001b[0;34m,\u001b[0m \u001b[0;34m**\u001b[0m\u001b[0mkwargs\u001b[0m\u001b[0;34m)\u001b[0m\u001b[0;34m\u001b[0m\u001b[0;34m\u001b[0m\u001b[0m\n\u001b[1;32m    531\u001b[0m         \u001b[0;32melse\u001b[0m\u001b[0;34m:\u001b[0m\u001b[0;34m\u001b[0m\u001b[0;34m\u001b[0m\u001b[0m\n\u001b[0;32m--> 532\u001b[0;31m             \u001b[0mresult\u001b[0m \u001b[0;34m=\u001b[0m \u001b[0mself\u001b[0m\u001b[0;34m.\u001b[0m\u001b[0mforward\u001b[0m\u001b[0;34m(\u001b[0m\u001b[0;34m*\u001b[0m\u001b[0minput\u001b[0m\u001b[0;34m,\u001b[0m \u001b[0;34m**\u001b[0m\u001b[0mkwargs\u001b[0m\u001b[0;34m)\u001b[0m\u001b[0;34m\u001b[0m\u001b[0;34m\u001b[0m\u001b[0m\n\u001b[0m\u001b[1;32m    533\u001b[0m         \u001b[0;32mfor\u001b[0m \u001b[0mhook\u001b[0m \u001b[0;32min\u001b[0m \u001b[0mself\u001b[0m\u001b[0;34m.\u001b[0m\u001b[0m_forward_hooks\u001b[0m\u001b[0;34m.\u001b[0m\u001b[0mvalues\u001b[0m\u001b[0;34m(\u001b[0m\u001b[0;34m)\u001b[0m\u001b[0;34m:\u001b[0m\u001b[0;34m\u001b[0m\u001b[0;34m\u001b[0m\u001b[0m\n\u001b[1;32m    534\u001b[0m             \u001b[0mhook_result\u001b[0m \u001b[0;34m=\u001b[0m \u001b[0mhook\u001b[0m\u001b[0;34m(\u001b[0m\u001b[0mself\u001b[0m\u001b[0;34m,\u001b[0m \u001b[0minput\u001b[0m\u001b[0;34m,\u001b[0m \u001b[0mresult\u001b[0m\u001b[0;34m)\u001b[0m\u001b[0;34m\u001b[0m\u001b[0;34m\u001b[0m\u001b[0m\n",
            "\u001b[0;32m/usr/local/lib/python3.6/dist-packages/torch/nn/modules/conv.py\u001b[0m in \u001b[0;36mforward\u001b[0;34m(self, input)\u001b[0m\n\u001b[1;32m    343\u001b[0m \u001b[0;34m\u001b[0m\u001b[0m\n\u001b[1;32m    344\u001b[0m     \u001b[0;32mdef\u001b[0m \u001b[0mforward\u001b[0m\u001b[0;34m(\u001b[0m\u001b[0mself\u001b[0m\u001b[0;34m,\u001b[0m \u001b[0minput\u001b[0m\u001b[0;34m)\u001b[0m\u001b[0;34m:\u001b[0m\u001b[0;34m\u001b[0m\u001b[0;34m\u001b[0m\u001b[0m\n\u001b[0;32m--> 345\u001b[0;31m         \u001b[0;32mreturn\u001b[0m \u001b[0mself\u001b[0m\u001b[0;34m.\u001b[0m\u001b[0mconv2d_forward\u001b[0m\u001b[0;34m(\u001b[0m\u001b[0minput\u001b[0m\u001b[0;34m,\u001b[0m \u001b[0mself\u001b[0m\u001b[0;34m.\u001b[0m\u001b[0mweight\u001b[0m\u001b[0;34m)\u001b[0m\u001b[0;34m\u001b[0m\u001b[0;34m\u001b[0m\u001b[0m\n\u001b[0m\u001b[1;32m    346\u001b[0m \u001b[0;34m\u001b[0m\u001b[0m\n\u001b[1;32m    347\u001b[0m \u001b[0;32mclass\u001b[0m \u001b[0mConv3d\u001b[0m\u001b[0;34m(\u001b[0m\u001b[0m_ConvNd\u001b[0m\u001b[0;34m)\u001b[0m\u001b[0;34m:\u001b[0m\u001b[0;34m\u001b[0m\u001b[0;34m\u001b[0m\u001b[0m\n",
            "\u001b[0;32m/usr/local/lib/python3.6/dist-packages/torch/nn/modules/conv.py\u001b[0m in \u001b[0;36mconv2d_forward\u001b[0;34m(self, input, weight)\u001b[0m\n\u001b[1;32m    340\u001b[0m                             _pair(0), self.dilation, self.groups)\n\u001b[1;32m    341\u001b[0m         return F.conv2d(input, weight, self.bias, self.stride,\n\u001b[0;32m--> 342\u001b[0;31m                         self.padding, self.dilation, self.groups)\n\u001b[0m\u001b[1;32m    343\u001b[0m \u001b[0;34m\u001b[0m\u001b[0m\n\u001b[1;32m    344\u001b[0m     \u001b[0;32mdef\u001b[0m \u001b[0mforward\u001b[0m\u001b[0;34m(\u001b[0m\u001b[0mself\u001b[0m\u001b[0;34m,\u001b[0m \u001b[0minput\u001b[0m\u001b[0;34m)\u001b[0m\u001b[0;34m:\u001b[0m\u001b[0;34m\u001b[0m\u001b[0;34m\u001b[0m\u001b[0m\n",
            "\u001b[0;31mTypeError\u001b[0m: conv2d(): argument 'input' (position 1) must be Tensor, not list"
          ]
        }
      ]
    },
    {
      "cell_type": "code",
      "metadata": {
        "id": "NDS4HEeTI6rW",
        "colab_type": "code",
        "colab": {}
      },
      "source": [
        "# Pool the gradients across the channels\n",
        "pooled_gradients = torch.mean(gradients, dim=[0, 2, 3])\n",
        "\n",
        "# get the activations of the last convolutional layer\n",
        "activations = vgg.get_activations(img).detach()\n",
        "\n",
        "# weight the channels by corresponding gradients\n",
        "for i in range(512):\n",
        "    activations[:, i, :, :] *= pooled_gradients[i]\n",
        "    \n",
        "# average the channels of the activations\n",
        "heatmap = torch.mean(activations, dim=1).squeeze()\n",
        "\n",
        "# relu on top of the heatmap\n",
        "# expression (2) in https://arxiv.org/pdf/1610.02391.pdf\n",
        "heatmap = np.maximum(heatmap, 0)\n",
        "\n",
        "# normalize the heatmap\n",
        "heatmap /= torch.max(heatmap)\n",
        "\n",
        "# draw the heatmap\n",
        "plt.matshow(heatmap.squeeze())"
      ],
      "execution_count": 0,
      "outputs": []
    },
    {
      "cell_type": "code",
      "metadata": {
        "id": "ngJJOlxLUIb2",
        "colab_type": "code",
        "colab": {}
      },
      "source": [
        "class SaveFeatures():\n",
        "    features=None\n",
        "    def __init__(self, m): self.hook = m.register_forward_hook(self.hook_fn)\n",
        "    def hook_fn(self, module, input, output): self.features = ((output.cpu()).data).numpy()\n",
        "    def remove(self): self.hook.remove()"
      ],
      "execution_count": 0,
      "outputs": []
    },
    {
      "cell_type": "code",
      "metadata": {
        "id": "_nb9Gh2fZWxg",
        "colab_type": "code",
        "colab": {}
      },
      "source": [
        "def getCAM(feature_conv, weight_fc, class_idx):\n",
        "    _, nc, h, w = feature_conv.shape\n",
        "    cam = weight_fc[class_idx].dot(feature_conv.reshape((nc, h*w)))\n",
        "    cam = cam.reshape(h, w)\n",
        "    cam = cam - np.min(cam)\n",
        "    cam_img = cam / np.max(cam)\n",
        "    return [cam_img]"
      ],
      "execution_count": 0,
      "outputs": []
    },
    {
      "cell_type": "code",
      "metadata": {
        "id": "eG0zV-a5Ubct",
        "colab_type": "code",
        "colab": {
          "base_uri": "https://localhost:8080/",
          "height": 238
        },
        "outputId": "466cf229-5fa1-4143-a3d0-b5681d32d131"
      },
      "source": [
        "model_row"
      ],
      "execution_count": 40,
      "outputs": [
        {
          "output_type": "execute_result",
          "data": {
            "text/plain": [
              "ConvNetPdBig(\n",
              "  (conv1): Conv2d(3, 32, kernel_size=(3, 3), stride=(1, 1), padding=(1, 1))\n",
              "  (conv2): Conv2d(32, 64, kernel_size=(3, 3), stride=(1, 1), padding=(1, 1))\n",
              "  (conv3): Conv2d(64, 128, kernel_size=(3, 3), stride=(1, 1), padding=(1, 1))\n",
              "  (fc1): Linear(in_features=1152, out_features=512, bias=True)\n",
              "  (fc2): Linear(in_features=512, out_features=128, bias=True)\n",
              "  (fc3): Linear(in_features=128, out_features=32, bias=True)\n",
              "  (fc4): Linear(in_features=32, out_features=3, bias=True)\n",
              "  (log_softmax): LogSoftmax()\n",
              "  (softmax): Softmax(dim=1)\n",
              "  (dropout_conv): Dropout2d(p=0.1, inplace=False)\n",
              "  (dropout_fcn): Dropout(p=0.5, inplace=False)\n",
              ")"
            ]
          },
          "metadata": {
            "tags": []
          },
          "execution_count": 40
        }
      ]
    },
    {
      "cell_type": "code",
      "metadata": {
        "id": "l7SDilHaaAdW",
        "colab_type": "code",
        "colab": {}
      },
      "source": [
        "weight_softmax_params = list(model_row._modules.get('fc1').parameters())\n",
        "weight_softmax = np.squeeze(weight_softmax_params[0].cpu().data.numpy())"
      ],
      "execution_count": 0,
      "outputs": []
    },
    {
      "cell_type": "code",
      "metadata": {
        "id": "3rUfFOKaaPpH",
        "colab_type": "code",
        "colab": {
          "base_uri": "https://localhost:8080/",
          "height": 34
        },
        "outputId": "096da55e-0451-4781-8d2c-9ec279387741"
      },
      "source": [
        "weight_softmax.shape"
      ],
      "execution_count": 399,
      "outputs": [
        {
          "output_type": "execute_result",
          "data": {
            "text/plain": [
              "(512, 1152)"
            ]
          },
          "metadata": {
            "tags": []
          },
          "execution_count": 399
        }
      ]
    },
    {
      "cell_type": "code",
      "metadata": {
        "id": "AEWoLJIOYiS8",
        "colab_type": "code",
        "colab": {}
      },
      "source": [
        "final_layer = model_row._modules.get('conv3')\n",
        "activated_features = SaveFeatures(final_layer)"
      ],
      "execution_count": 0,
      "outputs": []
    },
    {
      "cell_type": "code",
      "metadata": {
        "id": "4B4_4-_VVZ1H",
        "colab_type": "code",
        "colab": {}
      },
      "source": [
        "dataloader_val = load_game_data(test_data_row, test_labels, batch_size=1, shuffle=False)\n",
        "batch_ql, acc, predictions = evaluate(model_row, dataloader_val)"
      ],
      "execution_count": 0,
      "outputs": []
    },
    {
      "cell_type": "code",
      "metadata": {
        "id": "510RMoWwVbB0",
        "colab_type": "code",
        "colab": {
          "base_uri": "https://localhost:8080/",
          "height": 102
        },
        "outputId": "399d93dc-1736-490f-8100-881bf540560b"
      },
      "source": [
        "predictions = np.array(predictions)\n",
        "predictions[:5]"
      ],
      "execution_count": 391,
      "outputs": [
        {
          "output_type": "execute_result",
          "data": {
            "text/plain": [
              "array([[0.04563751, 0.7166329 , 0.23772962],\n",
              "       [0.5967354 , 0.3688699 , 0.03439466],\n",
              "       [0.06433522, 0.46686777, 0.46879697],\n",
              "       [0.45359984, 0.17801176, 0.36838844],\n",
              "       [0.31547526, 0.21376795, 0.4707567 ]], dtype=float32)"
            ]
          },
          "metadata": {
            "tags": []
          },
          "execution_count": 391
        }
      ]
    },
    {
      "cell_type": "code",
      "metadata": {
        "id": "ySTLcVG2ZJ66",
        "colab_type": "code",
        "colab": {
          "base_uri": "https://localhost:8080/",
          "height": 255
        },
        "outputId": "22dde053-b34e-45c3-8534-0d288d4ea406"
      },
      "source": [
        "np.argmax(predictions, axis=1)"
      ],
      "execution_count": 392,
      "outputs": [
        {
          "output_type": "execute_result",
          "data": {
            "text/plain": [
              "array([1, 0, 2, 0, 2, 1, 1, 1, 2, 2, 1, 0, 0, 2, 2, 2, 1, 1, 2, 2, 1, 2,\n",
              "       1, 0, 0, 2, 2, 2, 2, 0, 0, 1, 2, 2, 1, 1, 1, 1, 0, 1, 2, 2, 1, 2,\n",
              "       0, 0, 1, 0, 0, 2, 0, 2, 1, 2, 1, 2, 0, 1, 0, 2, 0, 2, 0, 1, 0, 0,\n",
              "       2, 0, 1, 0, 2, 1, 0, 0, 0, 0, 1, 2, 1, 2, 0, 1, 0, 2, 1, 1, 0, 0,\n",
              "       1, 2, 1, 1, 1, 2, 1, 0, 0, 0, 0, 1, 1, 1, 1, 2, 2, 0, 2, 1, 1, 0,\n",
              "       1, 1, 0, 2, 1, 0, 0, 2, 0, 0, 1, 2, 1, 0, 2, 2, 0, 2, 0, 0, 2, 1,\n",
              "       1, 1, 0, 2, 2, 0, 1, 0, 0, 2, 1, 1, 0, 1, 2, 2, 1, 1, 1, 2, 1, 2,\n",
              "       1, 1, 1, 2, 2, 2, 0, 1, 0, 2, 0, 1, 2, 1, 1, 1, 1, 2, 1, 0, 2, 2,\n",
              "       1, 1, 1, 2, 1, 2, 0, 2, 0, 0, 2, 0, 2, 0, 0, 0, 0, 1, 0, 0, 0, 0,\n",
              "       0, 1, 2, 1, 0, 1, 0, 2, 0, 1, 2, 2, 1, 2, 0, 2, 2, 1, 1, 2, 1, 0,\n",
              "       1, 1, 2, 2, 1, 0, 1, 1, 1, 1, 1, 1, 2, 2, 2, 0, 0, 2, 2, 0, 0, 1,\n",
              "       2, 0, 1, 0, 0, 0, 2, 2, 2, 0, 1, 1, 0, 1, 0, 0, 0, 1, 1, 0, 1, 1,\n",
              "       2, 1, 0, 1, 1, 0, 1, 0, 1, 1, 2, 1, 0, 0, 1, 0, 2, 1, 2, 1, 1, 1,\n",
              "       2, 2, 2, 2, 1, 0, 1, 0, 0, 2, 0, 2, 0, 2])"
            ]
          },
          "metadata": {
            "tags": []
          },
          "execution_count": 392
        }
      ]
    },
    {
      "cell_type": "code",
      "metadata": {
        "id": "fB2CYBKDZe0_",
        "colab_type": "code",
        "colab": {}
      },
      "source": [
        "activated_features.remove() # remove after done\n",
        "# activated_features.features.shape"
      ],
      "execution_count": 0,
      "outputs": []
    },
    {
      "cell_type": "code",
      "metadata": {
        "id": "AU0EF-ZZZsgw",
        "colab_type": "code",
        "colab": {
          "base_uri": "https://localhost:8080/",
          "height": 164
        },
        "outputId": "db495aca-c5c7-40f4-b225-d77dedeca993"
      },
      "source": [
        "weight_softmax.shape"
      ],
      "execution_count": 1,
      "outputs": [
        {
          "output_type": "error",
          "ename": "NameError",
          "evalue": "ignored",
          "traceback": [
            "\u001b[0;31m---------------------------------------------------------------------------\u001b[0m",
            "\u001b[0;31mNameError\u001b[0m                                 Traceback (most recent call last)",
            "\u001b[0;32m<ipython-input-1-c52fad51e78c>\u001b[0m in \u001b[0;36m<module>\u001b[0;34m()\u001b[0m\n\u001b[0;32m----> 1\u001b[0;31m \u001b[0mweight_softmax\u001b[0m\u001b[0;34m.\u001b[0m\u001b[0mshape\u001b[0m\u001b[0;34m\u001b[0m\u001b[0;34m\u001b[0m\u001b[0m\n\u001b[0m",
            "\u001b[0;31mNameError\u001b[0m: name 'weight_softmax' is not defined"
          ]
        }
      ]
    },
    {
      "cell_type": "code",
      "metadata": {
        "id": "c08mNz0BZR60",
        "colab_type": "code",
        "colab": {
          "base_uri": "https://localhost:8080/",
          "height": 283
        },
        "outputId": "37f22414-6804-4730-cb1a-b56c498fefa7"
      },
      "source": [
        "overlay = getCAM(activated_features.features, weight_softmax, 1)"
      ],
      "execution_count": 400,
      "outputs": [
        {
          "output_type": "error",
          "ename": "ValueError",
          "evalue": "ignored",
          "traceback": [
            "\u001b[0;31m---------------------------------------------------------------------------\u001b[0m",
            "\u001b[0;31mValueError\u001b[0m                                Traceback (most recent call last)",
            "\u001b[0;32m<ipython-input-400-131cd858bef4>\u001b[0m in \u001b[0;36m<module>\u001b[0;34m()\u001b[0m\n\u001b[0;32m----> 1\u001b[0;31m \u001b[0moverlay\u001b[0m \u001b[0;34m=\u001b[0m \u001b[0mgetCAM\u001b[0m\u001b[0;34m(\u001b[0m\u001b[0mactivated_features\u001b[0m\u001b[0;34m.\u001b[0m\u001b[0mfeatures\u001b[0m\u001b[0;34m,\u001b[0m \u001b[0mweight_softmax\u001b[0m\u001b[0;34m,\u001b[0m \u001b[0;36m1\u001b[0m\u001b[0;34m)\u001b[0m\u001b[0;34m\u001b[0m\u001b[0;34m\u001b[0m\u001b[0m\n\u001b[0m",
            "\u001b[0;32m<ipython-input-394-f5c945fe4e35>\u001b[0m in \u001b[0;36mgetCAM\u001b[0;34m(feature_conv, weight_fc, class_idx)\u001b[0m\n\u001b[1;32m      1\u001b[0m \u001b[0;32mdef\u001b[0m \u001b[0mgetCAM\u001b[0m\u001b[0;34m(\u001b[0m\u001b[0mfeature_conv\u001b[0m\u001b[0;34m,\u001b[0m \u001b[0mweight_fc\u001b[0m\u001b[0;34m,\u001b[0m \u001b[0mclass_idx\u001b[0m\u001b[0;34m)\u001b[0m\u001b[0;34m:\u001b[0m\u001b[0;34m\u001b[0m\u001b[0;34m\u001b[0m\u001b[0m\n\u001b[1;32m      2\u001b[0m     \u001b[0m_\u001b[0m\u001b[0;34m,\u001b[0m \u001b[0mnc\u001b[0m\u001b[0;34m,\u001b[0m \u001b[0mh\u001b[0m\u001b[0;34m,\u001b[0m \u001b[0mw\u001b[0m \u001b[0;34m=\u001b[0m \u001b[0mfeature_conv\u001b[0m\u001b[0;34m.\u001b[0m\u001b[0mshape\u001b[0m\u001b[0;34m\u001b[0m\u001b[0;34m\u001b[0m\u001b[0m\n\u001b[0;32m----> 3\u001b[0;31m     \u001b[0mcam\u001b[0m \u001b[0;34m=\u001b[0m \u001b[0mweight_fc\u001b[0m\u001b[0;34m[\u001b[0m\u001b[0mclass_idx\u001b[0m\u001b[0;34m]\u001b[0m\u001b[0;34m.\u001b[0m\u001b[0mdot\u001b[0m\u001b[0;34m(\u001b[0m\u001b[0mfeature_conv\u001b[0m\u001b[0;34m.\u001b[0m\u001b[0mreshape\u001b[0m\u001b[0;34m(\u001b[0m\u001b[0;34m(\u001b[0m\u001b[0mnc\u001b[0m\u001b[0;34m,\u001b[0m \u001b[0mh\u001b[0m\u001b[0;34m*\u001b[0m\u001b[0mw\u001b[0m\u001b[0;34m)\u001b[0m\u001b[0;34m)\u001b[0m\u001b[0;34m)\u001b[0m\u001b[0;34m\u001b[0m\u001b[0;34m\u001b[0m\u001b[0m\n\u001b[0m\u001b[1;32m      4\u001b[0m     \u001b[0mcam\u001b[0m \u001b[0;34m=\u001b[0m \u001b[0mcam\u001b[0m\u001b[0;34m.\u001b[0m\u001b[0mreshape\u001b[0m\u001b[0;34m(\u001b[0m\u001b[0mh\u001b[0m\u001b[0;34m,\u001b[0m \u001b[0mw\u001b[0m\u001b[0;34m)\u001b[0m\u001b[0;34m\u001b[0m\u001b[0;34m\u001b[0m\u001b[0m\n\u001b[1;32m      5\u001b[0m     \u001b[0mcam\u001b[0m \u001b[0;34m=\u001b[0m \u001b[0mcam\u001b[0m \u001b[0;34m-\u001b[0m \u001b[0mnp\u001b[0m\u001b[0;34m.\u001b[0m\u001b[0mmin\u001b[0m\u001b[0;34m(\u001b[0m\u001b[0mcam\u001b[0m\u001b[0;34m)\u001b[0m\u001b[0;34m\u001b[0m\u001b[0;34m\u001b[0m\u001b[0m\n",
            "\u001b[0;31mValueError\u001b[0m: shapes (1152,) and (128,9) not aligned: 1152 (dim 0) != 128 (dim 0)"
          ]
        }
      ]
    },
    {
      "cell_type": "code",
      "metadata": {
        "id": "5wdc_NQEUNe8",
        "colab_type": "code",
        "colab": {
          "base_uri": "https://localhost:8080/",
          "height": 459
        },
        "outputId": "3c5d69d4-0f34-4bcd-ae9c-358dd043e397"
      },
      "source": [
        "activated_features.features"
      ],
      "execution_count": 388,
      "outputs": [
        {
          "output_type": "execute_result",
          "data": {
            "text/plain": [
              "array([[[[ 3.8688742e-02,  1.7184630e-02,  6.6378519e-02],\n",
              "         [-1.5386041e-02,  6.5069020e-02,  4.2953197e-02],\n",
              "         [ 1.5674494e-03, -4.2333454e-03,  2.4354625e-03]],\n",
              "\n",
              "        [[ 3.0153418e-02,  2.3193989e-02,  2.3571312e-02],\n",
              "         [ 1.1205017e-02,  2.5201745e-02, -1.4763517e-02],\n",
              "         [ 4.5740135e-02,  6.5841235e-02,  4.5823283e-02]],\n",
              "\n",
              "        [[ 4.1835260e-02, -5.2370366e-02, -2.6657823e-02],\n",
              "         [-1.1643205e-02,  1.8086758e-02, -1.3783590e-02],\n",
              "         [ 4.0572707e-02,  4.8709314e-02,  2.5848698e-02]],\n",
              "\n",
              "        ...,\n",
              "\n",
              "        [[ 6.8543460e-03,  1.1192862e-02, -2.0726930e-02],\n",
              "         [ 3.5880141e-02,  3.1119304e-02,  9.2951907e-03],\n",
              "         [ 1.1213403e-02,  2.1787619e-02,  1.2599016e-02]],\n",
              "\n",
              "        [[-4.1150515e-06, -4.1150515e-06, -4.1150515e-06],\n",
              "         [-4.1150515e-06, -4.1150515e-06, -4.1150515e-06],\n",
              "         [-4.1150515e-06, -4.1150515e-06, -4.1150515e-06]],\n",
              "\n",
              "        [[-1.3884043e-02,  4.5776945e-03, -2.7908948e-03],\n",
              "         [-7.5924210e-05, -1.3293885e-04,  2.1062596e-02],\n",
              "         [-2.3526696e-02, -6.9525349e-03, -8.4213912e-04]]]],\n",
              "      dtype=float32)"
            ]
          },
          "metadata": {
            "tags": []
          },
          "execution_count": 388
        }
      ]
    },
    {
      "cell_type": "code",
      "metadata": {
        "id": "9nrWfXUoU2Ho",
        "colab_type": "code",
        "colab": {
          "base_uri": "https://localhost:8080/",
          "height": 164
        },
        "outputId": "23cfc083-e563-4fab-abea-506e5a40004e"
      },
      "source": [
        "activated_features.features[0]"
      ],
      "execution_count": 374,
      "outputs": [
        {
          "output_type": "error",
          "ename": "TypeError",
          "evalue": "ignored",
          "traceback": [
            "\u001b[0;31m---------------------------------------------------------------------------\u001b[0m",
            "\u001b[0;31mTypeError\u001b[0m                                 Traceback (most recent call last)",
            "\u001b[0;32m<ipython-input-374-47adbda9c746>\u001b[0m in \u001b[0;36m<module>\u001b[0;34m()\u001b[0m\n\u001b[0;32m----> 1\u001b[0;31m \u001b[0mactivated_features\u001b[0m\u001b[0;34m.\u001b[0m\u001b[0mfeatures\u001b[0m\u001b[0;34m[\u001b[0m\u001b[0;36m0\u001b[0m\u001b[0;34m]\u001b[0m\u001b[0;34m\u001b[0m\u001b[0;34m\u001b[0m\u001b[0m\n\u001b[0m",
            "\u001b[0;31mTypeError\u001b[0m: 'NoneType' object is not subscriptable"
          ]
        }
      ]
    },
    {
      "cell_type": "code",
      "metadata": {
        "id": "nw4rLb6DU_t7",
        "colab_type": "code",
        "colab": {}
      },
      "source": [
        "weight_softmax_params = list(model_row._modules.get('fc4').parameters())\n",
        "weight_softmax = np.squeeze(weight_softmax_params[0].cpu().data.numpy())"
      ],
      "execution_count": 0,
      "outputs": []
    },
    {
      "cell_type": "code",
      "metadata": {
        "id": "uRyu5ffAYHUh",
        "colab_type": "code",
        "colab": {
          "base_uri": "https://localhost:8080/",
          "height": 170
        },
        "outputId": "a0adc2fc-7a1d-471d-fe08-a1c9c7463a95"
      },
      "source": [
        "weight_softmax[0].dot()"
      ],
      "execution_count": 383,
      "outputs": [
        {
          "output_type": "execute_result",
          "data": {
            "text/plain": [
              "array([-6.5770811e-10,  7.7598580e-11, -2.8948888e-01,  3.0336350e-03,\n",
              "        3.0718013e-05, -2.5296274e-01,  8.8949666e-05, -2.4408731e-08,\n",
              "        1.1941541e-01, -5.4118756e-02,  2.4160750e-01, -9.7254715e-10,\n",
              "       -3.2542709e-01,  4.4668701e-02,  1.4777220e-04,  1.0206959e-01,\n",
              "        2.3238575e-01,  1.8926798e-01, -8.0664247e-02,  1.2036084e-01,\n",
              "       -1.6741614e-01,  1.1056077e-01, -9.4710886e-02, -1.9178215e-01,\n",
              "       -1.5792608e-01,  3.4375943e-04,  2.1436773e-01, -1.5674756e-01,\n",
              "       -3.0436820e-01,  2.4172257e-01,  2.0573156e-01, -3.4650333e-07],\n",
              "      dtype=float32)"
            ]
          },
          "metadata": {
            "tags": []
          },
          "execution_count": 383
        }
      ]
    },
    {
      "cell_type": "code",
      "metadata": {
        "id": "_JaSuKRvWChG",
        "colab_type": "code",
        "colab": {
          "base_uri": "https://localhost:8080/",
          "height": 170
        },
        "outputId": "4c6150fc-ea5b-4705-9314-1425a1a8eff9"
      },
      "source": [
        "weight_softmax[0]"
      ],
      "execution_count": 378,
      "outputs": [
        {
          "output_type": "execute_result",
          "data": {
            "text/plain": [
              "array([-6.5770811e-10,  7.7598580e-11, -2.8948888e-01,  3.0336350e-03,\n",
              "        3.0718013e-05, -2.5296274e-01,  8.8949666e-05, -2.4408731e-08,\n",
              "        1.1941541e-01, -5.4118756e-02,  2.4160750e-01, -9.7254715e-10,\n",
              "       -3.2542709e-01,  4.4668701e-02,  1.4777220e-04,  1.0206959e-01,\n",
              "        2.3238575e-01,  1.8926798e-01, -8.0664247e-02,  1.2036084e-01,\n",
              "       -1.6741614e-01,  1.1056077e-01, -9.4710886e-02, -1.9178215e-01,\n",
              "       -1.5792608e-01,  3.4375943e-04,  2.1436773e-01, -1.5674756e-01,\n",
              "       -3.0436820e-01,  2.4172257e-01,  2.0573156e-01, -3.4650333e-07],\n",
              "      dtype=float32)"
            ]
          },
          "metadata": {
            "tags": []
          },
          "execution_count": 378
        }
      ]
    },
    {
      "cell_type": "code",
      "metadata": {
        "id": "MWT1xArNUZzB",
        "colab_type": "code",
        "colab": {}
      },
      "source": [
        "class CamExtractor():\n",
        "    \"\"\"\n",
        "        Extracts cam features from the model\n",
        "    \"\"\"\n",
        "    def __init__(self, model, target_layer):\n",
        "        self.model = model\n",
        "        self.target_layer = target_layer\n",
        "        self.gradients = None\n",
        "\n",
        "    def save_gradient(self, grad):\n",
        "        self.gradients = grad\n",
        "\n",
        "    def forward_pass_on_convolutions(self, x):\n",
        "        \"\"\"\n",
        "            Does a forward pass on convolutions, hooks the function at given layer\n",
        "        \"\"\"\n",
        "        conv_output = None\n",
        "        for module_pos, module in self.model.features._modules.items():\n",
        "            x = module(x)  # Forward\n",
        "            if int(module_pos) == self.target_layer:\n",
        "                x.register_hook(self.save_gradient)\n",
        "                conv_output = x  # Save the convolution output on that layer\n",
        "        return conv_output, x\n",
        "\n",
        "    def forward_pass(self, x):\n",
        "        \"\"\"\n",
        "            Does a full forward pass on the model\n",
        "        \"\"\"\n",
        "        # Forward pass on the convolutions\n",
        "        conv_output, x = self.forward_pass_on_convolutions(x)\n",
        "        x = x.view(x.size(0), -1)  # Flatten\n",
        "        # Forward pass on the classifier\n",
        "        x = self.model.classifier(x)\n",
        "        return conv_output, x\n",
        "\n",
        "\n",
        "class GradCam():\n",
        "    \"\"\"\n",
        "        Produces class activation map\n",
        "    \"\"\"\n",
        "    def __init__(self, model, target_layer):\n",
        "        self.model = model\n",
        "        self.model.eval()\n",
        "        # Define extractor\n",
        "        self.extractor = CamExtractor(self.model, target_layer)\n",
        "\n",
        "    def generate_cam(self, input_image, target_class=None):\n",
        "        # Full forward pass\n",
        "        # conv_output is the output of convolutions at specified layer\n",
        "        # model_output is the final output of the model (1, 1000)\n",
        "        conv_output, model_output = self.extractor.forward_pass(input_image)\n",
        "        if target_class is None:\n",
        "            target_class = np.argmax(model_output.data.numpy())\n",
        "        # Target for backprop\n",
        "        one_hot_output = torch.FloatTensor(1, model_output.size()[-1]).zero_()\n",
        "        one_hot_output[0][target_class] = 1\n",
        "        # Zero grads\n",
        "        self.model.features.zero_grad()\n",
        "        self.model.classifier.zero_grad()\n",
        "        # Backward pass with specified target\n",
        "        model_output.backward(gradient=one_hot_output, retain_graph=True)\n",
        "        # Get hooked gradients\n",
        "        guided_gradients = self.extractor.gradients.data.numpy()[0]\n",
        "        # Get convolution outputs\n",
        "        target = conv_output.data.numpy()[0]\n",
        "        # Get weights from gradients\n",
        "        weights = np.mean(guided_gradients, axis=(1, 2))  # Take averages for each gradient\n",
        "        # Create empty numpy array for cam\n",
        "        cam = np.ones(target.shape[1:], dtype=np.float32)\n",
        "        # Multiply each weight with its conv output and then, sum\n",
        "        for i, w in enumerate(weights):\n",
        "            cam += w * target[i, :, :]\n",
        "        cam = np.maximum(cam, 0)\n",
        "        cam = (cam - np.min(cam)) / (np.max(cam) - np.min(cam))  # Normalize between 0-1\n",
        "        cam = np.uint8(cam * 255)  # Scale between 0-255 to visualize\n",
        "        cam = np.uint8(Image.fromarray(cam).resize((input_image.shape[2],\n",
        "                       input_image.shape[3]), Image.ANTIALIAS))/255\n",
        "        # ^ I am extremely unhappy with this line. Originally resizing was done in cv2 which\n",
        "        # supports resizing numpy matrices with antialiasing, however,\n",
        "        # when I moved the repository to PIL, this option was out of the window.\n",
        "        # So, in order to use resizing with ANTIALIAS feature of PIL,\n",
        "        # I briefly convert matrix to PIL image and then back.\n",
        "        # If there is a more beautiful way, do not hesitate to send a PR.\n",
        "\n",
        "        # You can also use the code below instead of the code line above, suggested by @ ptschandl\n",
        "        # from scipy.ndimage.interpolation import zoom\n",
        "        # cam = zoom(cam, np.array(input_image[0].shape[1:])/np.array(cam.shape))\n",
        "        return cam"
      ],
      "execution_count": 0,
      "outputs": []
    },
    {
      "cell_type": "code",
      "metadata": {
        "id": "7QtT9FLTnb3w",
        "colab_type": "code",
        "colab": {}
      },
      "source": [
        "grad_cam = GradCam(model_row, target_layer=1)"
      ],
      "execution_count": 0,
      "outputs": []
    },
    {
      "cell_type": "code",
      "metadata": {
        "id": "AZvZeumRnoBH",
        "colab_type": "code",
        "colab": {
          "base_uri": "https://localhost:8080/",
          "height": 204
        },
        "outputId": "bfe4fdca-9863-4940-e812-a4933fe9ec00"
      },
      "source": [
        "test_data_row[0]"
      ],
      "execution_count": 405,
      "outputs": [
        {
          "output_type": "execute_result",
          "data": {
            "text/plain": [
              "array([[[ 0.3,  0.1,  0.1],\n",
              "        [ 0.9,  0.8,  0.1],\n",
              "        [ 0.8,  0.1,  0.3]],\n",
              "\n",
              "       [[ 0. ,  0. , -0.6],\n",
              "        [ 0.8,  0.5, -0.2],\n",
              "        [ 0.3,  0. , -0.3]],\n",
              "\n",
              "       [[-0.6, -0.8, -0.8],\n",
              "        [ 0. , -0.1, -0.8],\n",
              "        [-0.1, -0.8, -0.6]]])"
            ]
          },
          "metadata": {
            "tags": []
          },
          "execution_count": 405
        }
      ]
    },
    {
      "cell_type": "code",
      "metadata": {
        "id": "M2wjNXgdngip",
        "colab_type": "code",
        "colab": {
          "base_uri": "https://localhost:8080/",
          "height": 664
        },
        "outputId": "130a72bd-a033-4925-d461-bc32fee4b073"
      },
      "source": [
        "cam = grad_cam.generate_cam(test_data_row[0], 1)"
      ],
      "execution_count": 406,
      "outputs": [
        {
          "output_type": "error",
          "ename": "AttributeError",
          "evalue": "ignored",
          "traceback": [
            "\u001b[0;31m---------------------------------------------------------------------------\u001b[0m",
            "\u001b[0;31mAttributeError\u001b[0m                            Traceback (most recent call last)",
            "\u001b[0;32m<ipython-input-406-c2f8e8a10d6c>\u001b[0m in \u001b[0;36m<module>\u001b[0;34m()\u001b[0m\n\u001b[0;32m----> 1\u001b[0;31m \u001b[0mcam\u001b[0m \u001b[0;34m=\u001b[0m \u001b[0mgrad_cam\u001b[0m\u001b[0;34m.\u001b[0m\u001b[0mgenerate_cam\u001b[0m\u001b[0;34m(\u001b[0m\u001b[0mtest_data_row\u001b[0m\u001b[0;34m[\u001b[0m\u001b[0;36m0\u001b[0m\u001b[0;34m]\u001b[0m\u001b[0;34m,\u001b[0m \u001b[0;36m1\u001b[0m\u001b[0;34m)\u001b[0m\u001b[0;34m\u001b[0m\u001b[0;34m\u001b[0m\u001b[0m\n\u001b[0m",
            "\u001b[0;32m<ipython-input-403-c172215c1813>\u001b[0m in \u001b[0;36mgenerate_cam\u001b[0;34m(self, input_image, target_class)\u001b[0m\n\u001b[1;32m     49\u001b[0m         \u001b[0;31m# conv_output is the output of convolutions at specified layer\u001b[0m\u001b[0;34m\u001b[0m\u001b[0;34m\u001b[0m\u001b[0;34m\u001b[0m\u001b[0m\n\u001b[1;32m     50\u001b[0m         \u001b[0;31m# model_output is the final output of the model (1, 1000)\u001b[0m\u001b[0;34m\u001b[0m\u001b[0;34m\u001b[0m\u001b[0;34m\u001b[0m\u001b[0m\n\u001b[0;32m---> 51\u001b[0;31m         \u001b[0mconv_output\u001b[0m\u001b[0;34m,\u001b[0m \u001b[0mmodel_output\u001b[0m \u001b[0;34m=\u001b[0m \u001b[0mself\u001b[0m\u001b[0;34m.\u001b[0m\u001b[0mextractor\u001b[0m\u001b[0;34m.\u001b[0m\u001b[0mforward_pass\u001b[0m\u001b[0;34m(\u001b[0m\u001b[0minput_image\u001b[0m\u001b[0;34m)\u001b[0m\u001b[0;34m\u001b[0m\u001b[0;34m\u001b[0m\u001b[0m\n\u001b[0m\u001b[1;32m     52\u001b[0m         \u001b[0;32mif\u001b[0m \u001b[0mtarget_class\u001b[0m \u001b[0;32mis\u001b[0m \u001b[0;32mNone\u001b[0m\u001b[0;34m:\u001b[0m\u001b[0;34m\u001b[0m\u001b[0;34m\u001b[0m\u001b[0m\n\u001b[1;32m     53\u001b[0m             \u001b[0mtarget_class\u001b[0m \u001b[0;34m=\u001b[0m \u001b[0mnp\u001b[0m\u001b[0;34m.\u001b[0m\u001b[0margmax\u001b[0m\u001b[0;34m(\u001b[0m\u001b[0mmodel_output\u001b[0m\u001b[0;34m.\u001b[0m\u001b[0mdata\u001b[0m\u001b[0;34m.\u001b[0m\u001b[0mnumpy\u001b[0m\u001b[0;34m(\u001b[0m\u001b[0;34m)\u001b[0m\u001b[0;34m)\u001b[0m\u001b[0;34m\u001b[0m\u001b[0;34m\u001b[0m\u001b[0m\n",
            "\u001b[0;32m<ipython-input-403-c172215c1813>\u001b[0m in \u001b[0;36mforward_pass\u001b[0;34m(self, x)\u001b[0m\n\u001b[1;32m     28\u001b[0m         \"\"\"\n\u001b[1;32m     29\u001b[0m         \u001b[0;31m# Forward pass on the convolutions\u001b[0m\u001b[0;34m\u001b[0m\u001b[0;34m\u001b[0m\u001b[0;34m\u001b[0m\u001b[0m\n\u001b[0;32m---> 30\u001b[0;31m         \u001b[0mconv_output\u001b[0m\u001b[0;34m,\u001b[0m \u001b[0mx\u001b[0m \u001b[0;34m=\u001b[0m \u001b[0mself\u001b[0m\u001b[0;34m.\u001b[0m\u001b[0mforward_pass_on_convolutions\u001b[0m\u001b[0;34m(\u001b[0m\u001b[0mx\u001b[0m\u001b[0;34m)\u001b[0m\u001b[0;34m\u001b[0m\u001b[0;34m\u001b[0m\u001b[0m\n\u001b[0m\u001b[1;32m     31\u001b[0m         \u001b[0mx\u001b[0m \u001b[0;34m=\u001b[0m \u001b[0mx\u001b[0m\u001b[0;34m.\u001b[0m\u001b[0mview\u001b[0m\u001b[0;34m(\u001b[0m\u001b[0mx\u001b[0m\u001b[0;34m.\u001b[0m\u001b[0msize\u001b[0m\u001b[0;34m(\u001b[0m\u001b[0;36m0\u001b[0m\u001b[0;34m)\u001b[0m\u001b[0;34m,\u001b[0m \u001b[0;34m-\u001b[0m\u001b[0;36m1\u001b[0m\u001b[0;34m)\u001b[0m  \u001b[0;31m# Flatten\u001b[0m\u001b[0;34m\u001b[0m\u001b[0;34m\u001b[0m\u001b[0m\n\u001b[1;32m     32\u001b[0m         \u001b[0;31m# Forward pass on the classifier\u001b[0m\u001b[0;34m\u001b[0m\u001b[0;34m\u001b[0m\u001b[0;34m\u001b[0m\u001b[0m\n",
            "\u001b[0;32m<ipython-input-403-c172215c1813>\u001b[0m in \u001b[0;36mforward_pass_on_convolutions\u001b[0;34m(self, x)\u001b[0m\n\u001b[1;32m     16\u001b[0m         \"\"\"\n\u001b[1;32m     17\u001b[0m         \u001b[0mconv_output\u001b[0m \u001b[0;34m=\u001b[0m \u001b[0;32mNone\u001b[0m\u001b[0;34m\u001b[0m\u001b[0;34m\u001b[0m\u001b[0m\n\u001b[0;32m---> 18\u001b[0;31m         \u001b[0;32mfor\u001b[0m \u001b[0mmodule_pos\u001b[0m\u001b[0;34m,\u001b[0m \u001b[0mmodule\u001b[0m \u001b[0;32min\u001b[0m \u001b[0mself\u001b[0m\u001b[0;34m.\u001b[0m\u001b[0mmodel\u001b[0m\u001b[0;34m.\u001b[0m\u001b[0mfeatures\u001b[0m\u001b[0;34m.\u001b[0m\u001b[0m_modules\u001b[0m\u001b[0;34m.\u001b[0m\u001b[0mitems\u001b[0m\u001b[0;34m(\u001b[0m\u001b[0;34m)\u001b[0m\u001b[0;34m:\u001b[0m\u001b[0;34m\u001b[0m\u001b[0;34m\u001b[0m\u001b[0m\n\u001b[0m\u001b[1;32m     19\u001b[0m             \u001b[0mx\u001b[0m \u001b[0;34m=\u001b[0m \u001b[0mmodule\u001b[0m\u001b[0;34m(\u001b[0m\u001b[0mx\u001b[0m\u001b[0;34m)\u001b[0m  \u001b[0;31m# Forward\u001b[0m\u001b[0;34m\u001b[0m\u001b[0;34m\u001b[0m\u001b[0m\n\u001b[1;32m     20\u001b[0m             \u001b[0;32mif\u001b[0m \u001b[0mint\u001b[0m\u001b[0;34m(\u001b[0m\u001b[0mmodule_pos\u001b[0m\u001b[0;34m)\u001b[0m \u001b[0;34m==\u001b[0m \u001b[0mself\u001b[0m\u001b[0;34m.\u001b[0m\u001b[0mtarget_layer\u001b[0m\u001b[0;34m:\u001b[0m\u001b[0;34m\u001b[0m\u001b[0;34m\u001b[0m\u001b[0m\n",
            "\u001b[0;32m/usr/local/lib/python3.6/dist-packages/torch/nn/modules/module.py\u001b[0m in \u001b[0;36m__getattr__\u001b[0;34m(self, name)\u001b[0m\n\u001b[1;32m    574\u001b[0m                 \u001b[0;32mreturn\u001b[0m \u001b[0mmodules\u001b[0m\u001b[0;34m[\u001b[0m\u001b[0mname\u001b[0m\u001b[0;34m]\u001b[0m\u001b[0;34m\u001b[0m\u001b[0;34m\u001b[0m\u001b[0m\n\u001b[1;32m    575\u001b[0m         raise AttributeError(\"'{}' object has no attribute '{}'\".format(\n\u001b[0;32m--> 576\u001b[0;31m             type(self).__name__, name))\n\u001b[0m\u001b[1;32m    577\u001b[0m \u001b[0;34m\u001b[0m\u001b[0m\n\u001b[1;32m    578\u001b[0m     \u001b[0;32mdef\u001b[0m \u001b[0m__setattr__\u001b[0m\u001b[0;34m(\u001b[0m\u001b[0mself\u001b[0m\u001b[0;34m,\u001b[0m \u001b[0mname\u001b[0m\u001b[0;34m,\u001b[0m \u001b[0mvalue\u001b[0m\u001b[0;34m)\u001b[0m\u001b[0;34m:\u001b[0m\u001b[0;34m\u001b[0m\u001b[0;34m\u001b[0m\u001b[0m\n",
            "\u001b[0;31mAttributeError\u001b[0m: 'ConvNetPdBig' object has no attribute 'features'"
          ]
        }
      ]
    },
    {
      "cell_type": "code",
      "metadata": {
        "id": "XC0XEpCznpoV",
        "colab_type": "code",
        "colab": {}
      },
      "source": [
        ""
      ],
      "execution_count": 0,
      "outputs": []
    }
  ]
}