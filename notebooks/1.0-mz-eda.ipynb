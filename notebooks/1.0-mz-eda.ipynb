{
 "cells": [
  {
   "cell_type": "code",
   "execution_count": 1,
   "metadata": {},
   "outputs": [],
   "source": [
    "%matplotlib inline"
   ]
  },
  {
   "cell_type": "markdown",
   "metadata": {},
   "source": [
    "# Exploratory Data Analysis"
   ]
  },
  {
   "cell_type": "code",
   "execution_count": 2,
   "metadata": {},
   "outputs": [],
   "source": [
    "import pandas as pd\n",
    "import numpy as np\n",
    "import matplotlib.pyplot as plt"
   ]
  },
  {
   "cell_type": "code",
   "execution_count": 4,
   "metadata": {},
   "outputs": [],
   "source": [
    "df_train_features = pd.read_csv('../hb_train_feature.csv')\n",
    "df_test_features = pd.read_csv('../hb_test_feature.csv')\n",
    "df_train_truth = pd.read_csv('../hb_train_truth.csv')"
   ]
  },
  {
   "cell_type": "code",
   "execution_count": 25,
   "metadata": {},
   "outputs": [
    {
     "data": {
      "text/html": [
       "<div>\n",
       "<style scoped>\n",
       "    .dataframe tbody tr th:only-of-type {\n",
       "        vertical-align: middle;\n",
       "    }\n",
       "\n",
       "    .dataframe tbody tr th {\n",
       "        vertical-align: top;\n",
       "    }\n",
       "\n",
       "    .dataframe thead th {\n",
       "        text-align: right;\n",
       "    }\n",
       "</style>\n",
       "<table border=\"1\" class=\"dataframe\">\n",
       "  <thead>\n",
       "    <tr style=\"text-align: right;\">\n",
       "      <th></th>\n",
       "      <th>r11</th>\n",
       "      <th>r12</th>\n",
       "      <th>r13</th>\n",
       "      <th>r21</th>\n",
       "      <th>r22</th>\n",
       "      <th>r23</th>\n",
       "      <th>r31</th>\n",
       "      <th>r32</th>\n",
       "      <th>r33</th>\n",
       "      <th>c11</th>\n",
       "      <th>c12</th>\n",
       "      <th>c13</th>\n",
       "      <th>c21</th>\n",
       "      <th>c22</th>\n",
       "      <th>c23</th>\n",
       "      <th>c31</th>\n",
       "      <th>c32</th>\n",
       "      <th>c33</th>\n",
       "    </tr>\n",
       "  </thead>\n",
       "  <tbody>\n",
       "    <tr>\n",
       "      <th>0</th>\n",
       "      <td>80.0</td>\n",
       "      <td>50.0</td>\n",
       "      <td>80.0</td>\n",
       "      <td>20.0</td>\n",
       "      <td>90.0</td>\n",
       "      <td>60.0</td>\n",
       "      <td>30.0</td>\n",
       "      <td>10.0</td>\n",
       "      <td>10.0</td>\n",
       "      <td>70.0</td>\n",
       "      <td>30.0</td>\n",
       "      <td>40.0</td>\n",
       "      <td>60.0</td>\n",
       "      <td>10.0</td>\n",
       "      <td>70.0</td>\n",
       "      <td>10.0</td>\n",
       "      <td>40.0</td>\n",
       "      <td>50.0</td>\n",
       "    </tr>\n",
       "    <tr>\n",
       "      <th>1</th>\n",
       "      <td>20.0</td>\n",
       "      <td>51.0</td>\n",
       "      <td>50.0</td>\n",
       "      <td>10.0</td>\n",
       "      <td>70.0</td>\n",
       "      <td>30.0</td>\n",
       "      <td>60.0</td>\n",
       "      <td>5.0</td>\n",
       "      <td>45.0</td>\n",
       "      <td>20.0</td>\n",
       "      <td>10.0</td>\n",
       "      <td>60.0</td>\n",
       "      <td>51.0</td>\n",
       "      <td>70.0</td>\n",
       "      <td>5.0</td>\n",
       "      <td>50.0</td>\n",
       "      <td>30.0</td>\n",
       "      <td>45.0</td>\n",
       "    </tr>\n",
       "    <tr>\n",
       "      <th>2</th>\n",
       "      <td>70.0</td>\n",
       "      <td>100.0</td>\n",
       "      <td>48.0</td>\n",
       "      <td>10.0</td>\n",
       "      <td>29.0</td>\n",
       "      <td>40.0</td>\n",
       "      <td>40.0</td>\n",
       "      <td>60.0</td>\n",
       "      <td>100.0</td>\n",
       "      <td>70.0</td>\n",
       "      <td>10.0</td>\n",
       "      <td>40.0</td>\n",
       "      <td>100.0</td>\n",
       "      <td>29.0</td>\n",
       "      <td>60.0</td>\n",
       "      <td>48.0</td>\n",
       "      <td>40.0</td>\n",
       "      <td>100.0</td>\n",
       "    </tr>\n",
       "    <tr>\n",
       "      <th>3</th>\n",
       "      <td>20.0</td>\n",
       "      <td>60.0</td>\n",
       "      <td>70.0</td>\n",
       "      <td>30.0</td>\n",
       "      <td>90.0</td>\n",
       "      <td>20.0</td>\n",
       "      <td>40.0</td>\n",
       "      <td>40.0</td>\n",
       "      <td>50.0</td>\n",
       "      <td>40.0</td>\n",
       "      <td>20.0</td>\n",
       "      <td>80.0</td>\n",
       "      <td>90.0</td>\n",
       "      <td>40.0</td>\n",
       "      <td>90.0</td>\n",
       "      <td>60.0</td>\n",
       "      <td>10.0</td>\n",
       "      <td>60.0</td>\n",
       "    </tr>\n",
       "    <tr>\n",
       "      <th>4</th>\n",
       "      <td>13.0</td>\n",
       "      <td>80.0</td>\n",
       "      <td>60.0</td>\n",
       "      <td>74.0</td>\n",
       "      <td>20.0</td>\n",
       "      <td>70.0</td>\n",
       "      <td>60.0</td>\n",
       "      <td>100.0</td>\n",
       "      <td>10.0</td>\n",
       "      <td>13.0</td>\n",
       "      <td>74.0</td>\n",
       "      <td>60.0</td>\n",
       "      <td>80.0</td>\n",
       "      <td>20.0</td>\n",
       "      <td>100.0</td>\n",
       "      <td>60.0</td>\n",
       "      <td>70.0</td>\n",
       "      <td>10.0</td>\n",
       "    </tr>\n",
       "  </tbody>\n",
       "</table>\n",
       "</div>"
      ],
      "text/plain": [
       "    r11    r12   r13   r21   r22   r23   r31    r32    r33   c11   c12   c13  \\\n",
       "0  80.0   50.0  80.0  20.0  90.0  60.0  30.0   10.0   10.0  70.0  30.0  40.0   \n",
       "1  20.0   51.0  50.0  10.0  70.0  30.0  60.0    5.0   45.0  20.0  10.0  60.0   \n",
       "2  70.0  100.0  48.0  10.0  29.0  40.0  40.0   60.0  100.0  70.0  10.0  40.0   \n",
       "3  20.0   60.0  70.0  30.0  90.0  20.0  40.0   40.0   50.0  40.0  20.0  80.0   \n",
       "4  13.0   80.0  60.0  74.0  20.0  70.0  60.0  100.0   10.0  13.0  74.0  60.0   \n",
       "\n",
       "     c21   c22    c23   c31   c32    c33  \n",
       "0   60.0  10.0   70.0  10.0  40.0   50.0  \n",
       "1   51.0  70.0    5.0  50.0  30.0   45.0  \n",
       "2  100.0  29.0   60.0  48.0  40.0  100.0  \n",
       "3   90.0  40.0   90.0  60.0  10.0   60.0  \n",
       "4   80.0  20.0  100.0  60.0  70.0   10.0  "
      ]
     },
     "execution_count": 25,
     "metadata": {},
     "output_type": "execute_result"
    }
   ],
   "source": [
    "df_train_features.head()"
   ]
  },
  {
   "cell_type": "code",
   "execution_count": 26,
   "metadata": {},
   "outputs": [
    {
     "data": {
      "text/plain": [
       "(250, 18)"
      ]
     },
     "execution_count": 26,
     "metadata": {},
     "output_type": "execute_result"
    }
   ],
   "source": [
    "df_train_features.shape"
   ]
  },
  {
   "cell_type": "code",
   "execution_count": 7,
   "metadata": {},
   "outputs": [
    {
     "data": {
      "text/html": [
       "<div>\n",
       "<style scoped>\n",
       "    .dataframe tbody tr th:only-of-type {\n",
       "        vertical-align: middle;\n",
       "    }\n",
       "\n",
       "    .dataframe tbody tr th {\n",
       "        vertical-align: top;\n",
       "    }\n",
       "\n",
       "    .dataframe thead th {\n",
       "        text-align: right;\n",
       "    }\n",
       "</style>\n",
       "<table border=\"1\" class=\"dataframe\">\n",
       "  <thead>\n",
       "    <tr style=\"text-align: right;\">\n",
       "      <th></th>\n",
       "      <th>f1</th>\n",
       "      <th>f2</th>\n",
       "      <th>f3</th>\n",
       "      <th>action</th>\n",
       "    </tr>\n",
       "  </thead>\n",
       "  <tbody>\n",
       "    <tr>\n",
       "      <th>0</th>\n",
       "      <td>0.868421</td>\n",
       "      <td>0.078947</td>\n",
       "      <td>0.052632</td>\n",
       "      <td>1.0</td>\n",
       "    </tr>\n",
       "    <tr>\n",
       "      <th>1</th>\n",
       "      <td>0.300000</td>\n",
       "      <td>0.550000</td>\n",
       "      <td>0.150000</td>\n",
       "      <td>2.0</td>\n",
       "    </tr>\n",
       "    <tr>\n",
       "      <th>2</th>\n",
       "      <td>0.450000</td>\n",
       "      <td>0.000000</td>\n",
       "      <td>0.550000</td>\n",
       "      <td>3.0</td>\n",
       "    </tr>\n",
       "    <tr>\n",
       "      <th>3</th>\n",
       "      <td>0.421053</td>\n",
       "      <td>0.157895</td>\n",
       "      <td>0.421053</td>\n",
       "      <td>1.0</td>\n",
       "    </tr>\n",
       "    <tr>\n",
       "      <th>4</th>\n",
       "      <td>0.125000</td>\n",
       "      <td>0.550000</td>\n",
       "      <td>0.325000</td>\n",
       "      <td>2.0</td>\n",
       "    </tr>\n",
       "  </tbody>\n",
       "</table>\n",
       "</div>"
      ],
      "text/plain": [
       "         f1        f2        f3  action\n",
       "0  0.868421  0.078947  0.052632     1.0\n",
       "1  0.300000  0.550000  0.150000     2.0\n",
       "2  0.450000  0.000000  0.550000     3.0\n",
       "3  0.421053  0.157895  0.421053     1.0\n",
       "4  0.125000  0.550000  0.325000     2.0"
      ]
     },
     "execution_count": 7,
     "metadata": {},
     "output_type": "execute_result"
    }
   ],
   "source": [
    "df_train_truth.head()"
   ]
  },
  {
   "cell_type": "code",
   "execution_count": 15,
   "metadata": {},
   "outputs": [
    {
     "data": {
      "text/plain": [
       "c11    70.0\n",
       "c12    30.0\n",
       "c13    40.0\n",
       "c21    60.0\n",
       "c22    10.0\n",
       "c23    70.0\n",
       "c31    10.0\n",
       "c32    40.0\n",
       "c33    50.0\n",
       "Name: 0, dtype: float64"
      ]
     },
     "execution_count": 15,
     "metadata": {},
     "output_type": "execute_result"
    }
   ],
   "source": [
    "df_train_features.iloc[0][9:]"
   ]
  },
  {
   "cell_type": "code",
   "execution_count": 19,
   "metadata": {},
   "outputs": [
    {
     "name": "stderr",
     "output_type": "stream",
     "text": [
      "/Users/michael/anaconda3/envs/pyml/lib/python3.6/site-packages/ipykernel_launcher.py:1: FutureWarning: reshape is deprecated and will raise in a subsequent release. Please use .values.reshape(...) instead\n",
      "  \"\"\"Entry point for launching an IPython kernel.\n"
     ]
    },
    {
     "data": {
      "text/html": [
       "<div>\n",
       "<style scoped>\n",
       "    .dataframe tbody tr th:only-of-type {\n",
       "        vertical-align: middle;\n",
       "    }\n",
       "\n",
       "    .dataframe tbody tr th {\n",
       "        vertical-align: top;\n",
       "    }\n",
       "\n",
       "    .dataframe thead th {\n",
       "        text-align: right;\n",
       "    }\n",
       "</style>\n",
       "<table border=\"1\" class=\"dataframe\">\n",
       "  <thead>\n",
       "    <tr style=\"text-align: right;\">\n",
       "      <th></th>\n",
       "      <th>c1</th>\n",
       "      <th>c2</th>\n",
       "      <th>c3</th>\n",
       "    </tr>\n",
       "  </thead>\n",
       "  <tbody>\n",
       "    <tr>\n",
       "      <th>r1</th>\n",
       "      <td>80.0</td>\n",
       "      <td>50.0</td>\n",
       "      <td>80.0</td>\n",
       "    </tr>\n",
       "    <tr>\n",
       "      <th>r2</th>\n",
       "      <td>20.0</td>\n",
       "      <td>90.0</td>\n",
       "      <td>60.0</td>\n",
       "    </tr>\n",
       "    <tr>\n",
       "      <th>r3</th>\n",
       "      <td>30.0</td>\n",
       "      <td>10.0</td>\n",
       "      <td>10.0</td>\n",
       "    </tr>\n",
       "  </tbody>\n",
       "</table>\n",
       "</div>"
      ],
      "text/plain": [
       "      c1    c2    c3\n",
       "r1  80.0  50.0  80.0\n",
       "r2  20.0  90.0  60.0\n",
       "r3  30.0  10.0  10.0"
      ]
     },
     "execution_count": 19,
     "metadata": {},
     "output_type": "execute_result"
    }
   ],
   "source": [
    "pd.DataFrame(df_train_features.iloc[0][:9].reshape(3, 3), \n",
    "             index=['r1', 'r2', 'r3'], \n",
    "             columns=['c1', 'c2', 'c3'])"
   ]
  },
  {
   "cell_type": "markdown",
   "metadata": {},
   "source": [
    "## Visualize game matrix better"
   ]
  },
  {
   "cell_type": "code",
   "execution_count": 59,
   "metadata": {},
   "outputs": [],
   "source": [
    "def view_game_matrix(df_row):\n",
    "    \"\"\"\n",
    "    View payoffs in 3x3 matrix format\n",
    "    inputs\n",
    "        df_row : Pandas series object, e.g. df.iloc[0]\n",
    "    returns\n",
    "        [row_payoffs, col_payoffs] : np.array (2x3x3)\n",
    "    \"\"\"\n",
    "    return df_row.values.reshape(2, 3, 3)"
   ]
  },
  {
   "cell_type": "code",
   "execution_count": 60,
   "metadata": {},
   "outputs": [
    {
     "data": {
      "text/plain": [
       "array([[[ 80.,  50.,  80.],\n",
       "        [ 20.,  90.,  60.],\n",
       "        [ 30.,  10.,  10.]],\n",
       "\n",
       "       [[ 70.,  30.,  40.],\n",
       "        [ 60.,  10.,  70.],\n",
       "        [ 10.,  40.,  50.]]])"
      ]
     },
     "execution_count": 60,
     "metadata": {},
     "output_type": "execute_result"
    }
   ],
   "source": [
    "view_game_matrix(df_train_features.iloc[0])"
   ]
  },
  {
   "cell_type": "code",
   "execution_count": 51,
   "metadata": {},
   "outputs": [
    {
     "data": {
      "text/plain": [
       "array([ 0.86842105,  0.07894737,  0.05263158,  1.        ])"
      ]
     },
     "execution_count": 51,
     "metadata": {},
     "output_type": "execute_result"
    }
   ],
   "source": [
    "np.array(df_train_truth.iloc[0])"
   ]
  },
  {
   "cell_type": "markdown",
   "metadata": {},
   "source": [
    "## Distribution of plays\n",
    "\n",
    "In aggregate this tends to 0, which is not that useful. However if we visualize by grouping / binning at similar payoffs maybe this could be better?"
   ]
  },
  {
   "cell_type": "code",
   "execution_count": 102,
   "metadata": {},
   "outputs": [
    {
     "data": {
      "image/png": "[encoded data removed]",
      "text/plain": [
       "<Figure size 432x288 with 3 Axes>"
      ]
     },
     "metadata": {},
     "output_type": "display_data"
    }
   ],
   "source": [
    "plt.subplot(1, 3, 1)\n",
    "plt.hist(df_train_truth['f1'], alpha=0.5)\n",
    "plt.subplot(1, 3, 2)\n",
    "plt.hist(df_train_truth['f2'], alpha=0.5)\n",
    "plt.subplot(1, 3, 3)\n",
    "plt.hist(df_train_truth['f3'], alpha=0.5)\n",
    "plt.show()"
   ]
  },
  {
   "cell_type": "code",
   "execution_count": 106,
   "metadata": {},
   "outputs": [
    {
     "data": {
      "image/png": "[encoded data removed]",
      "text/plain": [
       "<Figure size 432x288 with 3 Axes>"
      ]
     },
     "metadata": {},
     "output_type": "display_data"
    }
   ],
   "source": [
    "plt.subplot(1, 3, 1)\n",
    "plt.hist(df_train_features['r11'], alpha=0.5)\n",
    "plt.subplot(1, 3, 2)\n",
    "plt.hist(df_train_features['r12'], alpha=0.5)\n",
    "plt.subplot(1, 3, 3)\n",
    "plt.hist(df_train_features['r13'], alpha=0.5)\n",
    "plt.show()"
   ]
  },
  {
   "cell_type": "markdown",
   "metadata": {},
   "source": [
    "## Game data processing and game similarity?\n",
    "\n",
    "First preprocess data into list of 3x3 payoffs (row and column).  \n",
    "Then for all payouts convert to $[0, 1]$ scale by normalizing (x - x_min / (x_max - x_min)).  \n",
    "Then can do clustering to see what are the closest games by payout"
   ]
  },
  {
   "cell_type": "code",
   "execution_count": 110,
   "metadata": {},
   "outputs": [],
   "source": [
    "def normalize(matrix):\n",
    "    \"\"\"\n",
    "    Method to normalize a given matrix\n",
    "    input:\n",
    "        matrix : np.array, the payouts \n",
    "    output:\n",
    "        np.array, the matrix normalized\n",
    "    \"\"\"\n",
    "    min_val = np.min(matrix)\n",
    "    max_val = np.max(matrix)\n",
    "    return (matrix - min_val) / (max_val - min_val)\n",
    "    "
   ]
  },
  {
   "cell_type": "markdown",
   "metadata": {},
   "source": [
    "### Construct new dataset format and normalize"
   ]
  },
  {
   "cell_type": "code",
   "execution_count": 240,
   "metadata": {},
   "outputs": [],
   "source": [
    "def get_payoff_matrices(df, rows_first=False, normalized=True):\n",
    "    \"\"\"\n",
    "    Convert input dataframe into new normed payoff data\n",
    "    input:\n",
    "        df : pandas.DataFrame\n",
    "        rows_first : bool, if true, separate data into first row payoffs and then columns, \n",
    "        otherwise row and col payoffs lumped next to each other\n",
    "        normalized : bool, if true, normalize the matrices\n",
    "    output:\n",
    "        np.array, the converted data \n",
    "    \"\"\"\n",
    "    if normalized:\n",
    "        df = df.apply(normalize, axis=0)\n",
    "    matrices = np.zeros([2 * df.shape[0], 3, 3])\n",
    "    for row_ix in range(df.shape[0]):\n",
    "        payoffs = view_game_matrix(df.iloc[row_ix])\n",
    "        if rows_first:\n",
    "            matrices[row_ix] = payoffs[0]\n",
    "            matrices[row_ix + df.shape[0]] = payoffs[1]\n",
    "        else:\n",
    "            matrices[row_ix * 2] = payoffs[0]\n",
    "            matrices[row_ix * 2 + 1] = payoffs[1]\n",
    "#     if normalized:\n",
    "#         matrices = np.array([normalize(matrices[ix]) for ix in range(matrices.shape[0])])\n",
    "    return matrices"
   ]
  },
  {
   "cell_type": "code",
   "execution_count": 241,
   "metadata": {},
   "outputs": [
    {
     "data": {
      "text/html": [
       "<div>\n",
       "<style scoped>\n",
       "    .dataframe tbody tr th:only-of-type {\n",
       "        vertical-align: middle;\n",
       "    }\n",
       "\n",
       "    .dataframe tbody tr th {\n",
       "        vertical-align: top;\n",
       "    }\n",
       "\n",
       "    .dataframe thead th {\n",
       "        text-align: right;\n",
       "    }\n",
       "</style>\n",
       "<table border=\"1\" class=\"dataframe\">\n",
       "  <thead>\n",
       "    <tr style=\"text-align: right;\">\n",
       "      <th></th>\n",
       "      <th>r11</th>\n",
       "      <th>r12</th>\n",
       "      <th>r13</th>\n",
       "      <th>r21</th>\n",
       "      <th>r22</th>\n",
       "      <th>r23</th>\n",
       "      <th>r31</th>\n",
       "      <th>r32</th>\n",
       "      <th>r33</th>\n",
       "      <th>c11</th>\n",
       "      <th>c12</th>\n",
       "      <th>c13</th>\n",
       "      <th>c21</th>\n",
       "      <th>c22</th>\n",
       "      <th>c23</th>\n",
       "      <th>c31</th>\n",
       "      <th>c32</th>\n",
       "      <th>c33</th>\n",
       "    </tr>\n",
       "  </thead>\n",
       "  <tbody>\n",
       "    <tr>\n",
       "      <th>0</th>\n",
       "      <td>80.0</td>\n",
       "      <td>50.0</td>\n",
       "      <td>80.0</td>\n",
       "      <td>20.0</td>\n",
       "      <td>90.0</td>\n",
       "      <td>60.0</td>\n",
       "      <td>30.0</td>\n",
       "      <td>10.0</td>\n",
       "      <td>10.0</td>\n",
       "      <td>70.0</td>\n",
       "      <td>30.0</td>\n",
       "      <td>40.0</td>\n",
       "      <td>60.0</td>\n",
       "      <td>10.0</td>\n",
       "      <td>70.0</td>\n",
       "      <td>10.0</td>\n",
       "      <td>40.0</td>\n",
       "      <td>50.0</td>\n",
       "    </tr>\n",
       "    <tr>\n",
       "      <th>1</th>\n",
       "      <td>20.0</td>\n",
       "      <td>51.0</td>\n",
       "      <td>50.0</td>\n",
       "      <td>10.0</td>\n",
       "      <td>70.0</td>\n",
       "      <td>30.0</td>\n",
       "      <td>60.0</td>\n",
       "      <td>5.0</td>\n",
       "      <td>45.0</td>\n",
       "      <td>20.0</td>\n",
       "      <td>10.0</td>\n",
       "      <td>60.0</td>\n",
       "      <td>51.0</td>\n",
       "      <td>70.0</td>\n",
       "      <td>5.0</td>\n",
       "      <td>50.0</td>\n",
       "      <td>30.0</td>\n",
       "      <td>45.0</td>\n",
       "    </tr>\n",
       "    <tr>\n",
       "      <th>2</th>\n",
       "      <td>70.0</td>\n",
       "      <td>100.0</td>\n",
       "      <td>48.0</td>\n",
       "      <td>10.0</td>\n",
       "      <td>29.0</td>\n",
       "      <td>40.0</td>\n",
       "      <td>40.0</td>\n",
       "      <td>60.0</td>\n",
       "      <td>100.0</td>\n",
       "      <td>70.0</td>\n",
       "      <td>10.0</td>\n",
       "      <td>40.0</td>\n",
       "      <td>100.0</td>\n",
       "      <td>29.0</td>\n",
       "      <td>60.0</td>\n",
       "      <td>48.0</td>\n",
       "      <td>40.0</td>\n",
       "      <td>100.0</td>\n",
       "    </tr>\n",
       "  </tbody>\n",
       "</table>\n",
       "</div>"
      ],
      "text/plain": [
       "    r11    r12   r13   r21   r22   r23   r31   r32    r33   c11   c12   c13  \\\n",
       "0  80.0   50.0  80.0  20.0  90.0  60.0  30.0  10.0   10.0  70.0  30.0  40.0   \n",
       "1  20.0   51.0  50.0  10.0  70.0  30.0  60.0   5.0   45.0  20.0  10.0  60.0   \n",
       "2  70.0  100.0  48.0  10.0  29.0  40.0  40.0  60.0  100.0  70.0  10.0  40.0   \n",
       "\n",
       "     c21   c22   c23   c31   c32    c33  \n",
       "0   60.0  10.0  70.0  10.0  40.0   50.0  \n",
       "1   51.0  70.0   5.0  50.0  30.0   45.0  \n",
       "2  100.0  29.0  60.0  48.0  40.0  100.0  "
      ]
     },
     "execution_count": 241,
     "metadata": {},
     "output_type": "execute_result"
    }
   ],
   "source": [
    "df_train_features.head(3)"
   ]
  },
  {
   "cell_type": "code",
   "execution_count": 242,
   "metadata": {
    "scrolled": true
   },
   "outputs": [
    {
     "data": {
      "text/plain": [
       "array([[[  80.,   50.,   80.],\n",
       "        [  20.,   90.,   60.],\n",
       "        [  30.,   10.,   10.]],\n",
       "\n",
       "       [[  20.,   51.,   50.],\n",
       "        [  10.,   70.,   30.],\n",
       "        [  60.,    5.,   45.]],\n",
       "\n",
       "       [[  70.,  100.,   48.],\n",
       "        [  10.,   29.,   40.],\n",
       "        [  40.,   60.,  100.]]])"
      ]
     },
     "execution_count": 242,
     "metadata": {},
     "output_type": "execute_result"
    }
   ],
   "source": [
    "# all row payoffs then all col payoffs, unnormalized\n",
    "norm_payoffs = get_payoff_matrices(df_train_features, rows_first=True, normalized=False)\n",
    "norm_payoffs[:3]"
   ]
  },
  {
   "cell_type": "code",
   "execution_count": 243,
   "metadata": {},
   "outputs": [
    {
     "data": {
      "text/plain": [
       "array([[[ 0.8 ,  0.5 ,  0.8 ],\n",
       "        [ 0.2 ,  0.9 ,  0.6 ],\n",
       "        [ 0.3 ,  0.1 ,  0.1 ]],\n",
       "\n",
       "       [[ 0.2 ,  0.51,  0.5 ],\n",
       "        [ 0.1 ,  0.7 ,  0.3 ],\n",
       "        [ 0.6 ,  0.05,  0.45]],\n",
       "\n",
       "       [[ 0.7 ,  1.  ,  0.48],\n",
       "        [ 0.1 ,  0.29,  0.4 ],\n",
       "        [ 0.4 ,  0.6 ,  1.  ]]])"
      ]
     },
     "execution_count": 243,
     "metadata": {},
     "output_type": "execute_result"
    }
   ],
   "source": [
    "norm_payoffs = get_payoff_matrices(df_train_features, rows_first=True, normalized=True)\n",
    "norm_payoffs[:3]"
   ]
  },
  {
   "cell_type": "code",
   "execution_count": 161,
   "metadata": {},
   "outputs": [
    {
     "data": {
      "text/plain": [
       "(500, 3, 3)"
      ]
     },
     "execution_count": 161,
     "metadata": {},
     "output_type": "execute_result"
    }
   ],
   "source": [
    "norm_payoffs.shape"
   ]
  },
  {
   "cell_type": "markdown",
   "metadata": {},
   "source": [
    "### Cluster data with K-means"
   ]
  },
  {
   "cell_type": "code",
   "execution_count": 244,
   "metadata": {},
   "outputs": [],
   "source": [
    "from sklearn.cluster import KMeans"
   ]
  },
  {
   "cell_type": "code",
   "execution_count": 268,
   "metadata": {},
   "outputs": [],
   "source": [
    "# n_clusters is kind of arbitrary here\n",
    "kmeans = KMeans(n_clusters=8, ).fit(norm_payoffs.reshape(500, 9))\n",
    "clustered_games_r = {}\n",
    "clustered_games_c = {}\n",
    "for ix in range(len(kmeans.labels_)):\n",
    "    label = kmeans.labels_[ix]\n",
    "    if ix < 250:\n",
    "        if label in clustered_games_r:\n",
    "            clustered_games_r[label].append((norm_payoffs[ix], ix))\n",
    "        else:\n",
    "            clustered_games_r[label] = [(norm_payoffs[ix], ix)]       \n",
    "    else:\n",
    "        if label in clustered_games_c:\n",
    "            clustered_games_c[label].append((norm_payoffs[ix], ix - 250))\n",
    "        else:\n",
    "            clustered_games_c[label] = [(norm_payoffs[ix], ix - 250)]"
   ]
  },
  {
   "cell_type": "markdown",
   "metadata": {},
   "source": [
    "#### Visualize what the row player played for each similar column player"
   ]
  },
  {
   "cell_type": "code",
   "execution_count": null,
   "metadata": {},
   "outputs": [],
   "source": [
    "cluste"
   ]
  },
  {
   "cell_type": "code",
   "execution_count": 318,
   "metadata": {
    "scrolled": true
   },
   "outputs": [],
   "source": [
    "# df[df.index.isin(my_list)]\n",
    "def plot_row_cow_clusters(ix):\n",
    "    filtered_df_r = df_train_truth[df_train_truth.index.isin([r[1] for r in clustered_games_r[ix]])]\n",
    "    filtered_df_c = df_train_truth[df_train_truth.index.isin([c[1] for c in clustered_games_c[ix]])]\n",
    "    plt.figure(figsize=(10, 3))\n",
    "    plt.subplot(1, 3, 1)\n",
    "    plt.hist(filtered_df_r['f1'], alpha=0.5)\n",
    "    plt.hist(filtered_df_c['f1'], alpha=0.5)\n",
    "    plt.xlim(-0.1, 1.1)\n",
    "    plt.subplot(1, 3, 2)\n",
    "    plt.hist(filtered_df_r['f2'], alpha=0.5)\n",
    "    plt.hist(filtered_df_c['f2'], alpha=0.5)\n",
    "    plt.xlim(-0.1, 1.1)\n",
    "    plt.subplot(1, 3, 3)\n",
    "    plt.hist(filtered_df_r['f3'], alpha=0.5)\n",
    "    plt.hist(filtered_df_c['f3'], alpha=0.5)\n",
    "    plt.xlim(-0.1, 1.1)\n",
    "    plt.show()"
   ]
  },
  {
   "cell_type": "code",
   "execution_count": 319,
   "metadata": {
    "scrolled": true
   },
   "outputs": [
    {
     "data": {
      "image/png": "[encoded data removed]",
      "text/plain": [
       "<Figure size 720x216 with 3 Axes>"
      ]
     },
     "metadata": {},
     "output_type": "display_data"
    },
    {
     "data": {
      "image/png": "[encoded data removed]",
      "text/plain": [
       "<Figure size 720x216 with 3 Axes>"
      ]
     },
     "metadata": {},
     "output_type": "display_data"
    },
    {
     "data": {
      "image/png": "[encoded data removed]",
      "text/plain": [
       "<Figure size 720x216 with 3 Axes>"
      ]
     },
     "metadata": {},
     "output_type": "display_data"
    },
    {
     "data": {
      "image/png": "[encoded data removed]",
      "text/plain": [
       "<Figure size 720x216 with 3 Axes>"
      ]
     },
     "metadata": {},
     "output_type": "display_data"
    },
    {
     "data": {
      "image/png": "[encoded data removed]",
      "text/plain": [
       "<Figure size 720x216 with 3 Axes>"
      ]
     },
     "metadata": {},
     "output_type": "display_data"
    },
    {
     "data": {
      "image/png": "[encoded data removed]",
      "text/plain": [
       "<Figure size 720x216 with 3 Axes>"
      ]
     },
     "metadata": {},
     "output_type": "display_data"
    },
    {
     "data": {
      "image/png": "[encoded data removed]",
      "text/plain": [
       "<Figure size 720x216 with 3 Axes>"
      ]
     },
     "metadata": {},
     "output_type": "display_data"
    },
    {
     "data": {
      "image/png": "[encoded data removed]",
      "text/plain": [
       "<Figure size 720x216 with 3 Axes>"
      ]
     },
     "metadata": {},
     "output_type": "display_data"
    }
   ],
   "source": [
    "for i in range(8):\n",
    "    plot_row_cow_clusters(i)"
   ]
  },
  {
   "cell_type": "markdown",
   "metadata": {},
   "source": [
    "### Visualize with the help of PCA\n",
    "Convert games to 2 dimensions first, then do clustering"
   ]
  },
  {
   "cell_type": "code",
   "execution_count": 248,
   "metadata": {},
   "outputs": [],
   "source": [
    "from sklearn.decomposition import PCA"
   ]
  },
  {
   "cell_type": "code",
   "execution_count": 249,
   "metadata": {},
   "outputs": [],
   "source": [
    "pca = PCA(n_components=2)\n",
    "pca_payoffs = pca.fit_transform(norm_payoffs.reshape(500, 9))"
   ]
  },
  {
   "cell_type": "code",
   "execution_count": 261,
   "metadata": {},
   "outputs": [
    {
     "data": {
      "text/plain": [
       "<matplotlib.collections.PathCollection at 0x1a244c7c18>"
      ]
     },
     "execution_count": 261,
     "metadata": {},
     "output_type": "execute_result"
    },
    {
     "data": {
      "image/png": "[encoded data removed]",
      "text/plain": [
       "<Figure size 432x288 with 1 Axes>"
      ]
     },
     "metadata": {},
     "output_type": "display_data"
    }
   ],
   "source": [
    "pca = PCA(n_components=2)\n",
    "pca_payoffs = pca.fit_transform(norm_payoffs.reshape(500, 9))\n",
    "# n_clusters is kind of arbitrary here\n",
    "kmeans = KMeans(n_clusters=8, ).fit(pca_payoffs)\n",
    "plt.scatter(x=pca_payoffs[:, 0], y=pca_payoffs[:, 1], c=kmeans.labels_, cmap='viridis')"
   ]
  },
  {
   "cell_type": "code",
   "execution_count": 250,
   "metadata": {},
   "outputs": [
    {
     "data": {
      "text/plain": [
       "(500, 2)"
      ]
     },
     "execution_count": 250,
     "metadata": {},
     "output_type": "execute_result"
    }
   ],
   "source": [
    "pca_payoffs.shape"
   ]
  },
  {
   "cell_type": "code",
   "execution_count": 217,
   "metadata": {},
   "outputs": [],
   "source": [
    "from sklearn.preprocessing import MinMaxScaler\n",
    "from sklearn.preprocessing import StandardScaler\n",
    "norm_scaler = MinMaxScaler()\n",
    "standard_scaler = StandardScaler() "
   ]
  },
  {
   "cell_type": "code",
   "execution_count": 218,
   "metadata": {},
   "outputs": [
    {
     "data": {
      "text/plain": [
       "array([[ 0.8 ,  0.5 ,  0.8 , ...,  0.1 ,  0.4 ,  0.5 ],\n",
       "       [ 0.2 ,  0.51,  0.5 , ...,  0.5 ,  0.3 ,  0.45],\n",
       "       [ 0.7 ,  1.  ,  0.48, ...,  0.48,  0.4 ,  1.  ],\n",
       "       ..., \n",
       "       [ 0.79,  0.51,  0.55, ...,  0.55,  0.99,  0.19],\n",
       "       [ 0.7 ,  0.8 ,  0.4 , ...,  0.4 ,  0.93,  0.6 ],\n",
       "       [ 0.4 ,  0.35,  0.05, ...,  0.05,  0.51,  0.7 ]])"
      ]
     },
     "execution_count": 218,
     "metadata": {},
     "output_type": "execute_result"
    }
   ],
   "source": [
    "norm_scaler.fit_transform(df_train_features)"
   ]
  },
  {
   "cell_type": "code",
   "execution_count": 219,
   "metadata": {},
   "outputs": [
    {
     "data": {
      "text/plain": [
       "array([[ 1.14560024, -0.12009153,  0.98975857, ..., -1.42172677,\n",
       "        -0.23688418,  0.025155  ],\n",
       "       [-1.00778367, -0.08624386, -0.02171292, ..., -0.03616321,\n",
       "        -0.59776807, -0.14209897],\n",
       "       [ 0.78670292,  1.57229195, -0.08914435, ..., -0.10544139,\n",
       "        -0.23688418,  1.6976947 ],\n",
       "       ..., \n",
       "       [ 1.10971051, -0.08624386,  0.14686566, ...,  0.13703224,\n",
       "         1.89233074, -1.01181962],\n",
       "       [ 0.78670292,  0.89533856, -0.35887009, ..., -0.3825541 ,\n",
       "         1.67580041,  0.35966294],\n",
       "       [-0.28998903, -0.62780658, -1.53892016, ..., -1.59492221,\n",
       "         0.16008809,  0.69417088]])"
      ]
     },
     "execution_count": 219,
     "metadata": {},
     "output_type": "execute_result"
    }
   ],
   "source": [
    "standard_scaler.fit_transform(df_train_features)"
   ]
  },
  {
   "cell_type": "code",
   "execution_count": 220,
   "metadata": {},
   "outputs": [
    {
     "data": {
      "text/plain": [
       "<matplotlib.collections.PathCollection at 0x1a24204a20>"
      ]
     },
     "execution_count": 220,
     "metadata": {},
     "output_type": "execute_result"
    },
    {
     "data": {
      "image/png": "[encoded data removed]",
      "text/plain": [
       "<Figure size 432x288 with 1 Axes>"
      ]
     },
     "metadata": {},
     "output_type": "display_data"
    }
   ],
   "source": [
    "normed_df = standard_scaler.fit_transform(df_train_features) # df_train_features.apply(normalize, axis=0)\n",
    "pca = PCA(n_components=2)\n",
    "pca_payoffs = pca.fit_transform(normed_df)\n",
    "plt.scatter(x=pca_payoffs[:, 0], y=pca_payoffs[:, 1])"
   ]
  },
  {
   "cell_type": "code",
   "execution_count": 255,
   "metadata": {},
   "outputs": [
    {
     "data": {
      "text/plain": [
       "array([[ 0.8 ,  0.5 ,  0.8 , ...,  0.1 ,  0.4 ,  0.5 ],\n",
       "       [ 0.2 ,  0.51,  0.5 , ...,  0.5 ,  0.3 ,  0.45],\n",
       "       [ 0.7 ,  1.  ,  0.48, ...,  0.48,  0.4 ,  1.  ],\n",
       "       ..., \n",
       "       [ 0.79,  0.51,  0.55, ...,  0.55,  0.99,  0.19],\n",
       "       [ 0.7 ,  0.8 ,  0.4 , ...,  0.4 ,  0.93,  0.6 ],\n",
       "       [ 0.4 ,  0.35,  0.05, ...,  0.05,  0.51,  0.7 ]])"
      ]
     },
     "execution_count": 255,
     "metadata": {},
     "output_type": "execute_result"
    }
   ],
   "source": [
    "normed_df"
   ]
  },
  {
   "cell_type": "code",
   "execution_count": 257,
   "metadata": {
    "scrolled": true
   },
   "outputs": [
    {
     "data": {
      "text/plain": [
       "array([[ 0.8 ,  0.5 ,  0.8 , ...,  0.3 ,  0.1 ,  0.1 ],\n",
       "       [ 0.2 ,  0.51,  0.5 , ...,  0.6 ,  0.05,  0.45],\n",
       "       [ 0.7 ,  1.  ,  0.48, ...,  0.4 ,  0.6 ,  1.  ],\n",
       "       ..., \n",
       "       [ 0.79,  0.59,  0.59, ...,  0.55,  0.99,  0.19],\n",
       "       [ 0.7 ,  0.1 ,  0.88, ...,  0.4 ,  0.93,  0.6 ],\n",
       "       [ 0.4 ,  0.3 ,  0.4 , ...,  0.05,  0.51,  0.7 ]])"
      ]
     },
     "execution_count": 257,
     "metadata": {},
     "output_type": "execute_result"
    }
   ],
   "source": [
    "norm_payoffs.reshape(500, 9)"
   ]
  },
  {
   "cell_type": "code",
   "execution_count": 253,
   "metadata": {},
   "outputs": [
    {
     "data": {
      "text/plain": [
       "<matplotlib.collections.PathCollection at 0x1a23fabb38>"
      ]
     },
     "execution_count": 253,
     "metadata": {},
     "output_type": "execute_result"
    },
    {
     "data": {
      "image/png": "[encoded data removed]",
      "text/plain": [
       "<Figure size 432x288 with 1 Axes>"
      ]
     },
     "metadata": {},
     "output_type": "display_data"
    }
   ],
   "source": [
    "normed_df = norm_scaler.fit_transform(df_train_features) # df_train_features.apply(normalize, axis=0)\n",
    "pca = PCA(n_components=2)\n",
    "pca_payoffs = pca.fit_transform(normed_df)\n",
    "plt.scatter(x=pca_payoffs[:, 0], y=pca_payoffs[:, 1])"
   ]
  },
  {
   "cell_type": "markdown",
   "metadata": {},
   "source": [
    "## Idea 1: Convolutions\n",
    "\n",
    "If the players see a bimatrix game in the matrix format (even if they don't), then they might pick actions based on some saliency to the payoffs. We can then think of how we would want to classify a payoff. \n",
    "\n",
    "They may consider their own payoffs, but also the payoffs of the opponent (several strategies involve trying to pick the same or trying to make the opponent well off too). So aside from their own payoffs we can have a matrix that shows the differences.\n",
    "\n",
    "Would have a weight associated with each matrix item?\n",
    "\n",
    "The frequency ground-truth is from the perspective of just the row player. However if we assume that the column player would play similarly, then we essentially have twice the data?  \n",
    "* Row players in aggregate see some game output, and then picks actions with some frequency\n",
    "* Column players in aggregate see some game input, and then picks actions with some frequency\n",
    "\n",
    "Is there a way we can empirically try to see if this approach makes sense? Like identifying the most \"similar\" games from row and column perspectives, or if a column payout looks similar to a row payout, and seeing what the row payout played.\n",
    "\n",
    "Can also consider making our own \"features\" as channels that represent different types of play. For example, the difference between row and column player outputs is one thing. Might be good to look at the different things considered in past literature (e.g. altruism or trying to do the same would mean it'd be good to look at the difference between the two)\n",
    "\n",
    "Additionally, we can assume that the order of what's presented is invariant. "
   ]
  },
  {
   "cell_type": "code",
   "execution_count": 62,
   "metadata": {},
   "outputs": [
    {
     "name": "stdout",
     "output_type": "stream",
     "text": [
      "[[[ 80.  50.  80.]\n",
      "  [ 20.  90.  60.]\n",
      "  [ 30.  10.  10.]]\n",
      "\n",
      " [[ 70.  30.  40.]\n",
      "  [ 60.  10.  70.]\n",
      "  [ 10.  40.  50.]]]\n"
     ]
    }
   ],
   "source": [
    "# Example, the payoffs of a single game\n",
    "payoff_game_0 = view_game_matrix(df_train_features.iloc[0])\n",
    "print(payoff_game_0)"
   ]
  },
  {
   "cell_type": "code",
   "execution_count": 63,
   "metadata": {},
   "outputs": [
    {
     "data": {
      "text/plain": [
       "array([[ 10.,  20.,  40.],\n",
       "       [-40.,  80., -10.],\n",
       "       [ 20., -30., -40.]])"
      ]
     },
     "execution_count": 63,
     "metadata": {},
     "output_type": "execute_result"
    }
   ],
   "source": [
    "# The differences of them\n",
    "payoff_game_0[0] - payoff_game_0[1]"
   ]
  },
  {
   "cell_type": "code",
   "execution_count": 68,
   "metadata": {},
   "outputs": [
    {
     "data": {
      "text/plain": [
       "array([[[-10., -40., -10.],\n",
       "        [-70.,   0., -30.],\n",
       "        [-60., -80., -80.]],\n",
       "\n",
       "       [[  0., -40., -30.],\n",
       "        [-10., -60.,   0.],\n",
       "        [-60., -30., -20.]]])"
      ]
     },
     "execution_count": 68,
     "metadata": {},
     "output_type": "execute_result"
    }
   ],
   "source": [
    "# Can also consider differences of the max\n",
    "np.array([\n",
    "    payoff_game_0[0] - np.max(payoff_game_0[0]),\n",
    "    payoff_game_0[1] - np.max(payoff_game_0[1])])"
   ]
  },
  {
   "cell_type": "code",
   "execution_count": 69,
   "metadata": {},
   "outputs": [
    {
     "data": {
      "text/plain": [
       "f1        0.868421\n",
       "f2        0.078947\n",
       "f3        0.052632\n",
       "action    1.000000\n",
       "Name: 0, dtype: float64"
      ]
     },
     "execution_count": 69,
     "metadata": {},
     "output_type": "execute_result"
    }
   ],
   "source": [
    "df_train_truth.iloc[0]"
   ]
  },
  {
   "cell_type": "code",
   "execution_count": 74,
   "metadata": {},
   "outputs": [],
   "source": [
    "def predict_max(df_row):\n",
    "    payoff = view_game_matrix(df_row)\n",
    "    payoff_diff = np.abs(payoff[0] - payoff[1])\n",
    "    payoff_r_diff = payoff[0] - np.max(payoff[0])\n",
    "    payoff_c_diff = payoff[1] - np.max(payoff[1])\n",
    "    print(payoff_diff)\n",
    "    print(payoff_r_diff)\n",
    "    print(payoff_c_diff)\n"
   ]
  },
  {
   "cell_type": "code",
   "execution_count": 79,
   "metadata": {},
   "outputs": [
    {
     "name": "stdout",
     "output_type": "stream",
     "text": [
      "[[ 20.  40.  10.]\n",
      " [ 60.  50.  70.]\n",
      " [ 20.  30.  10.]]\n",
      "[[-70. -30. -20.]\n",
      " [-60.   0. -70.]\n",
      " [-50. -50. -40.]]\n",
      "[[-50. -70. -10.]\n",
      " [  0. -50.   0.]\n",
      " [-30. -80. -30.]]\n"
     ]
    }
   ],
   "source": [
    "predict_max(df_train_features.iloc[3])"
   ]
  },
  {
   "cell_type": "code",
   "execution_count": 80,
   "metadata": {},
   "outputs": [
    {
     "data": {
      "text/plain": [
       "f1        0.421053\n",
       "f2        0.157895\n",
       "f3        0.421053\n",
       "action    1.000000\n",
       "Name: 3, dtype: float64"
      ]
     },
     "execution_count": 80,
     "metadata": {},
     "output_type": "execute_result"
    }
   ],
   "source": [
    "df_train_truth.iloc[3]"
   ]
  },
  {
   "cell_type": "markdown",
   "metadata": {},
   "source": [
    "## Idea 2: Generate more data\n",
    "\n",
    "We don't have that many games (just 250?). But if we can learn the generate similar games then we could (1) predict the actual outcomes for different ones and (2) generate more training data to support a deep learning approach.\n",
    "\n",
    "\n",
    "Could also try augmenting the data, e.g. \"rotations\" and also rotate the frequencies as well\n",
    "* For this to be careful at first we want to establish a new mapping that is respected by both the row and column payoffs. E.g. 123 by 123 with game frequencys x, y, z becomes 312 by 312 and frequencies z, x, y\n",
    "\n",
    "So we can augment our data by 3! = 6 times, such that we have 1500 datapoints in the training set."
   ]
  },
  {
   "cell_type": "code",
   "execution_count": 323,
   "metadata": {},
   "outputs": [
    {
     "data": {
      "text/html": [
       "<div>\n",
       "<style scoped>\n",
       "    .dataframe tbody tr th:only-of-type {\n",
       "        vertical-align: middle;\n",
       "    }\n",
       "\n",
       "    .dataframe tbody tr th {\n",
       "        vertical-align: top;\n",
       "    }\n",
       "\n",
       "    .dataframe thead th {\n",
       "        text-align: right;\n",
       "    }\n",
       "</style>\n",
       "<table border=\"1\" class=\"dataframe\">\n",
       "  <thead>\n",
       "    <tr style=\"text-align: right;\">\n",
       "      <th></th>\n",
       "      <th>r11</th>\n",
       "      <th>r12</th>\n",
       "      <th>r13</th>\n",
       "      <th>r21</th>\n",
       "      <th>r22</th>\n",
       "      <th>r23</th>\n",
       "      <th>r31</th>\n",
       "      <th>r32</th>\n",
       "      <th>r33</th>\n",
       "      <th>c11</th>\n",
       "      <th>c12</th>\n",
       "      <th>c13</th>\n",
       "      <th>c21</th>\n",
       "      <th>c22</th>\n",
       "      <th>c23</th>\n",
       "      <th>c31</th>\n",
       "      <th>c32</th>\n",
       "      <th>c33</th>\n",
       "    </tr>\n",
       "  </thead>\n",
       "  <tbody>\n",
       "    <tr>\n",
       "      <th>0</th>\n",
       "      <td>80.0</td>\n",
       "      <td>50.0</td>\n",
       "      <td>80.0</td>\n",
       "      <td>20.0</td>\n",
       "      <td>90.0</td>\n",
       "      <td>60.0</td>\n",
       "      <td>30.0</td>\n",
       "      <td>10.0</td>\n",
       "      <td>10.0</td>\n",
       "      <td>70.0</td>\n",
       "      <td>30.0</td>\n",
       "      <td>40.0</td>\n",
       "      <td>60.0</td>\n",
       "      <td>10.0</td>\n",
       "      <td>70.0</td>\n",
       "      <td>10.0</td>\n",
       "      <td>40.0</td>\n",
       "      <td>50.0</td>\n",
       "    </tr>\n",
       "    <tr>\n",
       "      <th>1</th>\n",
       "      <td>20.0</td>\n",
       "      <td>51.0</td>\n",
       "      <td>50.0</td>\n",
       "      <td>10.0</td>\n",
       "      <td>70.0</td>\n",
       "      <td>30.0</td>\n",
       "      <td>60.0</td>\n",
       "      <td>5.0</td>\n",
       "      <td>45.0</td>\n",
       "      <td>20.0</td>\n",
       "      <td>10.0</td>\n",
       "      <td>60.0</td>\n",
       "      <td>51.0</td>\n",
       "      <td>70.0</td>\n",
       "      <td>5.0</td>\n",
       "      <td>50.0</td>\n",
       "      <td>30.0</td>\n",
       "      <td>45.0</td>\n",
       "    </tr>\n",
       "    <tr>\n",
       "      <th>2</th>\n",
       "      <td>70.0</td>\n",
       "      <td>100.0</td>\n",
       "      <td>48.0</td>\n",
       "      <td>10.0</td>\n",
       "      <td>29.0</td>\n",
       "      <td>40.0</td>\n",
       "      <td>40.0</td>\n",
       "      <td>60.0</td>\n",
       "      <td>100.0</td>\n",
       "      <td>70.0</td>\n",
       "      <td>10.0</td>\n",
       "      <td>40.0</td>\n",
       "      <td>100.0</td>\n",
       "      <td>29.0</td>\n",
       "      <td>60.0</td>\n",
       "      <td>48.0</td>\n",
       "      <td>40.0</td>\n",
       "      <td>100.0</td>\n",
       "    </tr>\n",
       "    <tr>\n",
       "      <th>3</th>\n",
       "      <td>20.0</td>\n",
       "      <td>60.0</td>\n",
       "      <td>70.0</td>\n",
       "      <td>30.0</td>\n",
       "      <td>90.0</td>\n",
       "      <td>20.0</td>\n",
       "      <td>40.0</td>\n",
       "      <td>40.0</td>\n",
       "      <td>50.0</td>\n",
       "      <td>40.0</td>\n",
       "      <td>20.0</td>\n",
       "      <td>80.0</td>\n",
       "      <td>90.0</td>\n",
       "      <td>40.0</td>\n",
       "      <td>90.0</td>\n",
       "      <td>60.0</td>\n",
       "      <td>10.0</td>\n",
       "      <td>60.0</td>\n",
       "    </tr>\n",
       "    <tr>\n",
       "      <th>4</th>\n",
       "      <td>13.0</td>\n",
       "      <td>80.0</td>\n",
       "      <td>60.0</td>\n",
       "      <td>74.0</td>\n",
       "      <td>20.0</td>\n",
       "      <td>70.0</td>\n",
       "      <td>60.0</td>\n",
       "      <td>100.0</td>\n",
       "      <td>10.0</td>\n",
       "      <td>13.0</td>\n",
       "      <td>74.0</td>\n",
       "      <td>60.0</td>\n",
       "      <td>80.0</td>\n",
       "      <td>20.0</td>\n",
       "      <td>100.0</td>\n",
       "      <td>60.0</td>\n",
       "      <td>70.0</td>\n",
       "      <td>10.0</td>\n",
       "    </tr>\n",
       "  </tbody>\n",
       "</table>\n",
       "</div>"
      ],
      "text/plain": [
       "    r11    r12   r13   r21   r22   r23   r31    r32    r33   c11   c12   c13  \\\n",
       "0  80.0   50.0  80.0  20.0  90.0  60.0  30.0   10.0   10.0  70.0  30.0  40.0   \n",
       "1  20.0   51.0  50.0  10.0  70.0  30.0  60.0    5.0   45.0  20.0  10.0  60.0   \n",
       "2  70.0  100.0  48.0  10.0  29.0  40.0  40.0   60.0  100.0  70.0  10.0  40.0   \n",
       "3  20.0   60.0  70.0  30.0  90.0  20.0  40.0   40.0   50.0  40.0  20.0  80.0   \n",
       "4  13.0   80.0  60.0  74.0  20.0  70.0  60.0  100.0   10.0  13.0  74.0  60.0   \n",
       "\n",
       "     c21   c22    c23   c31   c32    c33  \n",
       "0   60.0  10.0   70.0  10.0  40.0   50.0  \n",
       "1   51.0  70.0    5.0  50.0  30.0   45.0  \n",
       "2  100.0  29.0   60.0  48.0  40.0  100.0  \n",
       "3   90.0  40.0   90.0  60.0  10.0   60.0  \n",
       "4   80.0  20.0  100.0  60.0  70.0   10.0  "
      ]
     },
     "execution_count": 323,
     "metadata": {},
     "output_type": "execute_result"
    }
   ],
   "source": [
    "df_train_features.head()"
   ]
  },
  {
   "cell_type": "code",
   "execution_count": 324,
   "metadata": {},
   "outputs": [],
   "source": [
    "norm_payoffs_r = norm_payoffs[:250]\n",
    "norm_payoffs_c = norm_payoffs[250:]"
   ]
  },
  {
   "cell_type": "code",
   "execution_count": 350,
   "metadata": {},
   "outputs": [],
   "source": [
    "def transform(payoffs, rotations):  # rotations = [2, 1, 0]\n",
    "#     temp = norm_payoffs_c[:, 0]\n",
    "    new_payoffs = np.zeros(payoffs.shape)\n",
    "    for ix in range(len(rotations)):\n",
    "        new_payoffs[:, ix] = payoffs[:, rotations[ix]]\n",
    "    return new_payoffs"
   ]
  },
  {
   "cell_type": "markdown",
   "metadata": {},
   "source": [
    "### Augment Data"
   ]
  },
  {
   "cell_type": "code",
   "execution_count": 362,
   "metadata": {},
   "outputs": [],
   "source": [
    "import itertools\n",
    "orderings = list(itertools.permutations([0, 1, 2]))"
   ]
  },
  {
   "cell_type": "code",
   "execution_count": 376,
   "metadata": {},
   "outputs": [
    {
     "data": {
      "text/plain": [
       "array([[ 0.86842105,  0.07894737,  0.05263158,  1.        ],\n",
       "       [ 0.3       ,  0.55      ,  0.15      ,  2.        ],\n",
       "       [ 0.45      ,  0.        ,  0.55      ,  3.        ],\n",
       "       [ 0.42105263,  0.15789474,  0.42105263,  1.        ],\n",
       "       [ 0.125     ,  0.55      ,  0.325     ,  2.        ],\n",
       "       [ 0.425     ,  0.3       ,  0.275     ,  1.        ],\n",
       "       [ 0.28947368,  0.18421053,  0.52631579,  3.        ],\n",
       "       [ 0.32432432,  0.54054054,  0.13513514,  2.        ],\n",
       "       [ 0.125     ,  0.75      ,  0.125     ,  2.        ],\n",
       "       [ 0.625     ,  0.25      ,  0.125     ,  1.        ]])"
      ]
     },
     "execution_count": 376,
     "metadata": {},
     "output_type": "execute_result"
    }
   ],
   "source": [
    "df_train_truth.values[:10]"
   ]
  },
  {
   "cell_type": "code",
   "execution_count": 412,
   "metadata": {},
   "outputs": [],
   "source": [
    "augmented_data = []\n",
    "augmented_labels = []\n",
    "for order in orderings:\n",
    "    trans_payoffs_r = transform(norm_payoffs_r, order)\n",
    "    trans_payoffs_c = transform(norm_payoffs_c, order)\n",
    "    trans_freq = df_train_truth.apply(lambda x: x[list(order)], axis=1).values\n",
    "    augmented_data.append(np.array([trans_payoffs_r, trans_payoffs_c]))\n",
    "    augmented_labels.append(trans_freq)"
   ]
  },
  {
   "cell_type": "code",
   "execution_count": 408,
   "metadata": {},
   "outputs": [
    {
     "data": {
      "text/plain": [
       "(2, 250, 3, 3)"
      ]
     },
     "execution_count": 408,
     "metadata": {},
     "output_type": "execute_result"
    }
   ],
   "source": [
    "augmented_data[0].shape"
   ]
  },
  {
   "cell_type": "code",
   "execution_count": 433,
   "metadata": {},
   "outputs": [
    {
     "data": {
      "text/html": [
       "<div>\n",
       "<style scoped>\n",
       "    .dataframe tbody tr th:only-of-type {\n",
       "        vertical-align: middle;\n",
       "    }\n",
       "\n",
       "    .dataframe tbody tr th {\n",
       "        vertical-align: top;\n",
       "    }\n",
       "\n",
       "    .dataframe thead th {\n",
       "        text-align: right;\n",
       "    }\n",
       "</style>\n",
       "<table border=\"1\" class=\"dataframe\">\n",
       "  <thead>\n",
       "    <tr style=\"text-align: right;\">\n",
       "      <th></th>\n",
       "      <th>r11</th>\n",
       "      <th>r12</th>\n",
       "      <th>r13</th>\n",
       "      <th>r21</th>\n",
       "      <th>r22</th>\n",
       "      <th>r23</th>\n",
       "      <th>r31</th>\n",
       "      <th>r32</th>\n",
       "      <th>r33</th>\n",
       "      <th>c11</th>\n",
       "      <th>c12</th>\n",
       "      <th>c13</th>\n",
       "      <th>c21</th>\n",
       "      <th>c22</th>\n",
       "      <th>c23</th>\n",
       "      <th>c31</th>\n",
       "      <th>c32</th>\n",
       "      <th>c33</th>\n",
       "    </tr>\n",
       "  </thead>\n",
       "  <tbody>\n",
       "    <tr>\n",
       "      <th>0</th>\n",
       "      <td>80.0</td>\n",
       "      <td>50.0</td>\n",
       "      <td>80.0</td>\n",
       "      <td>20.0</td>\n",
       "      <td>90.0</td>\n",
       "      <td>60.0</td>\n",
       "      <td>30.0</td>\n",
       "      <td>10.0</td>\n",
       "      <td>10.0</td>\n",
       "      <td>70.0</td>\n",
       "      <td>30.0</td>\n",
       "      <td>40.0</td>\n",
       "      <td>60.0</td>\n",
       "      <td>10.0</td>\n",
       "      <td>70.0</td>\n",
       "      <td>10.0</td>\n",
       "      <td>40.0</td>\n",
       "      <td>50.0</td>\n",
       "    </tr>\n",
       "    <tr>\n",
       "      <th>1</th>\n",
       "      <td>20.0</td>\n",
       "      <td>51.0</td>\n",
       "      <td>50.0</td>\n",
       "      <td>10.0</td>\n",
       "      <td>70.0</td>\n",
       "      <td>30.0</td>\n",
       "      <td>60.0</td>\n",
       "      <td>5.0</td>\n",
       "      <td>45.0</td>\n",
       "      <td>20.0</td>\n",
       "      <td>10.0</td>\n",
       "      <td>60.0</td>\n",
       "      <td>51.0</td>\n",
       "      <td>70.0</td>\n",
       "      <td>5.0</td>\n",
       "      <td>50.0</td>\n",
       "      <td>30.0</td>\n",
       "      <td>45.0</td>\n",
       "    </tr>\n",
       "    <tr>\n",
       "      <th>2</th>\n",
       "      <td>70.0</td>\n",
       "      <td>100.0</td>\n",
       "      <td>48.0</td>\n",
       "      <td>10.0</td>\n",
       "      <td>29.0</td>\n",
       "      <td>40.0</td>\n",
       "      <td>40.0</td>\n",
       "      <td>60.0</td>\n",
       "      <td>100.0</td>\n",
       "      <td>70.0</td>\n",
       "      <td>10.0</td>\n",
       "      <td>40.0</td>\n",
       "      <td>100.0</td>\n",
       "      <td>29.0</td>\n",
       "      <td>60.0</td>\n",
       "      <td>48.0</td>\n",
       "      <td>40.0</td>\n",
       "      <td>100.0</td>\n",
       "    </tr>\n",
       "    <tr>\n",
       "      <th>3</th>\n",
       "      <td>20.0</td>\n",
       "      <td>60.0</td>\n",
       "      <td>70.0</td>\n",
       "      <td>30.0</td>\n",
       "      <td>90.0</td>\n",
       "      <td>20.0</td>\n",
       "      <td>40.0</td>\n",
       "      <td>40.0</td>\n",
       "      <td>50.0</td>\n",
       "      <td>40.0</td>\n",
       "      <td>20.0</td>\n",
       "      <td>80.0</td>\n",
       "      <td>90.0</td>\n",
       "      <td>40.0</td>\n",
       "      <td>90.0</td>\n",
       "      <td>60.0</td>\n",
       "      <td>10.0</td>\n",
       "      <td>60.0</td>\n",
       "    </tr>\n",
       "    <tr>\n",
       "      <th>4</th>\n",
       "      <td>13.0</td>\n",
       "      <td>80.0</td>\n",
       "      <td>60.0</td>\n",
       "      <td>74.0</td>\n",
       "      <td>20.0</td>\n",
       "      <td>70.0</td>\n",
       "      <td>60.0</td>\n",
       "      <td>100.0</td>\n",
       "      <td>10.0</td>\n",
       "      <td>13.0</td>\n",
       "      <td>74.0</td>\n",
       "      <td>60.0</td>\n",
       "      <td>80.0</td>\n",
       "      <td>20.0</td>\n",
       "      <td>100.0</td>\n",
       "      <td>60.0</td>\n",
       "      <td>70.0</td>\n",
       "      <td>10.0</td>\n",
       "    </tr>\n",
       "  </tbody>\n",
       "</table>\n",
       "</div>"
      ],
      "text/plain": [
       "    r11    r12   r13   r21   r22   r23   r31    r32    r33   c11   c12   c13  \\\n",
       "0  80.0   50.0  80.0  20.0  90.0  60.0  30.0   10.0   10.0  70.0  30.0  40.0   \n",
       "1  20.0   51.0  50.0  10.0  70.0  30.0  60.0    5.0   45.0  20.0  10.0  60.0   \n",
       "2  70.0  100.0  48.0  10.0  29.0  40.0  40.0   60.0  100.0  70.0  10.0  40.0   \n",
       "3  20.0   60.0  70.0  30.0  90.0  20.0  40.0   40.0   50.0  40.0  20.0  80.0   \n",
       "4  13.0   80.0  60.0  74.0  20.0  70.0  60.0  100.0   10.0  13.0  74.0  60.0   \n",
       "\n",
       "     c21   c22    c23   c31   c32    c33  \n",
       "0   60.0  10.0   70.0  10.0  40.0   50.0  \n",
       "1   51.0  70.0    5.0  50.0  30.0   45.0  \n",
       "2  100.0  29.0   60.0  48.0  40.0  100.0  \n",
       "3   90.0  40.0   90.0  60.0  10.0   60.0  \n",
       "4   80.0  20.0  100.0  60.0  70.0   10.0  "
      ]
     },
     "execution_count": 433,
     "metadata": {},
     "output_type": "execute_result"
    }
   ],
   "source": [
    "df_train_features.head()"
   ]
  },
  {
   "cell_type": "code",
   "execution_count": 454,
   "metadata": {},
   "outputs": [
    {
     "data": {
      "text/plain": [
       "array([[[ 0.8,  0.5,  0.8],\n",
       "        [ 0.2,  0.9,  0.6],\n",
       "        [ 0.3,  0.1,  0.1]],\n",
       "\n",
       "       [[ 0.7,  0.3,  0.4],\n",
       "        [ 0.6,  0.1,  0.7],\n",
       "        [ 0.1,  0.4,  0.5]]])"
      ]
     },
     "execution_count": 454,
     "metadata": {},
     "output_type": "execute_result"
    }
   ],
   "source": [
    "np.array(augmented_data).transpose([0, 2, 1, 3, 4]).reshape(250 * 6, 2, 3, 3)[0]"
   ]
  },
  {
   "cell_type": "code",
   "execution_count": 415,
   "metadata": {
    "scrolled": true
   },
   "outputs": [
    {
     "data": {
      "text/plain": [
       "array([[[[ 0.8 ,  0.5 ,  0.8 ],\n",
       "         [ 0.3 ,  0.1 ,  0.1 ],\n",
       "         [ 0.2 ,  0.9 ,  0.6 ]],\n",
       "\n",
       "        [[ 0.2 ,  0.51,  0.5 ],\n",
       "         [ 0.6 ,  0.05,  0.45],\n",
       "         [ 0.1 ,  0.7 ,  0.3 ]],\n",
       "\n",
       "        [[ 0.7 ,  1.  ,  0.48],\n",
       "         [ 0.4 ,  0.6 ,  1.  ],\n",
       "         [ 0.1 ,  0.29,  0.4 ]],\n",
       "\n",
       "        ..., \n",
       "        [[ 0.79,  0.51,  0.55],\n",
       "         [ 0.59,  0.67,  0.19],\n",
       "         [ 0.59,  0.31,  0.99]],\n",
       "\n",
       "        [[ 0.7 ,  0.8 ,  0.4 ],\n",
       "         [ 0.88,  0.3 ,  0.6 ],\n",
       "         [ 0.1 ,  0.1 ,  0.93]],\n",
       "\n",
       "        [[ 0.4 ,  0.35,  0.05],\n",
       "         [ 0.4 ,  0.01,  0.7 ],\n",
       "         [ 0.3 ,  0.4 ,  0.51]]],\n",
       "\n",
       "\n",
       "       [[[ 0.7 ,  0.3 ,  0.4 ],\n",
       "         [ 0.1 ,  0.4 ,  0.5 ],\n",
       "         [ 0.6 ,  0.1 ,  0.7 ]],\n",
       "\n",
       "        [[ 0.2 ,  0.1 ,  0.6 ],\n",
       "         [ 0.5 ,  0.3 ,  0.45],\n",
       "         [ 0.51,  0.7 ,  0.05]],\n",
       "\n",
       "        [[ 0.7 ,  0.1 ,  0.4 ],\n",
       "         [ 0.48,  0.4 ,  1.  ],\n",
       "         [ 1.  ,  0.29,  0.6 ]],\n",
       "\n",
       "        ..., \n",
       "        [[ 0.79,  0.59,  0.59],\n",
       "         [ 0.55,  0.99,  0.19],\n",
       "         [ 0.51,  0.31,  0.67]],\n",
       "\n",
       "        [[ 0.7 ,  0.1 ,  0.88],\n",
       "         [ 0.4 ,  0.93,  0.6 ],\n",
       "         [ 0.8 ,  0.1 ,  0.3 ]],\n",
       "\n",
       "        [[ 0.4 ,  0.3 ,  0.4 ],\n",
       "         [ 0.05,  0.51,  0.7 ],\n",
       "         [ 0.35,  0.4 ,  0.01]]]])"
      ]
     },
     "execution_count": 415,
     "metadata": {},
     "output_type": "execute_result"
    }
   ],
   "source": [
    "augmented_data[1]"
   ]
  },
  {
   "cell_type": "code",
   "execution_count": 427,
   "metadata": {},
   "outputs": [
    {
     "data": {
      "text/html": [
       "<div>\n",
       "<style scoped>\n",
       "    .dataframe tbody tr th:only-of-type {\n",
       "        vertical-align: middle;\n",
       "    }\n",
       "\n",
       "    .dataframe tbody tr th {\n",
       "        vertical-align: top;\n",
       "    }\n",
       "\n",
       "    .dataframe thead th {\n",
       "        text-align: right;\n",
       "    }\n",
       "</style>\n",
       "<table border=\"1\" class=\"dataframe\">\n",
       "  <thead>\n",
       "    <tr style=\"text-align: right;\">\n",
       "      <th></th>\n",
       "      <th>r11</th>\n",
       "      <th>r12</th>\n",
       "      <th>r13</th>\n",
       "      <th>r21</th>\n",
       "      <th>r22</th>\n",
       "      <th>r23</th>\n",
       "      <th>r31</th>\n",
       "      <th>r32</th>\n",
       "      <th>r33</th>\n",
       "      <th>c11</th>\n",
       "      <th>c12</th>\n",
       "      <th>c13</th>\n",
       "      <th>c21</th>\n",
       "      <th>c22</th>\n",
       "      <th>c23</th>\n",
       "      <th>c31</th>\n",
       "      <th>c32</th>\n",
       "      <th>c33</th>\n",
       "    </tr>\n",
       "  </thead>\n",
       "  <tbody>\n",
       "    <tr>\n",
       "      <th>0</th>\n",
       "      <td>80.0</td>\n",
       "      <td>50.0</td>\n",
       "      <td>80.0</td>\n",
       "      <td>20.0</td>\n",
       "      <td>90.0</td>\n",
       "      <td>60.0</td>\n",
       "      <td>30.0</td>\n",
       "      <td>10.0</td>\n",
       "      <td>10.0</td>\n",
       "      <td>70.0</td>\n",
       "      <td>30.0</td>\n",
       "      <td>40.0</td>\n",
       "      <td>60.0</td>\n",
       "      <td>10.0</td>\n",
       "      <td>70.0</td>\n",
       "      <td>10.0</td>\n",
       "      <td>40.0</td>\n",
       "      <td>50.0</td>\n",
       "    </tr>\n",
       "    <tr>\n",
       "      <th>1</th>\n",
       "      <td>20.0</td>\n",
       "      <td>51.0</td>\n",
       "      <td>50.0</td>\n",
       "      <td>10.0</td>\n",
       "      <td>70.0</td>\n",
       "      <td>30.0</td>\n",
       "      <td>60.0</td>\n",
       "      <td>5.0</td>\n",
       "      <td>45.0</td>\n",
       "      <td>20.0</td>\n",
       "      <td>10.0</td>\n",
       "      <td>60.0</td>\n",
       "      <td>51.0</td>\n",
       "      <td>70.0</td>\n",
       "      <td>5.0</td>\n",
       "      <td>50.0</td>\n",
       "      <td>30.0</td>\n",
       "      <td>45.0</td>\n",
       "    </tr>\n",
       "    <tr>\n",
       "      <th>2</th>\n",
       "      <td>70.0</td>\n",
       "      <td>100.0</td>\n",
       "      <td>48.0</td>\n",
       "      <td>10.0</td>\n",
       "      <td>29.0</td>\n",
       "      <td>40.0</td>\n",
       "      <td>40.0</td>\n",
       "      <td>60.0</td>\n",
       "      <td>100.0</td>\n",
       "      <td>70.0</td>\n",
       "      <td>10.0</td>\n",
       "      <td>40.0</td>\n",
       "      <td>100.0</td>\n",
       "      <td>29.0</td>\n",
       "      <td>60.0</td>\n",
       "      <td>48.0</td>\n",
       "      <td>40.0</td>\n",
       "      <td>100.0</td>\n",
       "    </tr>\n",
       "    <tr>\n",
       "      <th>3</th>\n",
       "      <td>20.0</td>\n",
       "      <td>60.0</td>\n",
       "      <td>70.0</td>\n",
       "      <td>30.0</td>\n",
       "      <td>90.0</td>\n",
       "      <td>20.0</td>\n",
       "      <td>40.0</td>\n",
       "      <td>40.0</td>\n",
       "      <td>50.0</td>\n",
       "      <td>40.0</td>\n",
       "      <td>20.0</td>\n",
       "      <td>80.0</td>\n",
       "      <td>90.0</td>\n",
       "      <td>40.0</td>\n",
       "      <td>90.0</td>\n",
       "      <td>60.0</td>\n",
       "      <td>10.0</td>\n",
       "      <td>60.0</td>\n",
       "    </tr>\n",
       "    <tr>\n",
       "      <th>4</th>\n",
       "      <td>13.0</td>\n",
       "      <td>80.0</td>\n",
       "      <td>60.0</td>\n",
       "      <td>74.0</td>\n",
       "      <td>20.0</td>\n",
       "      <td>70.0</td>\n",
       "      <td>60.0</td>\n",
       "      <td>100.0</td>\n",
       "      <td>10.0</td>\n",
       "      <td>13.0</td>\n",
       "      <td>74.0</td>\n",
       "      <td>60.0</td>\n",
       "      <td>80.0</td>\n",
       "      <td>20.0</td>\n",
       "      <td>100.0</td>\n",
       "      <td>60.0</td>\n",
       "      <td>70.0</td>\n",
       "      <td>10.0</td>\n",
       "    </tr>\n",
       "  </tbody>\n",
       "</table>\n",
       "</div>"
      ],
      "text/plain": [
       "    r11    r12   r13   r21   r22   r23   r31    r32    r33   c11   c12   c13  \\\n",
       "0  80.0   50.0  80.0  20.0  90.0  60.0  30.0   10.0   10.0  70.0  30.0  40.0   \n",
       "1  20.0   51.0  50.0  10.0  70.0  30.0  60.0    5.0   45.0  20.0  10.0  60.0   \n",
       "2  70.0  100.0  48.0  10.0  29.0  40.0  40.0   60.0  100.0  70.0  10.0  40.0   \n",
       "3  20.0   60.0  70.0  30.0  90.0  20.0  40.0   40.0   50.0  40.0  20.0  80.0   \n",
       "4  13.0   80.0  60.0  74.0  20.0  70.0  60.0  100.0   10.0  13.0  74.0  60.0   \n",
       "\n",
       "     c21   c22    c23   c31   c32    c33  \n",
       "0   60.0  10.0   70.0  10.0  40.0   50.0  \n",
       "1   51.0  70.0    5.0  50.0  30.0   45.0  \n",
       "2  100.0  29.0   60.0  48.0  40.0  100.0  \n",
       "3   90.0  40.0   90.0  60.0  10.0   60.0  \n",
       "4   80.0  20.0  100.0  60.0  70.0   10.0  "
      ]
     },
     "execution_count": 427,
     "metadata": {},
     "output_type": "execute_result"
    }
   ],
   "source": [
    "df_train_features.head()"
   ]
  },
  {
   "cell_type": "code",
   "execution_count": 430,
   "metadata": {},
   "outputs": [
    {
     "data": {
      "text/plain": [
       "array([[[ 0.2 ,  0.9 ,  0.6 ],\n",
       "        [ 0.3 ,  0.1 ,  0.1 ],\n",
       "        [ 0.8 ,  0.5 ,  0.8 ]],\n",
       "\n",
       "       [[ 0.1 ,  0.7 ,  0.3 ],\n",
       "        [ 0.6 ,  0.05,  0.45],\n",
       "        [ 0.2 ,  0.51,  0.5 ]],\n",
       "\n",
       "       [[ 0.1 ,  0.29,  0.4 ],\n",
       "        [ 0.4 ,  0.6 ,  1.  ],\n",
       "        [ 0.7 ,  1.  ,  0.48]],\n",
       "\n",
       "       ..., \n",
       "       [[ 0.55,  0.99,  0.19],\n",
       "        [ 0.51,  0.31,  0.67],\n",
       "        [ 0.79,  0.59,  0.59]],\n",
       "\n",
       "       [[ 0.4 ,  0.93,  0.6 ],\n",
       "        [ 0.8 ,  0.1 ,  0.3 ],\n",
       "        [ 0.7 ,  0.1 ,  0.88]],\n",
       "\n",
       "       [[ 0.05,  0.51,  0.7 ],\n",
       "        [ 0.35,  0.4 ,  0.01],\n",
       "        [ 0.4 ,  0.3 ,  0.4 ]]])"
      ]
     },
     "execution_count": 430,
     "metadata": {},
     "output_type": "execute_result"
    }
   ],
   "source": [
    "augmented_data[0]).reshape([2, 6 * 250, 3, 3])[1]"
   ]
  },
  {
   "cell_type": "code",
   "execution_count": 423,
   "metadata": {},
   "outputs": [
    {
     "data": {
      "text/plain": [
       "array([[ 0.86842105,  0.07894737,  0.05263158],\n",
       "       [ 0.3       ,  0.55      ,  0.15      ],\n",
       "       [ 0.45      ,  0.        ,  0.55      ],\n",
       "       ..., \n",
       "       [ 0.05405405,  0.14864865,  0.7972973 ],\n",
       "       [ 0.325     ,  0.1       ,  0.575     ],\n",
       "       [ 0.525     ,  0.375     ,  0.1       ]])"
      ]
     },
     "execution_count": 423,
     "metadata": {},
     "output_type": "execute_result"
    }
   ],
   "source": [
    "np.array(augmented_labels).reshape([6 * 250, 3])"
   ]
  },
  {
   "cell_type": "code",
   "execution_count": 369,
   "metadata": {
    "scrolled": true
   },
   "outputs": [
    {
     "data": {
      "text/plain": [
       "array([[[[ 0.8 ,  0.5 ,  0.8 ],\n",
       "         [ 0.2 ,  0.9 ,  0.6 ],\n",
       "         [ 0.3 ,  0.1 ,  0.1 ]],\n",
       "\n",
       "        [[ 0.2 ,  0.51,  0.5 ],\n",
       "         [ 0.1 ,  0.7 ,  0.3 ],\n",
       "         [ 0.6 ,  0.05,  0.45]],\n",
       "\n",
       "        [[ 0.7 ,  1.  ,  0.48],\n",
       "         [ 0.1 ,  0.29,  0.4 ],\n",
       "         [ 0.4 ,  0.6 ,  1.  ]],\n",
       "\n",
       "        ..., \n",
       "        [[ 0.79,  0.51,  0.55],\n",
       "         [ 0.59,  0.31,  0.99],\n",
       "         [ 0.59,  0.67,  0.19]],\n",
       "\n",
       "        [[ 0.7 ,  0.8 ,  0.4 ],\n",
       "         [ 0.1 ,  0.1 ,  0.93],\n",
       "         [ 0.88,  0.3 ,  0.6 ]],\n",
       "\n",
       "        [[ 0.4 ,  0.35,  0.05],\n",
       "         [ 0.3 ,  0.4 ,  0.51],\n",
       "         [ 0.4 ,  0.01,  0.7 ]]],\n",
       "\n",
       "\n",
       "       [[[ 0.7 ,  0.3 ,  0.4 ],\n",
       "         [ 0.6 ,  0.1 ,  0.7 ],\n",
       "         [ 0.1 ,  0.4 ,  0.5 ]],\n",
       "\n",
       "        [[ 0.2 ,  0.1 ,  0.6 ],\n",
       "         [ 0.51,  0.7 ,  0.05],\n",
       "         [ 0.5 ,  0.3 ,  0.45]],\n",
       "\n",
       "        [[ 0.7 ,  0.1 ,  0.4 ],\n",
       "         [ 1.  ,  0.29,  0.6 ],\n",
       "         [ 0.48,  0.4 ,  1.  ]],\n",
       "\n",
       "        ..., \n",
       "        [[ 0.79,  0.59,  0.59],\n",
       "         [ 0.51,  0.31,  0.67],\n",
       "         [ 0.55,  0.99,  0.19]],\n",
       "\n",
       "        [[ 0.7 ,  0.1 ,  0.88],\n",
       "         [ 0.8 ,  0.1 ,  0.3 ],\n",
       "         [ 0.4 ,  0.93,  0.6 ]],\n",
       "\n",
       "        [[ 0.4 ,  0.3 ,  0.4 ],\n",
       "         [ 0.35,  0.4 ,  0.01],\n",
       "         [ 0.05,  0.51,  0.7 ]]]])"
      ]
     },
     "execution_count": 369,
     "metadata": {},
     "output_type": "execute_result"
    }
   ],
   "source": [
    "augmented_data[0]"
   ]
  },
  {
   "cell_type": "code",
   "execution_count": 368,
   "metadata": {},
   "outputs": [
    {
     "data": {
      "text/plain": [
       "array([[[[ 0.8 ,  0.5 ,  0.8 ],\n",
       "         [ 0.3 ,  0.1 ,  0.1 ],\n",
       "         [ 0.2 ,  0.9 ,  0.6 ]],\n",
       "\n",
       "        [[ 0.2 ,  0.51,  0.5 ],\n",
       "         [ 0.6 ,  0.05,  0.45],\n",
       "         [ 0.1 ,  0.7 ,  0.3 ]],\n",
       "\n",
       "        [[ 0.7 ,  1.  ,  0.48],\n",
       "         [ 0.4 ,  0.6 ,  1.  ],\n",
       "         [ 0.1 ,  0.29,  0.4 ]],\n",
       "\n",
       "        ..., \n",
       "        [[ 0.79,  0.51,  0.55],\n",
       "         [ 0.59,  0.67,  0.19],\n",
       "         [ 0.59,  0.31,  0.99]],\n",
       "\n",
       "        [[ 0.7 ,  0.8 ,  0.4 ],\n",
       "         [ 0.88,  0.3 ,  0.6 ],\n",
       "         [ 0.1 ,  0.1 ,  0.93]],\n",
       "\n",
       "        [[ 0.4 ,  0.35,  0.05],\n",
       "         [ 0.4 ,  0.01,  0.7 ],\n",
       "         [ 0.3 ,  0.4 ,  0.51]]],\n",
       "\n",
       "\n",
       "       [[[ 0.7 ,  0.3 ,  0.4 ],\n",
       "         [ 0.1 ,  0.4 ,  0.5 ],\n",
       "         [ 0.6 ,  0.1 ,  0.7 ]],\n",
       "\n",
       "        [[ 0.2 ,  0.1 ,  0.6 ],\n",
       "         [ 0.5 ,  0.3 ,  0.45],\n",
       "         [ 0.51,  0.7 ,  0.05]],\n",
       "\n",
       "        [[ 0.7 ,  0.1 ,  0.4 ],\n",
       "         [ 0.48,  0.4 ,  1.  ],\n",
       "         [ 1.  ,  0.29,  0.6 ]],\n",
       "\n",
       "        ..., \n",
       "        [[ 0.79,  0.59,  0.59],\n",
       "         [ 0.55,  0.99,  0.19],\n",
       "         [ 0.51,  0.31,  0.67]],\n",
       "\n",
       "        [[ 0.7 ,  0.1 ,  0.88],\n",
       "         [ 0.4 ,  0.93,  0.6 ],\n",
       "         [ 0.8 ,  0.1 ,  0.3 ]],\n",
       "\n",
       "        [[ 0.4 ,  0.3 ,  0.4 ],\n",
       "         [ 0.05,  0.51,  0.7 ],\n",
       "         [ 0.35,  0.4 ,  0.01]]]])"
      ]
     },
     "execution_count": 368,
     "metadata": {},
     "output_type": "execute_result"
    }
   ],
   "source": [
    "augmented_data[1]"
   ]
  },
  {
   "cell_type": "code",
   "execution_count": 353,
   "metadata": {},
   "outputs": [
    {
     "data": {
      "text/plain": [
       "array([[[ 0.8 ,  0.5 ,  0.8 ],\n",
       "        [ 0.2 ,  0.9 ,  0.6 ],\n",
       "        [ 0.3 ,  0.1 ,  0.1 ]],\n",
       "\n",
       "       [[ 0.2 ,  0.51,  0.5 ],\n",
       "        [ 0.1 ,  0.7 ,  0.3 ],\n",
       "        [ 0.6 ,  0.05,  0.45]],\n",
       "\n",
       "       [[ 0.7 ,  1.  ,  0.48],\n",
       "        [ 0.1 ,  0.29,  0.4 ],\n",
       "        [ 0.4 ,  0.6 ,  1.  ]]])"
      ]
     },
     "execution_count": 353,
     "metadata": {},
     "output_type": "execute_result"
    }
   ],
   "source": [
    "norm_payoffs_r[:3]"
   ]
  },
  {
   "cell_type": "code",
   "execution_count": 354,
   "metadata": {},
   "outputs": [
    {
     "data": {
      "text/plain": [
       "array([[[ 0.3 ,  0.1 ,  0.1 ],\n",
       "        [ 0.2 ,  0.9 ,  0.6 ],\n",
       "        [ 0.8 ,  0.5 ,  0.8 ]],\n",
       "\n",
       "       [[ 0.6 ,  0.05,  0.45],\n",
       "        [ 0.1 ,  0.7 ,  0.3 ],\n",
       "        [ 0.2 ,  0.51,  0.5 ]],\n",
       "\n",
       "       [[ 0.4 ,  0.6 ,  1.  ],\n",
       "        [ 0.1 ,  0.29,  0.4 ],\n",
       "        [ 0.7 ,  1.  ,  0.48]]])"
      ]
     },
     "execution_count": 354,
     "metadata": {},
     "output_type": "execute_result"
    }
   ],
   "source": [
    "transform(norm_payoffs_r, [2, 1, 0])[:3]"
   ]
  },
  {
   "cell_type": "code",
   "execution_count": 355,
   "metadata": {},
   "outputs": [
    {
     "data": {
      "text/plain": [
       "array([[[ 0.7 ,  0.3 ,  0.4 ],\n",
       "        [ 0.6 ,  0.1 ,  0.7 ],\n",
       "        [ 0.1 ,  0.4 ,  0.5 ]],\n",
       "\n",
       "       [[ 0.2 ,  0.1 ,  0.6 ],\n",
       "        [ 0.51,  0.7 ,  0.05],\n",
       "        [ 0.5 ,  0.3 ,  0.45]],\n",
       "\n",
       "       [[ 0.7 ,  0.1 ,  0.4 ],\n",
       "        [ 1.  ,  0.29,  0.6 ],\n",
       "        [ 0.48,  0.4 ,  1.  ]]])"
      ]
     },
     "execution_count": 355,
     "metadata": {},
     "output_type": "execute_result"
    }
   ],
   "source": [
    "norm_payoffs_c[:3]"
   ]
  },
  {
   "cell_type": "code",
   "execution_count": 356,
   "metadata": {},
   "outputs": [
    {
     "data": {
      "text/plain": [
       "array([[[ 0.1 ,  0.4 ,  0.5 ],\n",
       "        [ 0.6 ,  0.1 ,  0.7 ],\n",
       "        [ 0.7 ,  0.3 ,  0.4 ]],\n",
       "\n",
       "       [[ 0.5 ,  0.3 ,  0.45],\n",
       "        [ 0.51,  0.7 ,  0.05],\n",
       "        [ 0.2 ,  0.1 ,  0.6 ]],\n",
       "\n",
       "       [[ 0.48,  0.4 ,  1.  ],\n",
       "        [ 1.  ,  0.29,  0.6 ],\n",
       "        [ 0.7 ,  0.1 ,  0.4 ]]])"
      ]
     },
     "execution_count": 356,
     "metadata": {},
     "output_type": "execute_result"
    }
   ],
   "source": [
    "transform(norm_payoffs_c, [2, 1, 0])[:3]"
   ]
  },
  {
   "cell_type": "markdown",
   "metadata": {},
   "source": [
    "### Data Augmentations"
   ]
  },
  {
   "cell_type": "code",
   "execution_count": 320,
   "metadata": {},
   "outputs": [
    {
     "data": {
      "text/plain": [
       "array([[[ 0.8 ,  0.5 ,  0.8 ],\n",
       "        [ 0.2 ,  0.9 ,  0.6 ],\n",
       "        [ 0.3 ,  0.1 ,  0.1 ]],\n",
       "\n",
       "       [[ 0.2 ,  0.51,  0.5 ],\n",
       "        [ 0.1 ,  0.7 ,  0.3 ],\n",
       "        [ 0.6 ,  0.05,  0.45]],\n",
       "\n",
       "       [[ 0.7 ,  1.  ,  0.48],\n",
       "        [ 0.1 ,  0.29,  0.4 ],\n",
       "        [ 0.4 ,  0.6 ,  1.  ]],\n",
       "\n",
       "       ..., \n",
       "       [[ 0.79,  0.59,  0.59],\n",
       "        [ 0.51,  0.31,  0.67],\n",
       "        [ 0.55,  0.99,  0.19]],\n",
       "\n",
       "       [[ 0.7 ,  0.1 ,  0.88],\n",
       "        [ 0.8 ,  0.1 ,  0.3 ],\n",
       "        [ 0.4 ,  0.93,  0.6 ]],\n",
       "\n",
       "       [[ 0.4 ,  0.3 ,  0.4 ],\n",
       "        [ 0.35,  0.4 ,  0.01],\n",
       "        [ 0.05,  0.51,  0.7 ]]])"
      ]
     },
     "execution_count": 320,
     "metadata": {},
     "output_type": "execute_result"
    }
   ],
   "source": [
    "norm_payoffs"
   ]
  },
  {
   "cell_type": "code",
   "execution_count": null,
   "metadata": {},
   "outputs": [],
   "source": [
    "## Load saved model (with hooks this time)\n",
    "model_all_mse_s = ConvNetPdBig(softmax=True, dropout=0.5, channels=5)\n",
    "model_all_mse_s.load_state_dict(torch.load('./model_all_mse_200.pt'))\n",
    "model_all_mse_s.to(DEVICE)\n",
    "model_all_mse_s.eval()"
   ]
  }
 ],
 "metadata": {
  "kernelspec": {
   "display_name": "pyml",
   "language": "python",
   "name": "pyml"
  },
  "language_info": {
   "codemirror_mode": {
    "name": "ipython",
    "version": 3
   },
   "file_extension": ".py",
   "mimetype": "text/x-python",
   "name": "python",
   "nbconvert_exporter": "python",
   "pygments_lexer": "ipython3",
   "version": "3.6.8"
  }
 },
 "nbformat": 4,
 "nbformat_minor": 2
}
